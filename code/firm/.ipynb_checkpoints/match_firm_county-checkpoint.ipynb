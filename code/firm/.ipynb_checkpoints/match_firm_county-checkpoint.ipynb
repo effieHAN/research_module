{
 "cells": [
  {
   "cell_type": "code",
   "execution_count": 1,
   "metadata": {},
   "outputs": [],
   "source": [
    "import pandas as pd\n",
    "import numpy as np\n",
    "import geopandas as gpd\n",
    "import matplotlib.pyplot as plt\n",
    "plt.style.use('seaborn')\n",
    "\n",
    "%matplotlib inline"
   ]
  },
  {
   "cell_type": "code",
   "execution_count": 2,
   "metadata": {},
   "outputs": [],
   "source": [
    "path=\"/Users/effie/Desktop/term3/research_project/\""
   ]
  },
  {
   "cell_type": "markdown",
   "metadata": {},
   "source": [
    "### read in the data with all infor and export the id for orbis "
   ]
  },
  {
   "cell_type": "code",
   "execution_count": null,
   "metadata": {
    "scrolled": true
   },
   "outputs": [],
   "source": [
    "data=pd.read_stata(path+\"data/firm_raw/firm_sample_21_1213.dta\")\n",
    "data_postcode=data['BvDID_firm']\n",
    "data_postcode=data['BvDID_firm'].unique()\n",
    "pd.DataFrame(data_postcode).to_csv(path+'data/firm_raw/export_firm_id.csv', header=None, index=None)\n",
    "\n",
    "data"
   ]
  },
  {
   "cell_type": "code",
   "execution_count": null,
   "metadata": {},
   "outputs": [],
   "source": [
    "len(data_postcode)"
   ]
  },
  {
   "cell_type": "markdown",
   "metadata": {},
   "source": [
    "# firm to county"
   ]
  },
  {
   "cell_type": "markdown",
   "metadata": {},
   "source": [
    "### plz to county"
   ]
  },
  {
   "cell_type": "code",
   "execution_count": null,
   "metadata": {
    "scrolled": true
   },
   "outputs": [],
   "source": [
    "# plz_county= pd.read_csv(\n",
    "#     path+'data/plot_data/plz-gebiete.shp/zuordnung_plz_ort.csv', \n",
    "#     sep=',', \n",
    "#     dtype={'plz': str}\n",
    "# )\n",
    "\n",
    "# plz_county.drop('osm_id', axis=1, inplace=True)\n",
    "\n",
    "# plz_county=plz_county.astype(str)\n",
    "# plz_county= plz_county.drop_duplicates(subset=['plz'])\n",
    "# plz_county\n",
    "# len(plz_county[\"ort\"].unique())"
   ]
  },
  {
   "cell_type": "code",
   "execution_count": null,
   "metadata": {},
   "outputs": [],
   "source": []
  },
  {
   "cell_type": "code",
   "execution_count": null,
   "metadata": {},
   "outputs": [],
   "source": []
  },
  {
   "cell_type": "code",
   "execution_count": null,
   "metadata": {},
   "outputs": [],
   "source": []
  },
  {
   "cell_type": "code",
   "execution_count": null,
   "metadata": {
    "scrolled": true
   },
   "outputs": [],
   "source": [
    "plz_county= pd.read_csv(\n",
    "    path+'data/plot_data/plz-buland-kreis.csv', \n",
    "    sep=',', \n",
    "    dtype={'plz': str}\n",
    ")\n",
    "# plz_county=plz_county.astype(str)\n",
    "plz_county= plz_county.drop_duplicates(subset=['plz'])\n",
    "\n",
    "plz_county=plz_county.reset_index().drop(['index'], axis=1)\n",
    "\n",
    "plz_county['plz'] = plz_county['plz'].astype(str)\n",
    "plz_county['plz'] = np.where(plz_county['plz'].str.len()<5,\"0\"+plz_county['plz'],plz_county['plz'])\n",
    "\n",
    "plz_county['kreisschluessel'] = plz_county['kreisschluessel'].astype(str)\n",
    "plz_county['kreisschluessel'] = np.where(plz_county['kreisschluessel'].str.len()<5,\"0\"+plz_county['kreisschluessel'],plz_county['kreisschluessel'])\n",
    "plz_county=plz_county.drop(columns=[\"Unnamed: 4\"])\n",
    "plz_county= plz_county.drop_duplicates(subset=['plz'])\n",
    "\n",
    "\n",
    "plz_county"
   ]
  },
  {
   "cell_type": "code",
   "execution_count": null,
   "metadata": {},
   "outputs": [],
   "source": [
    "plz_county['matching'] = [x[:4] for x in plz_county['plz']]"
   ]
  },
  {
   "cell_type": "code",
   "execution_count": null,
   "metadata": {
    "scrolled": true
   },
   "outputs": [],
   "source": [
    "plz_county"
   ]
  },
  {
   "cell_type": "code",
   "execution_count": null,
   "metadata": {},
   "outputs": [],
   "source": [
    "plz_county= plz_county.drop_duplicates(subset=['matching'])\n",
    "\n"
   ]
  },
  {
   "cell_type": "code",
   "execution_count": null,
   "metadata": {},
   "outputs": [],
   "source": [
    "len(plz_county[\"matching\"].unique())"
   ]
  },
  {
   "cell_type": "code",
   "execution_count": null,
   "metadata": {},
   "outputs": [],
   "source": [
    "len(plz_county[\"kreis\"].unique())"
   ]
  },
  {
   "cell_type": "markdown",
   "metadata": {},
   "source": [
    "### firm plz cleaning "
   ]
  },
  {
   "cell_type": "code",
   "execution_count": null,
   "metadata": {},
   "outputs": [],
   "source": [
    "firm_plz1=pd.read_csv(path+\"data/firm_raw/firm_postcode.csv\", sep=';',engine='python',header=0)"
   ]
  },
  {
   "cell_type": "code",
   "execution_count": null,
   "metadata": {
    "scrolled": true
   },
   "outputs": [],
   "source": [
    "firm_plz1.reset_index(level=0, inplace=True)\n",
    "firm_plz1= firm_plz1.rename(columns={'index': 'BvDID_firm',\"bvdid\":\"plz\"})\n",
    "firm_plz1= firm_plz1.drop_duplicates(subset=['BvDID_firm'])\n"
   ]
  },
  {
   "cell_type": "code",
   "execution_count": null,
   "metadata": {},
   "outputs": [],
   "source": [
    "missing=firm_plz1[firm_plz1[\"plz\"].isnull()]\n"
   ]
  },
  {
   "cell_type": "code",
   "execution_count": null,
   "metadata": {},
   "outputs": [],
   "source": [
    "missing=missing['BvDID_firm']\n",
    "pd.DataFrame(missing).to_csv(path+\"data/firm_raw/export_missing_id.csv\", header=None, index=None)\n",
    "\n",
    "\n"
   ]
  },
  {
   "cell_type": "code",
   "execution_count": null,
   "metadata": {},
   "outputs": [],
   "source": [
    "missing_plz=pd.read_csv(path+\"data/firm_raw/missing_firm_county.csv\",sep=';',engine='python',header=0)\n",
    "missing_plz.reset_index(level=0, inplace=True)\n",
    "missing_plz= missing_plz.rename(columns={'index': 'BvDID_firm',\"BvD ID number\":\"plz\"})\n",
    "missing_plz=missing_plz.dropna()"
   ]
  },
  {
   "cell_type": "code",
   "execution_count": null,
   "metadata": {
    "scrolled": true
   },
   "outputs": [],
   "source": [
    "missing_plz"
   ]
  },
  {
   "cell_type": "code",
   "execution_count": null,
   "metadata": {
    "scrolled": true
   },
   "outputs": [],
   "source": [
    "firm_plz = pd.merge(left=firm_plz1, right=missing_plz, on=[\"BvDID_firm\"],how='left')\n",
    "firm_plz['plz'] = np.where(firm_plz['plz_x'].notnull(),firm_plz['plz_x'], firm_plz['plz_y'])\n",
    "firm_plz= firm_plz.drop(['plz_x','plz_y'], axis=1)\n",
    "firm_plz"
   ]
  },
  {
   "cell_type": "code",
   "execution_count": null,
   "metadata": {
    "scrolled": true
   },
   "outputs": [],
   "source": [
    "missing_2=firm_plz[firm_plz[\"plz\"].isnull()]\n",
    "missing_2   ####  no county infor at all drop them \n"
   ]
  },
  {
   "cell_type": "code",
   "execution_count": null,
   "metadata": {},
   "outputs": [],
   "source": [
    "firm_plz=firm_plz[firm_plz['plz'].notna()]\n",
    "firm_plz[\"plz\"]=firm_plz['plz'].astype(str).replace('\\.0', '', regex=True)\n",
    "firm_plz['plz']=np.where(firm_plz['plz'].str.len()<5, \"0\"+firm_plz['plz'], firm_plz['plz']);\n"
   ]
  },
  {
   "cell_type": "code",
   "execution_count": null,
   "metadata": {},
   "outputs": [],
   "source": [
    "firm_plz"
   ]
  },
  {
   "cell_type": "code",
   "execution_count": null,
   "metadata": {},
   "outputs": [],
   "source": [
    "firm_postcode=firm_plz.copy()\n",
    "firm_postcode.loc[1,\"plz\"]=\"67059\"\n",
    "firm_postcode.loc[7,\"plz\"]=\"40629\"\n",
    "firm_postcode.loc[78,\"plz\"]=\"60323\"\n",
    "firm_postcode.loc[79,\"plz\"]=\"92224\"\n",
    "firm_postcode.loc[184,\"plz\"]=\"07743\"\n",
    "firm_postcode.loc[969,\"plz\"]=\"04103\"\n",
    "firm_postcode.loc[14609,\"plz\"]=\"79692\"\n",
    "firm_postcode.loc[18420,\"plz\"]=\"60323\""
   ]
  },
  {
   "cell_type": "code",
   "execution_count": null,
   "metadata": {},
   "outputs": [],
   "source": [
    "firm_postcode.replace(\"05821\",\"25821\",inplace=True)\n",
    "firm_postcode.replace(\"31885\",\"31855\",inplace=True)\n",
    "firm_postcode.replace(\"96529\",\"96528\",inplace=True)\n",
    "firm_postcode.replace(\"06018\",\"06110\",inplace=True)\n",
    "firm_postcode.replace('39599',\"39628\",inplace=True)\n",
    "firm_postcode.replace('04316',\"04229\",inplace=True)\n",
    "firm_postcode.replace('04178',\"04229\",inplace=True)\n",
    "\n",
    "\n",
    "\n",
    "#correct errors "
   ]
  },
  {
   "cell_type": "code",
   "execution_count": null,
   "metadata": {},
   "outputs": [],
   "source": [
    "firm_postcode['matching'] = [x[:4] for x in firm_postcode['plz']]"
   ]
  },
  {
   "cell_type": "code",
   "execution_count": null,
   "metadata": {
    "scrolled": false
   },
   "outputs": [],
   "source": [
    "firm_postcode"
   ]
  },
  {
   "cell_type": "code",
   "execution_count": null,
   "metadata": {},
   "outputs": [],
   "source": []
  },
  {
   "cell_type": "markdown",
   "metadata": {},
   "source": [
    "### firm plz to county"
   ]
  },
  {
   "cell_type": "code",
   "execution_count": null,
   "metadata": {
    "scrolled": false
   },
   "outputs": [],
   "source": [
    "county_firm= pd.merge(\n",
    "    left=firm_postcode, \n",
    "    right=plz_county, \n",
    "    on='matching',\n",
    "    how='left'\n",
    ")\n",
    "\n",
    "county_firm"
   ]
  },
  {
   "cell_type": "code",
   "execution_count": null,
   "metadata": {
    "scrolled": false
   },
   "outputs": [],
   "source": [
    "county_firm[county_firm[\"kreis\"].isnull()]  ## every firms that have plz can match to county"
   ]
  },
  {
   "cell_type": "code",
   "execution_count": null,
   "metadata": {},
   "outputs": [],
   "source": [
    "missing4=county_firm[county_firm[\"kreis\"].isnull()]  \n",
    "missing4=missing4['BvDID_firm']\n",
    "pd.DataFrame(missing4).to_csv(path+\"data/firm_raw/export_missing4_id.csv\", header=None, index=None)\n",
    "\n"
   ]
  },
  {
   "cell_type": "code",
   "execution_count": null,
   "metadata": {},
   "outputs": [],
   "source": [
    "ddddd"
   ]
  },
  {
   "cell_type": "code",
   "execution_count": null,
   "metadata": {},
   "outputs": [],
   "source": []
  },
  {
   "cell_type": "code",
   "execution_count": null,
   "metadata": {},
   "outputs": [],
   "source": []
  },
  {
   "cell_type": "code",
   "execution_count": null,
   "metadata": {},
   "outputs": [],
   "source": []
  },
  {
   "cell_type": "markdown",
   "metadata": {},
   "source": [
    "### county to all infor\n"
   ]
  },
  {
   "cell_type": "code",
   "execution_count": null,
   "metadata": {},
   "outputs": [],
   "source": [
    "data"
   ]
  },
  {
   "cell_type": "code",
   "execution_count": null,
   "metadata": {},
   "outputs": [],
   "source": [
    "missing_2=pd.DataFrame(missing_2) \n",
    "missing_2"
   ]
  },
  {
   "cell_type": "code",
   "execution_count": null,
   "metadata": {},
   "outputs": [],
   "source": [
    "data=data[~data.BvDID_firm.isin(missing_2.BvDID_firm)] ## missing_2 are the ones have no county infor drop them "
   ]
  },
  {
   "cell_type": "code",
   "execution_count": null,
   "metadata": {},
   "outputs": [],
   "source": [
    "whole= pd.merge(\n",
    "    left=county_firm, \n",
    "    right=data, \n",
    "    on='BvDID_firm',\n",
    "    how='right'\n",
    ")\n",
    "\n",
    "whole"
   ]
  },
  {
   "cell_type": "code",
   "execution_count": null,
   "metadata": {},
   "outputs": [],
   "source": [
    "missing_3=whole[whole[\"ort\"].isnull()]    ###some firm are not found in orbis so dont match\n",
    "missing_3"
   ]
  },
  {
   "cell_type": "code",
   "execution_count": null,
   "metadata": {
    "scrolled": true
   },
   "outputs": [],
   "source": [
    "missing_3[\"BvDID_firm\"].nunique()"
   ]
  },
  {
   "cell_type": "code",
   "execution_count": null,
   "metadata": {},
   "outputs": [],
   "source": [
    "whole=whole[whole['kreis'].notna()]\n",
    "whole"
   ]
  },
  {
   "cell_type": "code",
   "execution_count": null,
   "metadata": {},
   "outputs": [],
   "source": [
    "whole.to_csv(path+\"data/firm_raw/ready_for_identified_affected_firm.csv\")"
   ]
  },
  {
   "cell_type": "code",
   "execution_count": null,
   "metadata": {},
   "outputs": [],
   "source": []
  },
  {
   "cell_type": "code",
   "execution_count": null,
   "metadata": {},
   "outputs": [],
   "source": []
  }
 ],
 "metadata": {
  "kernelspec": {
   "display_name": "Python 3",
   "language": "python",
   "name": "python3"
  },
  "language_info": {
   "codemirror_mode": {
    "name": "ipython",
    "version": 3
   },
   "file_extension": ".py",
   "mimetype": "text/x-python",
   "name": "python",
   "nbconvert_exporter": "python",
   "pygments_lexer": "ipython3",
   "version": "3.8.5"
  }
 },
 "nbformat": 4,
 "nbformat_minor": 4
}
