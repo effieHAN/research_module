{
 "cells": [
  {
   "cell_type": "markdown",
   "metadata": {},
   "source": [
    "# Firm level data"
   ]
  },
  {
   "cell_type": "code",
   "execution_count": 1,
   "metadata": {},
   "outputs": [],
   "source": [
    "import pandas as pd \n",
    "import numpy as np"
   ]
  },
  {
   "cell_type": "code",
   "execution_count": 2,
   "metadata": {},
   "outputs": [
    {
     "ename": "FileNotFoundError",
     "evalue": "[Errno 2] No such file or directory: '/Users/effie/Desktop/term3/research_project/data/firm_raw/ready_for_identified_affected_firm.csv'",
     "output_type": "error",
     "traceback": [
      "\u001b[0;31m---------------------------------------------------------------------------\u001b[0m",
      "\u001b[0;31mFileNotFoundError\u001b[0m                         Traceback (most recent call last)",
      "\u001b[0;32m<ipython-input-2-d281d154be6a>\u001b[0m in \u001b[0;36m<module>\u001b[0;34m\u001b[0m\n\u001b[1;32m      2\u001b[0m \u001b[0;34m\u001b[0m\u001b[0m\n\u001b[1;32m      3\u001b[0m \u001b[0mpath\u001b[0m\u001b[0;34m=\u001b[0m\u001b[0;34m\"/Users/effie/Desktop/term3/research_project/data/\"\u001b[0m\u001b[0;34m\u001b[0m\u001b[0;34m\u001b[0m\u001b[0m\n\u001b[0;32m----> 4\u001b[0;31m \u001b[0mdata\u001b[0m\u001b[0;34m=\u001b[0m\u001b[0mpd\u001b[0m\u001b[0;34m.\u001b[0m\u001b[0mread_csv\u001b[0m\u001b[0;34m(\u001b[0m\u001b[0mpath\u001b[0m\u001b[0;34m+\u001b[0m\u001b[0;34m\"firm_raw/ready_for_identified_affected_firm.csv\"\u001b[0m\u001b[0;34m)\u001b[0m\u001b[0;34m\u001b[0m\u001b[0;34m\u001b[0m\u001b[0m\n\u001b[0m",
      "\u001b[0;32m~/opt/anaconda3/lib/python3.8/site-packages/pandas/io/parsers.py\u001b[0m in \u001b[0;36mread_csv\u001b[0;34m(filepath_or_buffer, sep, delimiter, header, names, index_col, usecols, squeeze, prefix, mangle_dupe_cols, dtype, engine, converters, true_values, false_values, skipinitialspace, skiprows, skipfooter, nrows, na_values, keep_default_na, na_filter, verbose, skip_blank_lines, parse_dates, infer_datetime_format, keep_date_col, date_parser, dayfirst, cache_dates, iterator, chunksize, compression, thousands, decimal, lineterminator, quotechar, quoting, doublequote, escapechar, comment, encoding, dialect, error_bad_lines, warn_bad_lines, delim_whitespace, low_memory, memory_map, float_precision)\u001b[0m\n\u001b[1;32m    684\u001b[0m     )\n\u001b[1;32m    685\u001b[0m \u001b[0;34m\u001b[0m\u001b[0m\n\u001b[0;32m--> 686\u001b[0;31m     \u001b[0;32mreturn\u001b[0m \u001b[0m_read\u001b[0m\u001b[0;34m(\u001b[0m\u001b[0mfilepath_or_buffer\u001b[0m\u001b[0;34m,\u001b[0m \u001b[0mkwds\u001b[0m\u001b[0;34m)\u001b[0m\u001b[0;34m\u001b[0m\u001b[0;34m\u001b[0m\u001b[0m\n\u001b[0m\u001b[1;32m    687\u001b[0m \u001b[0;34m\u001b[0m\u001b[0m\n\u001b[1;32m    688\u001b[0m \u001b[0;34m\u001b[0m\u001b[0m\n",
      "\u001b[0;32m~/opt/anaconda3/lib/python3.8/site-packages/pandas/io/parsers.py\u001b[0m in \u001b[0;36m_read\u001b[0;34m(filepath_or_buffer, kwds)\u001b[0m\n\u001b[1;32m    450\u001b[0m \u001b[0;34m\u001b[0m\u001b[0m\n\u001b[1;32m    451\u001b[0m     \u001b[0;31m# Create the parser.\u001b[0m\u001b[0;34m\u001b[0m\u001b[0;34m\u001b[0m\u001b[0;34m\u001b[0m\u001b[0m\n\u001b[0;32m--> 452\u001b[0;31m     \u001b[0mparser\u001b[0m \u001b[0;34m=\u001b[0m \u001b[0mTextFileReader\u001b[0m\u001b[0;34m(\u001b[0m\u001b[0mfp_or_buf\u001b[0m\u001b[0;34m,\u001b[0m \u001b[0;34m**\u001b[0m\u001b[0mkwds\u001b[0m\u001b[0;34m)\u001b[0m\u001b[0;34m\u001b[0m\u001b[0;34m\u001b[0m\u001b[0m\n\u001b[0m\u001b[1;32m    453\u001b[0m \u001b[0;34m\u001b[0m\u001b[0m\n\u001b[1;32m    454\u001b[0m     \u001b[0;32mif\u001b[0m \u001b[0mchunksize\u001b[0m \u001b[0;32mor\u001b[0m \u001b[0miterator\u001b[0m\u001b[0;34m:\u001b[0m\u001b[0;34m\u001b[0m\u001b[0;34m\u001b[0m\u001b[0m\n",
      "\u001b[0;32m~/opt/anaconda3/lib/python3.8/site-packages/pandas/io/parsers.py\u001b[0m in \u001b[0;36m__init__\u001b[0;34m(self, f, engine, **kwds)\u001b[0m\n\u001b[1;32m    944\u001b[0m             \u001b[0mself\u001b[0m\u001b[0;34m.\u001b[0m\u001b[0moptions\u001b[0m\u001b[0;34m[\u001b[0m\u001b[0;34m\"has_index_names\"\u001b[0m\u001b[0;34m]\u001b[0m \u001b[0;34m=\u001b[0m \u001b[0mkwds\u001b[0m\u001b[0;34m[\u001b[0m\u001b[0;34m\"has_index_names\"\u001b[0m\u001b[0;34m]\u001b[0m\u001b[0;34m\u001b[0m\u001b[0;34m\u001b[0m\u001b[0m\n\u001b[1;32m    945\u001b[0m \u001b[0;34m\u001b[0m\u001b[0m\n\u001b[0;32m--> 946\u001b[0;31m         \u001b[0mself\u001b[0m\u001b[0;34m.\u001b[0m\u001b[0m_make_engine\u001b[0m\u001b[0;34m(\u001b[0m\u001b[0mself\u001b[0m\u001b[0;34m.\u001b[0m\u001b[0mengine\u001b[0m\u001b[0;34m)\u001b[0m\u001b[0;34m\u001b[0m\u001b[0;34m\u001b[0m\u001b[0m\n\u001b[0m\u001b[1;32m    947\u001b[0m \u001b[0;34m\u001b[0m\u001b[0m\n\u001b[1;32m    948\u001b[0m     \u001b[0;32mdef\u001b[0m \u001b[0mclose\u001b[0m\u001b[0;34m(\u001b[0m\u001b[0mself\u001b[0m\u001b[0;34m)\u001b[0m\u001b[0;34m:\u001b[0m\u001b[0;34m\u001b[0m\u001b[0;34m\u001b[0m\u001b[0m\n",
      "\u001b[0;32m~/opt/anaconda3/lib/python3.8/site-packages/pandas/io/parsers.py\u001b[0m in \u001b[0;36m_make_engine\u001b[0;34m(self, engine)\u001b[0m\n\u001b[1;32m   1176\u001b[0m     \u001b[0;32mdef\u001b[0m \u001b[0m_make_engine\u001b[0m\u001b[0;34m(\u001b[0m\u001b[0mself\u001b[0m\u001b[0;34m,\u001b[0m \u001b[0mengine\u001b[0m\u001b[0;34m=\u001b[0m\u001b[0;34m\"c\"\u001b[0m\u001b[0;34m)\u001b[0m\u001b[0;34m:\u001b[0m\u001b[0;34m\u001b[0m\u001b[0;34m\u001b[0m\u001b[0m\n\u001b[1;32m   1177\u001b[0m         \u001b[0;32mif\u001b[0m \u001b[0mengine\u001b[0m \u001b[0;34m==\u001b[0m \u001b[0;34m\"c\"\u001b[0m\u001b[0;34m:\u001b[0m\u001b[0;34m\u001b[0m\u001b[0;34m\u001b[0m\u001b[0m\n\u001b[0;32m-> 1178\u001b[0;31m             \u001b[0mself\u001b[0m\u001b[0;34m.\u001b[0m\u001b[0m_engine\u001b[0m \u001b[0;34m=\u001b[0m \u001b[0mCParserWrapper\u001b[0m\u001b[0;34m(\u001b[0m\u001b[0mself\u001b[0m\u001b[0;34m.\u001b[0m\u001b[0mf\u001b[0m\u001b[0;34m,\u001b[0m \u001b[0;34m**\u001b[0m\u001b[0mself\u001b[0m\u001b[0;34m.\u001b[0m\u001b[0moptions\u001b[0m\u001b[0;34m)\u001b[0m\u001b[0;34m\u001b[0m\u001b[0;34m\u001b[0m\u001b[0m\n\u001b[0m\u001b[1;32m   1179\u001b[0m         \u001b[0;32melse\u001b[0m\u001b[0;34m:\u001b[0m\u001b[0;34m\u001b[0m\u001b[0;34m\u001b[0m\u001b[0m\n\u001b[1;32m   1180\u001b[0m             \u001b[0;32mif\u001b[0m \u001b[0mengine\u001b[0m \u001b[0;34m==\u001b[0m \u001b[0;34m\"python\"\u001b[0m\u001b[0;34m:\u001b[0m\u001b[0;34m\u001b[0m\u001b[0;34m\u001b[0m\u001b[0m\n",
      "\u001b[0;32m~/opt/anaconda3/lib/python3.8/site-packages/pandas/io/parsers.py\u001b[0m in \u001b[0;36m__init__\u001b[0;34m(self, src, **kwds)\u001b[0m\n\u001b[1;32m   2006\u001b[0m         \u001b[0mkwds\u001b[0m\u001b[0;34m[\u001b[0m\u001b[0;34m\"usecols\"\u001b[0m\u001b[0;34m]\u001b[0m \u001b[0;34m=\u001b[0m \u001b[0mself\u001b[0m\u001b[0;34m.\u001b[0m\u001b[0musecols\u001b[0m\u001b[0;34m\u001b[0m\u001b[0;34m\u001b[0m\u001b[0m\n\u001b[1;32m   2007\u001b[0m \u001b[0;34m\u001b[0m\u001b[0m\n\u001b[0;32m-> 2008\u001b[0;31m         \u001b[0mself\u001b[0m\u001b[0;34m.\u001b[0m\u001b[0m_reader\u001b[0m \u001b[0;34m=\u001b[0m \u001b[0mparsers\u001b[0m\u001b[0;34m.\u001b[0m\u001b[0mTextReader\u001b[0m\u001b[0;34m(\u001b[0m\u001b[0msrc\u001b[0m\u001b[0;34m,\u001b[0m \u001b[0;34m**\u001b[0m\u001b[0mkwds\u001b[0m\u001b[0;34m)\u001b[0m\u001b[0;34m\u001b[0m\u001b[0;34m\u001b[0m\u001b[0m\n\u001b[0m\u001b[1;32m   2009\u001b[0m         \u001b[0mself\u001b[0m\u001b[0;34m.\u001b[0m\u001b[0munnamed_cols\u001b[0m \u001b[0;34m=\u001b[0m \u001b[0mself\u001b[0m\u001b[0;34m.\u001b[0m\u001b[0m_reader\u001b[0m\u001b[0;34m.\u001b[0m\u001b[0munnamed_cols\u001b[0m\u001b[0;34m\u001b[0m\u001b[0;34m\u001b[0m\u001b[0m\n\u001b[1;32m   2010\u001b[0m \u001b[0;34m\u001b[0m\u001b[0m\n",
      "\u001b[0;32mpandas/_libs/parsers.pyx\u001b[0m in \u001b[0;36mpandas._libs.parsers.TextReader.__cinit__\u001b[0;34m()\u001b[0m\n",
      "\u001b[0;32mpandas/_libs/parsers.pyx\u001b[0m in \u001b[0;36mpandas._libs.parsers.TextReader._setup_parser_source\u001b[0;34m()\u001b[0m\n",
      "\u001b[0;31mFileNotFoundError\u001b[0m: [Errno 2] No such file or directory: '/Users/effie/Desktop/term3/research_project/data/firm_raw/ready_for_identified_affected_firm.csv'"
     ]
    }
   ],
   "source": [
    "# data=pd.read_csv(\"/Users/mengxi/Desktop/financial research/HAN/firm-county/ready_for_identified_affected_firm.csv\")\n",
    "\n",
    "path=\"/Users/effie/Desktop/term3/research_project/data/\"\n",
    "data=pd.read_csv(path+\"firm_raw/ready_for_identified_affected_firm.csv\")"
   ]
  },
  {
   "cell_type": "code",
   "execution_count": null,
   "metadata": {
    "scrolled": true
   },
   "outputs": [],
   "source": [
    "data=data.reset_index().drop(['index'], axis=1)\n",
    "data.index=data.index+1\n",
    "\n",
    "data = data.loc[:, ~data.columns.str.contains('^Unnamed')]\n",
    "data"
   ]
  },
  {
   "cell_type": "code",
   "execution_count": null,
   "metadata": {},
   "outputs": [],
   "source": [
    "data = data.query('bank_type_1==\"Savings banks\"|bank_type_2==\"Savings banks\"|bank_type_3==\"Savings banks\"')\n",
    "\n",
    "# data = data.query('bank_type_1==\"Savings banks\"')\n",
    "# data = data.query('bank_type_2==\"Savings banks\"')\n",
    "# data = data.query('bank_type_3==\"Savings banks\"')\n",
    "\n",
    "data = data.query('2003<year<2013')\n",
    "\n",
    "data=data.reset_index().drop(['index'], axis=1)\n",
    "data.index=data.index+1"
   ]
  },
  {
   "cell_type": "code",
   "execution_count": null,
   "metadata": {},
   "outputs": [],
   "source": [
    "# data['year'].value_counts()"
   ]
  },
  {
   "cell_type": "code",
   "execution_count": null,
   "metadata": {},
   "outputs": [],
   "source": [
    "query_data = data.query('empl<20')\n",
    "data.loc[:,'small'] = data.index.map(lambda x : 1 if x in query_data.index else 0)\n",
    "\n",
    "query_data = data.query('year>2008')\n",
    "data.loc[:,'year_post'] = data.index.map(lambda x : 1 if x in query_data.index else 0)\n",
    "\n",
    "data"
   ]
  },
  {
   "cell_type": "code",
   "execution_count": null,
   "metadata": {},
   "outputs": [],
   "source": [
    "# data['country_bank_1']=[x[:2] for x in data['BvDID_bank_1']]\n",
    "# data = data.query('country_bank_1==\"DE\"')\n",
    "\n",
    "# data['country_bank_2']=[x[:2] for x in data['BvDID_bank_2']]\n",
    "# data = data.query('country_bank_2==\"DE\"')\n",
    "\n",
    "# data['country_bank_3']=[x[:2] for x in data['BvDID_bank_3']]\n",
    "# data = data.query('country_bank_3==\"DE\"')\n",
    "\n",
    "data['postcode_bank_1'] = data['postcode_bank_1'].fillna(0)\n",
    "data['postcode_bank_2'] = data['postcode_bank_2'].fillna(0)\n",
    "data['postcode_bank_3'] = data['postcode_bank_3'].fillna(0)\n",
    "\n",
    "\n",
    "data['postcode_bank_1'] = data['postcode_bank_1'].astype(str)\n",
    "data['postcode_bank_2'] = data['postcode_bank_2'].astype(int)\n",
    "data['postcode_bank_3'] = data['postcode_bank_3'].astype(int)\n",
    "\n",
    "data['postcode_bank_2'] = data['postcode_bank_2'].astype(str)\n",
    "data['postcode_bank_3'] = data['postcode_bank_3'].astype(str)\n",
    "\n",
    "data['postcode_bank_1']=np.where(data['postcode_bank_1'].str.len()<5, \"0\"+data['postcode_bank_1'], data['postcode_bank_1'])\n",
    "data['postcode_bank_2']=np.where(data['postcode_bank_2'].str.len()<5, \"0\"+data['postcode_bank_2'], data['postcode_bank_2'])\n",
    "data['postcode_bank_3']=np.where(data['postcode_bank_3'].str.len()<5, \"0\"+data['postcode_bank_3'], data['postcode_bank_3'])\n",
    "\n",
    "\n",
    "\n",
    "data=data.reset_index().drop(['index'], axis=1)\n",
    "data.index=data.index+1\n"
   ]
  },
  {
   "cell_type": "code",
   "execution_count": null,
   "metadata": {},
   "outputs": [],
   "source": [
    "query_data = data.query('bank_type_1==\"Savings banks\"')\n",
    "data.loc[:,'bank_ty_1'] = data.index.map(lambda x : 1 if x in query_data.index else 0)\n",
    "\n",
    "query_data = data.query('bank_type_2==\"Savings banks\"')\n",
    "data.loc[:,'bank_ty_2'] = data.index.map(lambda x : 1 if x in query_data.index else 0)\n",
    "\n",
    "query_data = data.query('bank_type_3==\"Savings banks\"')\n",
    "data.loc[:,'bank_ty_3'] = data.index.map(lambda x : 1 if x in query_data.index else 0)"
   ]
  },
  {
   "cell_type": "code",
   "execution_count": null,
   "metadata": {},
   "outputs": [],
   "source": [
    "data['post_affected_1_1']=[x[:1] for x in data['postcode_bank_1']]\n",
    "data['post_affected_1_2']=[x[:1] for x in data['postcode_bank_2']]\n",
    "data['post_affected_1_3']=[x[:1] for x in data['postcode_bank_3']]\n",
    "\n",
    "data['post_affected_2_1']=[x[:2] for x in data['postcode_bank_1']]\n",
    "data['post_affected_2_2']=[x[:2] for x in data['postcode_bank_2']]\n",
    "data['post_affected_2_3']=[x[:2] for x in data['postcode_bank_3']]\n",
    "\n",
    "# affected states: Sachsen, Nordrhein-Westfalen, Baden-Württemberg, Bayern, Hamburg, Schleswig-Holstein\n",
    "# postcode of affected banks \n",
    "# 01 02 04 08 09\n",
    "# 32 33 40 41 42 44 45 46 47 48151 48249 48282 48431 48599 48703 48653 49477 49525 50 51 52 53879 53937 53604 53111 57072 57462 57413 57439 57319 57392 57258 57271 58 59 \n",
    "# 68 69 70 71 72 73 74 75 76646 76133 76530 76437 76275 77 78 79 88 89 97\n",
    "# 63739 63897 8(80 81 82 83 84 85 86 87 88 89) 90 91 92 93 94 95 96 97 \n",
    "# 20 21073 22 23701 23909 23552 24 25\n",
    "# 34x 37x 43x\n",
    "\n",
    "\n",
    "# bank_1\n",
    "query_df_11 = data.query('postcode_bank_1==\"48151\"|postcode_bank_1==\"48249\"|postcode_bank_1==\"48282\"|postcode_bank_1==\"48431\"|postcode_bank_1==\"48599\"|postcode_bank_1==\"48703\"|postcode_bank_1==\"48653\"|postcode_bank_1==\"49477\"|postcode_bank_1==\"49525\"|postcode_bank_1==\"53879\"|postcode_bank_1==\"53937\"|postcode_bank_1==\"53604\"|postcode_bank_1==\"53111\"|postcode_bank_1==\"57072\"|postcode_bank_1==\"57462\"|postcode_bank_1==\"57413\"|postcode_bank_1==\"57439\"|postcode_bank_1==\"57319\"|postcode_bank_1==\"57392\"|postcode_bank_1==\"57258\"|postcode_bank_1==\"57271\"')          \n",
    "data.loc[:,'bank_affected_11'] = data.index.map(lambda x : 1 if x in query_df_11.index else 0)\n",
    "\n",
    "query_df_21 = data.query('post_affected_2_1==\"01\"|post_affected_2_1==\"02\"|post_affected_2_1==\"04\"|post_affected_2_1==\"08\"|post_affected_2_1==\"09\"|post_affected_2_1==\"32\"|post_affected_2_1==\"33\"|post_affected_2_1==\"40\"|post_affected_2_1==\"41\"|post_affected_2_1==\"42\"|post_affected_2_1==\"44\"|post_affected_2_1==\"45\"|post_affected_2_1==\"46\"|post_affected_2_1==\"47\"|post_affected_2_1==\"50\"|post_affected_2_1==\"51\"|post_affected_2_1==\"52\"|post_affected_2_1==\"58\"|post_affected_2_1==\"59\"|post_affected_2_1==\"68\"|post_affected_2_1==\"69\"|post_affected_2_1==\"70\"|post_affected_2_1==\"71\"|post_affected_2_1==\"72\"|post_affected_2_1==\"73\"|post_affected_2_1==\"74\"|post_affected_2_1==\"75\"|post_affected_2_1==\"77\"|post_affected_2_1==\"78\"|post_affected_2_1==\"79\"')                \n",
    "data.loc[:,'bank_affected_21'] = data.index.map(lambda x : 1 if x in query_df_21.index else 0)\n",
    "\n",
    "query_df_31 = data.query('post_affected_1_1==\"8\"|post_affected_2_1==\"90\"|post_affected_2_1==\"91\"|post_affected_2_1==\"92\"|post_affected_2_1==\"93\"|post_affected_2_1==\"94\"|post_affected_2_1==\"95\"|post_affected_2_1==\"96\"|post_affected_2_1==\"97\"|post_affected_2_1==\"20\"|post_affected_2_1==\"22\"|post_affected_2_1==\"24\"|post_affected_2_1==\"25\"|postcode_bank_1==\"76646\"|postcode_bank_1==\"76133\"|postcode_bank_1==\"76530\"|postcode_bank_1==\"76437\"|postcode_bank_1==\"76275\"|postcode_bank_1==\"63739\"|postcode_bank_1==\"63897\"|postcode_bank_1==\"21073\"|postcode_bank_1==\"23701\"|postcode_bank_1==\"23909\"|postcode_bank_1==\"23552\"')\n",
    "data.loc[:,'bank_affected_31'] = data.index.map(lambda x : 1 if x in query_df_31.index else 0)\n",
    "\n",
    "# bank_2\n",
    "query_df_12 = data.query('postcode_bank_2==\"48151\"|postcode_bank_2==\"48249\"|postcode_bank_2==\"48282\"|postcode_bank_2==\"48431\"|postcode_bank_2==\"48599\"|postcode_bank_2==\"48703\"|postcode_bank_2==\"48653\"|postcode_bank_2==\"49477\"|postcode_bank_2==\"49525\"|postcode_bank_2==\"53879\"|postcode_bank_2==\"53937\"|postcode_bank_2==\"53604\"|postcode_bank_2==\"53111\"|postcode_bank_2==\"57072\"|postcode_bank_2==\"57462\"|postcode_bank_2==\"57413\"|postcode_bank_2==\"57439\"|postcode_bank_2==\"57319\"|postcode_bank_2==\"57392\"|postcode_bank_2==\"57258\"|postcode_bank_2==\"57271\"')          \n",
    "data.loc[:,'bank_affected_12'] = data.index.map(lambda x : 1 if x in query_df_12.index else 0)\n",
    "\n",
    "query_df_22 = data.query('post_affected_2_2==\"01\"|post_affected_2_2==\"02\"|post_affected_2_2==\"04\"|post_affected_2_2==\"08\"|post_affected_2_2==\"09\"|post_affected_2_2==\"32\"|post_affected_2_2==\"33\"|post_affected_2_2==\"40\"|post_affected_2_2==\"41\"|post_affected_2_2==\"42\"|post_affected_2_2==\"44\"|post_affected_2_2==\"45\"|post_affected_2_2==\"46\"|post_affected_2_2==\"47\"|post_affected_2_2==\"50\"|post_affected_2_2==\"51\"|post_affected_2_2==\"52\"|post_affected_2_2==\"58\"|post_affected_2_2==\"59\"|post_affected_2_2==\"68\"|post_affected_2_2==\"69\"|post_affected_2_2==\"70\"|post_affected_2_2==\"71\"|post_affected_2_2==\"72\"|post_affected_2_2==\"73\"|post_affected_2_2==\"74\"|post_affected_2_2==\"75\"|post_affected_2_2==\"77\"|post_affected_2_2==\"78\"|post_affected_2_2==\"79\"')                \n",
    "data.loc[:,'bank_affected_22'] = data.index.map(lambda x : 1 if x in query_df_22.index else 0)\n",
    "\n",
    "query_df_32 = data.query('post_affected_1_2==\"8\"|post_affected_2_2==\"90\"|post_affected_2_2==\"91\"|post_affected_2_2==\"92\"|post_affected_2_2==\"93\"|post_affected_2_2==\"94\"|post_affected_2_2==\"95\"|post_affected_2_2==\"96\"|post_affected_2_2==\"97\"|post_affected_2_2==\"20\"|post_affected_2_2==\"22\"|post_affected_2_2==\"24\"|post_affected_2_2==\"25\"|postcode_bank_2==\"76646\"|postcode_bank_2==\"76133\"|postcode_bank_2==\"76530\"|postcode_bank_2==\"76437\"|postcode_bank_2==\"76275\"|postcode_bank_2==\"63739\"|postcode_bank_2==\"63897\"|postcode_bank_2==\"21073\"|postcode_bank_2==\"23701\"|postcode_bank_2==\"23909\"|postcode_bank_2==\"23552\"')\n",
    "data.loc[:,'bank_affected_32'] = data.index.map(lambda x : 1 if x in query_df_32.index else 0)\n",
    "\n",
    "# bank_3\n",
    "query_df_13 = data.query('postcode_bank_3==\"48151\"|postcode_bank_3==\"48249\"|postcode_bank_3==\"48282\"|postcode_bank_3==\"48431\"|postcode_bank_3==\"48599\"|postcode_bank_3==\"48703\"|postcode_bank_3==\"48653\"|postcode_bank_3==\"49477\"|postcode_bank_3==\"49525\"|postcode_bank_3==\"53879\"|postcode_bank_3==\"53937\"|postcode_bank_3==\"53604\"|postcode_bank_3==\"53111\"|postcode_bank_3==\"57072\"|postcode_bank_3==\"57462\"|postcode_bank_3==\"57413\"|postcode_bank_3==\"57439\"|postcode_bank_3==\"57319\"|postcode_bank_3==\"57392\"|postcode_bank_3==\"57258\"|postcode_bank_3==\"57271\"')          \n",
    "data.loc[:,'bank_affected_13'] = data.index.map(lambda x : 1 if x in query_df_13.index else 0)\n",
    "\n",
    "query_df_23 = data.query('post_affected_2_3==\"01\"|post_affected_2_3==\"02\"|post_affected_2_3==\"04\"|post_affected_2_3==\"08\"|post_affected_2_3==\"09\"|post_affected_2_3==\"32\"|post_affected_2_3==\"33\"|post_affected_2_3==\"40\"|post_affected_2_3==\"41\"|post_affected_2_3==\"42\"|post_affected_2_3==\"44\"|post_affected_2_3==\"45\"|post_affected_2_3==\"46\"|post_affected_2_3==\"47\"|post_affected_2_3==\"50\"|post_affected_2_3==\"51\"|post_affected_2_3==\"52\"|post_affected_2_3==\"58\"|post_affected_2_3==\"59\"|post_affected_2_3==\"68\"|post_affected_2_3==\"69\"|post_affected_2_3==\"70\"|post_affected_2_3==\"71\"|post_affected_2_3==\"72\"|post_affected_2_3==\"73\"|post_affected_2_3==\"74\"|post_affected_2_3==\"75\"|post_affected_2_3==\"77\"|post_affected_2_3==\"78\"|post_affected_2_3==\"79\"')                \n",
    "data.loc[:,'bank_affected_23'] = data.index.map(lambda x : 1 if x in query_df_23.index else 0)\n",
    "\n",
    "query_df_33 = data.query('post_affected_1_3==\"8\"|post_affected_2_3==\"90\"|post_affected_2_3==\"91\"|post_affected_2_3==\"92\"|post_affected_2_3==\"93\"|post_affected_2_3==\"94\"|post_affected_2_3==\"95\"|post_affected_2_3==\"96\"|post_affected_2_3==\"97\"|post_affected_2_3==\"20\"|post_affected_2_3==\"22\"|post_affected_2_3==\"24\"|post_affected_2_3==\"25\"|postcode_bank_3==\"76646\"|postcode_bank_3==\"76133\"|postcode_bank_3==\"76530\"|postcode_bank_3==\"76437\"|postcode_bank_3==\"76275\"|postcode_bank_3==\"63739\"|postcode_bank_3==\"63897\"|postcode_bank_3==\"21073\"|postcode_bank_3==\"23701\"|postcode_bank_3==\"23909\"|postcode_bank_3==\"23552\"')\n",
    "data.loc[:,'bank_affected_33'] = data.index.map(lambda x : 1 if x in query_df_33.index else 0)\n",
    "\n",
    "\n",
    "# \n",
    "\n",
    "query_df_1 = data.query('bank_affected_11==1|bank_affected_21==1|bank_affected_31==1')\n",
    "data.loc[:,'bank_affected_1'] = data.index.map(lambda x : 1 if x in query_df_1.index else 0)\n",
    "\n",
    "query_df_2 = data.query('bank_affected_12==1|bank_affected_22==1|bank_affected_32==1')\n",
    "data.loc[:,'bank_affected_2'] = data.index.map(lambda x : 1 if x in query_df_2.index else 0)\n",
    "\n",
    "query_df_3 = data.query('bank_affected_13==1|bank_affected_23==1|bank_affected_33==1')\n",
    "data.loc[:,'bank_affected_3'] = data.index.map(lambda x : 1 if x in query_df_3.index else 0)\n",
    "\n",
    "data"
   ]
  },
  {
   "cell_type": "code",
   "execution_count": null,
   "metadata": {},
   "outputs": [],
   "source": [
    "data['kreisschluessel'] = data['kreisschluessel'].astype(str)\n",
    "data['kreisschluessel'] = np.where(data['kreisschluessel'].str.len()<5,\"0\"+data['kreisschluessel'],data['kreisschluessel'])\n",
    "\n",
    "data"
   ]
  },
  {
   "cell_type": "code",
   "execution_count": null,
   "metadata": {},
   "outputs": [],
   "source": [
    "data.columns"
   ]
  },
  {
   "cell_type": "code",
   "execution_count": null,
   "metadata": {},
   "outputs": [],
   "source": [
    "data=data[['BvDID_firm', 'year', 'plz_firm', 'kreis', 'kreisschluessel', 'bundesland', 'BvDID_bank_1', 'postcode_bank_1', 'data2025_1',\n",
    "       'data2075_1', 'data11750_1', 'data30680_1', 'data30690_1',\n",
    "       'data38250_1', 'bank_type_1', 'liquidity_1', 'BvDID_bank_2',\n",
    "       'postcode_bank_2', 'data2025_2', 'data2075_2', 'data11750_2',\n",
    "       'data30680_2', 'data30690_2', 'data38250_2', 'bank_type_2',\n",
    "       'liquidity_2', 'BvDID_bank_3', 'postcode_bank_3', 'data2025_3',\n",
    "       'data2075_3', 'data11750_3', 'data30680_3', 'data30690_3',\n",
    "       'data38250_3', 'bank_type_3', 'liquidity_3', 'fias', 'tfas', 'cash',\n",
    "       'toas', 'shfd', 'ncli', 'ltdb', 'oncl', 'prov', 'culi', 'loan', 'cred',\n",
    "       'wkca', 'ncas', 'empl', 'opre', 'turn', 'gros', 'staf', 'depr', 'cf',\n",
    "       'rcem', 'rtas', 'dateinc_year_firm', 'sizecat', 'sector', 'adequacy',\n",
    "       'hausbank', 'KID_firm', 'empllev', 'staflev', 'fiaslev', 'tfaslev',\n",
    "       'cashlev', 'toaslev', 'provlev', 'ncaslev', 'turnlev', 'groslev',\n",
    "       'deprlev', 'culilev', 'loanlev', 'credlev', 'nclilev', 'ltdblev',\n",
    "       'oncllev', 'wkcalev', 'shfdlev', 'random', 'random_sample_indicator',\n",
    "       'small', 'year_post', 'bank_ty_1', 'bank_ty_2', 'bank_ty_3',\n",
    "       'bank_affected_1','bank_affected_2','bank_affected_3']]\n",
    "data"
   ]
  },
  {
   "cell_type": "code",
   "execution_count": null,
   "metadata": {},
   "outputs": [],
   "source": [
    "data.eval('tyaf_1 = bank_ty_1 * bank_affected_1', inplace=True)\n",
    "data.eval('tyaf_2 = bank_ty_2 * bank_affected_2', inplace=True)\n",
    "data.eval('tyaf_3 = bank_ty_3 * bank_affected_3', inplace=True)\n",
    "\n",
    "data"
   ]
  },
  {
   "cell_type": "code",
   "execution_count": null,
   "metadata": {},
   "outputs": [],
   "source": [
    "query_bank_affected = data.query('tyaf_1==1|tyaf_2==1|tyaf_3==1')\n",
    "data.loc[:,'bank_affected'] = data.index.map(lambda x : 1 if x in query_bank_affected.index else 0)\n",
    "\n",
    "data.eval('bank_affected_degree = tyaf_1 + tyaf_2 + tyaf_3', inplace=True)"
   ]
  },
  {
   "cell_type": "code",
   "execution_count": null,
   "metadata": {},
   "outputs": [],
   "source": [
    "data"
   ]
  },
  {
   "cell_type": "code",
   "execution_count": null,
   "metadata": {},
   "outputs": [],
   "source": [
    "data['bank_affected'].value_counts()"
   ]
  },
  {
   "cell_type": "code",
   "execution_count": null,
   "metadata": {},
   "outputs": [],
   "source": [
    "data['bank_affected_degree'].value_counts()"
   ]
  },
  {
   "cell_type": "code",
   "execution_count": null,
   "metadata": {},
   "outputs": [],
   "source": [
    "data=data[['BvDID_firm', 'year', 'plz_firm', 'kreis', 'kreisschluessel', 'bundesland', 'BvDID_bank_1', 'postcode_bank_1', 'data2025_1',\n",
    "       'data2075_1', 'data11750_1', 'data30680_1', 'data30690_1',\n",
    "       'data38250_1', 'bank_type_1', 'liquidity_1', 'BvDID_bank_2',\n",
    "       'postcode_bank_2', 'data2025_2', 'data2075_2', 'data11750_2',\n",
    "       'data30680_2', 'data30690_2', 'data38250_2', 'bank_type_2',\n",
    "       'liquidity_2', 'BvDID_bank_3', 'postcode_bank_3', 'data2025_3',\n",
    "       'data2075_3', 'data11750_3', 'data30680_3', 'data30690_3',\n",
    "       'data38250_3', 'bank_type_3', 'liquidity_3', 'fias', 'tfas', 'cash',\n",
    "       'toas', 'shfd', 'ncli', 'ltdb', 'oncl', 'prov', 'culi', 'loan', 'cred',\n",
    "       'wkca', 'ncas', 'empl', 'opre', 'turn', 'gros', 'staf', 'depr', 'cf',\n",
    "       'rcem', 'rtas', 'dateinc_year_firm', 'sizecat', 'sector', 'adequacy',\n",
    "       'hausbank', 'KID_firm', 'empllev', 'staflev', 'fiaslev', 'tfaslev',\n",
    "       'cashlev', 'toaslev', 'provlev', 'ncaslev', 'turnlev', 'groslev',\n",
    "       'deprlev', 'culilev', 'loanlev', 'credlev', 'nclilev', 'ltdblev',\n",
    "       'oncllev', 'wkcalev', 'shfdlev', 'random', 'random_sample_indicator',\n",
    "       'small', 'year_post', 'bank_ty_1', 'bank_ty_2', 'bank_ty_3',\n",
    "       'bank_affected', 'bank_affected_degree']]\n",
    "data"
   ]
  },
  {
   "cell_type": "code",
   "execution_count": null,
   "metadata": {},
   "outputs": [],
   "source": [
    "#data.to_csv(path_or_buf=r'/Users/mengxi/Desktop/financial research/final/211219 - data.csv')"
   ]
  },
  {
   "cell_type": "code",
   "execution_count": null,
   "metadata": {},
   "outputs": [],
   "source": [
    "data['ort_1'] = data['kreis'].str.replace(\"Bad Doberan\", \"Rostock, Landkreis\", n=-1)\n",
    "data['ort_2'] = data['ort_1'].str.replace(\"Güstrow\", \"Rostock, Landkreis\", n=-1)\n",
    "\n",
    "data['ort_3'] = data['ort_2'].str.replace(\"Demmin\", \"Mecklenburgische Seenplatte\", n=-1)\n",
    "data['ort_4'] = data['ort_3'].str.replace(\"Neubrandenburg\", \"Mecklenburgische Seenplatte\", n=-1)\n",
    "data['ort_5'] = data['ort_4'].str.replace(\"Müritz\", \"Mecklenburgische Seenplatte\", n=-1)\n",
    "data['ort_6'] = data['ort_5'].str.replace(\"Mecklenburg-Strelitz\", \"Mecklenburgische Seenplatte\", n=-1)\n",
    "\n",
    "data['ort_7'] = data['ort_6'].str.replace(\"Uecker-Randow\", \"Vorpommern-Greifswald\", n=-1)\n",
    "data['ort_8'] = data['ort_7'].str.replace(\"Ostvorpommern\", \"Vorpommern-Greifswald\", n=-1)\n",
    "data['ort_9'] = data['ort_8'].str.replace(\"Greifswald\", \"Vorpommern-Greifswald\", n=-1)\n",
    "\n",
    "data['ort_10'] = data['ort_9'].str.replace(\"Stralsund\", \"Vorpommern-Rügen\", n=-1)\n",
    "data['ort_11'] = data['ort_10'].str.replace(\"Nordvorpommern\", \"Vorpommern-Rügen\", n=-1)\n",
    "data['ort_12'] = data['ort_11'].str.replace(\"Rügen\", \"Vorpommern-Rügen\", n=-1)\n",
    "\n",
    "data['ort_13'] = data['ort_12'].str.replace(\"Wismar\", \"Nordwestmecklenburg\", n=-1)\n",
    "\n",
    "data['ort_14'] = data['ort_13'].str.replace(\"Parchim\", \"Ludwigslust-Parchim\", n=-1)\n",
    "data['ort_15'] = data['ort_14'].str.replace(\"Ludwigslust\", \"Ludwigslust-Parchim\", n=-1)\n",
    "\n",
    "\n",
    "\n",
    "\n",
    "\n",
    "data['ort_16'] = data['ort_15'].str.replace(\"Kamenz\", \"Bautzen\", n=-1)\n",
    "data['ort_17'] = data['ort_16'].str.replace(\"Hoyerswerda, Stadt\", \"Bautzen\", n=-1)\n",
    "\n",
    "data['ort_18'] = data['ort_17'].str.replace(\"Riesa-Großenhain\", \"Meißen\", n=-1)\n",
    "\n",
    "data['ort_19'] = data['ort_18'].str.replace(\"Weißeritzkreis\", \"Sächsische Schweiz-Osterzgebirge\", n=-1)\n",
    "data['ort_20'] = data['ort_19'].str.replace(\"Sächsische Schweiz\", \"Sächsische Schweiz-Osterzgebirge\", n=-1)\n",
    "\n",
    "data['ort_21'] = data['ort_20'].str.replace(\"Döbeln\", \"Mittelsachsen\", n=-1)\n",
    "data['ort_22'] = data['ort_21'].str.replace(\"Mittweida\", \"Mittelsachsen\", n=-1)\n",
    "data['ort_23'] = data['ort_22'].str.replace(\"Freiberg\", \"Mittelsachsen\", n=-1)\n",
    "\n",
    "data['ort_24'] = data['ort_23'].str.replace(\"Delitzsch\", \"Nordsachsen\", n=-1)\n",
    "data['ort_25'] = data['ort_24'].str.replace(\"Torgau-Oschatz\", \"Nordsachsen\", n=-1)\n",
    "\n",
    "data['ort_26'] = data['ort_25'].str.replace(\"Leipziger Land\", \"Leipzig, Landkreis\", n=-1)\n",
    "data['ort_27'] = data['ort_26'].str.replace(\"Muldentalkreis\", \"Leipzig, Landkreis\", n=-1)\n",
    "\n",
    "data['ort_28'] = data['ort_27'].str.replace(\"Chemnitzer Land\", \"Zwickau\", n=-1)\n",
    "data['ort_29'] = data['ort_28'].str.replace(\"Zwickauer Land\", \"Zwickau\", n=-1)\n",
    "data['ort_30'] = data['ort_29'].str.replace(\"Zwickau, Stadt\", \"Zwickau\", n=-1)\n",
    "\n",
    "data['ort_31'] = data['ort_30'].str.replace(\"Mittlerer Erzgebirgskreis\", \"Erzgebirgskreis\", n=-1)\n",
    "data['ort_32'] = data['ort_31'].str.replace(\"Annaberg\", \"Erzgebirgskreis\", n=-1)\n",
    "data['ort_33'] = data['ort_32'].str.replace(\"Stollberg\", \"Erzgebirgskreis\", n=-1)\n",
    "data['ort_34'] = data['ort_33'].str.replace(\"Aue-Schwarzenberg\", \"Erzgebirgskreis\", n=-1)\n",
    "\n",
    "data['ort_35'] = data['ort_34'].str.replace(\"Löbau-Zittau\", \"Görlitz\", n=-1)\n",
    "data['ort_36'] = data['ort_35'].str.replace(\"Görlitz, Stadt\", \"Görlitz\", n=-1)\n",
    "data['ort_37'] = data['ort_36'].str.replace(\"Niederschlesischer Oberlausitzkreis\", \"Görlitz\", n=-1)\n",
    "\n",
    "data['ort_38'] = data['ort_37'].str.replace(\"Plauen, Stadt\", \"Vogtlandkreis\", n=-1)\n",
    "\n",
    "\n",
    "\n",
    "data['ort_39'] = data['ort_38'].str.replace(\"Bitterfeld\", \"Anhalt-Bitterfeld\", n=-1)\n",
    "data['ort_40'] = data['ort_39'].str.replace(\"Köthen\", \"Anhalt-Bitterfeld\", n=-1)\n",
    "\n",
    "data['ort_41'] = data['ort_40'].str.replace(\"Dessau, Stadt\", \"Dessau-Roßlau\", n=-1)\n",
    "\n",
    "data['ort_42'] = data['ort_41'].str.replace(\"Bördekreis\", \"Börde\", n=-1)\n",
    "data['ort_43'] = data['ort_42'].str.replace(\"Ohrekreis\", \"Börde\", n=-1)\n",
    "\n",
    "data['ort_44'] = data['ort_43'].str.replace(\"Bernburg\", \"Salzlandkreis\", n=-1)\n",
    "data['ort_45'] = data['ort_44'].str.replace(\"Schönebeck\", \"Salzlandkreis\", n=-1)\n",
    "data['ort_46'] = data['ort_45'].str.replace(\"Aschersleben-Staßfurt\", \"Salzlandkreis\", n=-1)\n",
    "\n",
    "data['ort_47'] = data['ort_46'].str.replace(\"Weißenfels\", \"Burgenlandkreis\", n=-1)\n",
    "\n",
    "data['ort_48'] = data['ort_47'].str.replace(\"Merseburg-Querfurt\", \"Saalekreis\", n=-1)\n",
    "data['ort_49'] = data['ort_48'].str.replace(\"Saalkreis\", \"Saalekreis\", n=-1)\n",
    "\n",
    "data['ort_50'] = data['ort_49'].str.replace(\"Halberstadt\", \"Harz\", n=-1)\n",
    "data['ort_51'] = data['ort_50'].str.replace(\"Quedlinburg\", \"Harz\", n=-1)\n",
    "data['ort_52'] = data['ort_51'].str.replace(\"Wernigerode\", \"Harz\", n=-1)\n",
    "\n",
    "data['ort_53'] = data['ort_52'].str.replace(\"Anhalt-Zerbst\", \"Wittenberg\", n=-1)\n",
    "\n",
    "data['ort_54'] = data['ort_53'].str.replace(\"Halle (Saale), Stadt\", \"Halle (Saale)\", n=-1)\n",
    "\n",
    "data['ort_55'] = data['ort_54'].str.replace(\"Mansfelder Land\", \"Mansfeld-Südharz\", n=-1)\n",
    "data['ort'] = data['ort_55'].str.replace(\"Sangerhausen\", \"Mansfeld-Südharz\", n=-1)\n",
    "\n",
    "\n",
    "\n"
   ]
  },
  {
   "cell_type": "code",
   "execution_count": null,
   "metadata": {},
   "outputs": [],
   "source": [
    "# data['regionalkey_1'] = data['kreisschluessel'].str.replace(\"Bad Doberan\", \"Rostock, Landkreis\", n=-1)\n",
    "# data['ort_2'] = data['ort_1'].str.replace(\"Güstrow\", \"Rostock, Landkreis\", n=-1)\n",
    "\n",
    "# data['ort_3'] = data['ort_2'].str.replace(\"Demmin\", \"Mecklenburgische Seenplatte\", n=-1)\n",
    "# data['ort_4'] = data['ort_3'].str.replace(\"Neubrandenburg\", \"Mecklenburgische Seenplatte\", n=-1)\n",
    "# data['ort_5'] = data['ort_4'].str.replace(\"Müritz\", \"Mecklenburgische Seenplatte\", n=-1)\n",
    "# data['ort_6'] = data['ort_5'].str.replace(\"Mecklenburg-Strelitz\", \"Mecklenburgische Seenplatte\", n=-1)\n",
    "\n",
    "# data['ort_7'] = data['ort_6'].str.replace(\"Uecker-Randow\", \"Vorpommern-Greifswald\", n=-1)\n",
    "# data['ort_8'] = data['ort_7'].str.replace(\"Ostvorpommern\", \"Vorpommern-Greifswald\", n=-1)\n",
    "# data['ort_9'] = data['ort_8'].str.replace(\"Greifswald\", \"Vorpommern-Greifswald\", n=-1)\n",
    "\n",
    "# data['ort_10'] = data['ort_9'].str.replace(\"Stralsund\", \"Vorpommern-Rügen\", n=-1)\n",
    "# data['ort_11'] = data['ort_10'].str.replace(\"Nordvorpommern\", \"Vorpommern-Rügen\", n=-1)\n",
    "# data['ort_12'] = data['ort_11'].str.replace(\"Rügen\", \"Vorpommern-Rügen\", n=-1)\n",
    "\n",
    "# data['ort_13'] = data['ort_12'].str.replace(\"Wismar\", \"Nordwestmecklenburg\", n=-1)\n",
    "\n",
    "# data['ort_14'] = data['ort_13'].str.replace(\"Parchim\", \"Ludwigslust-Parchim\", n=-1)\n",
    "# data['ort_15'] = data['ort_14'].str.replace(\"Ludwigslust\", \"Ludwigslust-Parchim\", n=-1)\n",
    "\n",
    "\n",
    "# regional key\n",
    "data['regionalkey_1'] = data['kreisschluessel'].str.replace(\"13051\", \"13072\", n=-1)\n",
    "data['regionalkey_2'] = data['regionalkey_1'].str.replace(\"13053\", \"13072\", n=-1)\n",
    "\n",
    "data['regionalkey_3'] = data['regionalkey_2'].str.replace(\"13052\", \"13071\", n=-1)\n",
    "data['regionalkey_4'] = data['regionalkey_3'].str.replace(\"13002\", \"13071\", n=-1)\n",
    "data['regionalkey_5'] = data['regionalkey_4'].str.replace(\"13056\", \"13071\", n=-1)\n",
    "data['regionalkey_6'] = data['regionalkey_5'].str.replace(\"13055\", \"13071\", n=-1)\n",
    "\n",
    "data['regionalkey_7'] = data['regionalkey_6'].str.replace(\"13062\", \"13075\", n=-1)\n",
    "data['regionalkey_8'] = data['regionalkey_7'].str.replace(\"13059\", \"13075\", n=-1)\n",
    "data['regionalkey_9'] = data['regionalkey_8'].str.replace(\"13001\", \"13075\", n=-1)\n",
    "\n",
    "data['regionalkey_10'] = data['regionalkey_9'].str.replace(\"13005\", \"13073\", n=-1)\n",
    "data['regionalkey_11'] = data['regionalkey_10'].str.replace(\"13057\", \"13073\", n=-1)\n",
    "data['regionalkey_12'] = data['regionalkey_11'].str.replace(\"13061\", \"13073\", n=-1)\n",
    "\n",
    "data['regionalkey_13'] = data['regionalkey_12'].str.replace(\"13006\", \"13074\", n=-1)\n",
    "data['regionalkey_14'] = data['regionalkey_13'].str.replace(\"13058\", \"13074\", n=-1)\n",
    "\n",
    "data['regionalkey_15'] = data['regionalkey_14'].str.replace(\"13060\", \"13076\", n=-1)\n",
    "data['regionalkey_16'] = data['regionalkey_15'].str.replace(\"13054\", \"13076\", n=-1)\n",
    "\n",
    "\n",
    "\n",
    "\n",
    "\n",
    "data['regionalkey_17'] = data['regionalkey_16'].str.replace(\"14292\", \"14625\", n=-1)\n",
    "data['regionalkey_18'] = data['regionalkey_17'].str.replace(\"14262\", \"14625\", n=-1)\n",
    "data['regionalkey_19'] = data['regionalkey_18'].str.replace(\"14272\", \"14625\", n=-1)\n",
    "\n",
    "data['regionalkey_20'] = data['regionalkey_19'].str.replace(\"14285\", \"14627\", n=-1)\n",
    "data['regionalkey_21'] = data['regionalkey_20'].str.replace(\"14280\", \"14627\", n=-1)\n",
    "\n",
    "data['regionalkey_22'] = data['regionalkey_21'].str.replace(\"14290\", \"14628\", n=-1)\n",
    "data['regionalkey_23'] = data['regionalkey_22'].str.replace(\"14287\", \"14628\", n=-1)\n",
    "\n",
    "data['regionalkey_24'] = data['regionalkey_23'].str.replace(\"14375\", \"14522\", n=-1)\n",
    "data['regionalkey_25'] = data['regionalkey_24'].str.replace(\"14182\", \"14522\", n=-1)\n",
    "data['regionalkey_26'] = data['regionalkey_25'].str.replace(\"14177\", \"14522\", n=-1)\n",
    "\n",
    "data['regionalkey_27'] = data['regionalkey_26'].str.replace(\"14374\", \"14730\", n=-1)\n",
    "data['regionalkey_28'] = data['regionalkey_27'].str.replace(\"14389\", \"14730\", n=-1)\n",
    "\n",
    "data['regionalkey_29'] = data['regionalkey_28'].str.replace(\"14379\", \"14729\", n=-1)\n",
    "data['regionalkey_30'] = data['regionalkey_29'].str.replace(\"14383\", \"14729\", n=-1)\n",
    "\n",
    "data['regionalkey_31'] = data['regionalkey_30'].str.replace(\"14173\", \"14524\", n=-1)\n",
    "data['regionalkey_32'] = data['regionalkey_31'].str.replace(\"14193\", \"14524\", n=-1)\n",
    "data['regionalkey_33'] = data['regionalkey_32'].str.replace(\"14167\", \"14524\", n=-1)\n",
    "\n",
    "data['regionalkey_34'] = data['regionalkey_33'].str.replace(\"14181\", \"14521\", n=-1)\n",
    "data['regionalkey_35'] = data['regionalkey_34'].str.replace(\"14171\", \"14521\", n=-1)\n",
    "data['regionalkey_36'] = data['regionalkey_35'].str.replace(\"14188\", \"14521\", n=-1)\n",
    "data['regionalkey_37'] = data['regionalkey_36'].str.replace(\"14191\", \"14521\", n=-1)\n",
    "\n",
    "data['regionalkey_38'] = data['regionalkey_37'].str.replace(\"14286\", \"14626\", n=-1)\n",
    "data['regionalkey_39'] = data['regionalkey_38'].str.replace(\"14263\", \"14626\", n=-1)\n",
    "data['regionalkey_40'] = data['regionalkey_39'].str.replace(\"14284\", \"14626\", n=-1)\n",
    "\n",
    "data['regionalkey_41'] = data['regionalkey_40'].str.replace(\"14166\", \"14523\", n=-1)\n",
    "data['regionalkey_42'] = data['regionalkey_41'].str.replace(\"14178\", \"14523\", n=-1)\n",
    "\n",
    "\n",
    "\n",
    "\n",
    "\n",
    "data['regionalkey_43'] = data['regionalkey_42'].str.replace(\"15154\", \"15082\", n=-1)\n",
    "data['regionalkey_44'] = data['regionalkey_43'].str.replace(\"15159\", \"15082\", n=-1)\n",
    "\n",
    "data['regionalkey_45'] = data['regionalkey_44'].str.replace(\"15101\", \"15001\", n=-1)\n",
    "\n",
    "data['regionalkey_46'] = data['regionalkey_45'].str.replace(\"15355\", \"15083\", n=-1)\n",
    "data['regionalkey_47'] = data['regionalkey_46'].str.replace(\"15362\", \"15083\", n=-1)\n",
    "\n",
    "data['regionalkey_48'] = data['regionalkey_47'].str.replace(\"15153\", \"15089\", n=-1)\n",
    "data['regionalkey_49'] = data['regionalkey_48'].str.replace(\"15367\", \"15089\", n=-1)\n",
    "data['regionalkey_50'] = data['regionalkey_49'].str.replace(\"15352\", \"15089\", n=-1)\n",
    "\n",
    "data['regionalkey_51'] = data['regionalkey_50'].str.replace(\"15268\", \"15084\", n=-1)\n",
    "data['regionalkey_52'] = data['regionalkey_51'].str.replace(\"15256\", \"15084\", n=-1)\n",
    "\n",
    "data['regionalkey_53'] = data['regionalkey_52'].str.replace(\"15261\", \"15088\", n=-1)\n",
    "data['regionalkey_54'] = data['regionalkey_53'].str.replace(\"15265\", \"15088\", n=-1)\n",
    "\n",
    "data['regionalkey_55'] = data['regionalkey_54'].str.replace(\"15357\", \"15085\", n=-1)\n",
    "data['regionalkey_56'] = data['regionalkey_55'].str.replace(\"15364\", \"15085\", n=-1)\n",
    "data['regionalkey_57'] = data['regionalkey_56'].str.replace(\"15369\", \"15085\", n=-1)\n",
    "\n",
    "data['regionalkey_58'] = data['regionalkey_57'].str.replace(\"15151\", \"15091\", n=-1)\n",
    "data['regionalkey_59'] = data['regionalkey_58'].str.replace(\"15171\", \"15091\", n=-1)\n",
    "\n",
    "data['regionalkey_60'] = data['regionalkey_59'].str.replace(\"15202\", \"15002\", n=-1)\n",
    "\n",
    "data['regionalkey_61'] = data['regionalkey_60'].str.replace(\"15260\", \"15087\", n=-1)\n",
    "data['regionalkey_62'] = data['regionalkey_61'].str.replace(\"15266\", \"15087\", n=-1)\n",
    "\n",
    "data['regionalkey_63'] = data['regionalkey_62'].str.replace(\"15303\", \"15003\", n=-1)\n",
    "data['regionalkey_64'] = data['regionalkey_63'].str.replace(\"15358\", \"15086\", n=-1)\n",
    "data['regionalkey'] = data['regionalkey_64'].str.replace(\"15363\", \"15090\", n=-1)\n",
    "\n",
    "\n",
    "\n"
   ]
  },
  {
   "cell_type": "code",
   "execution_count": null,
   "metadata": {},
   "outputs": [],
   "source": [
    "data=data[['BvDID_firm', 'year', 'plz_firm', 'ort', 'regionalkey', 'bundesland', 'BvDID_bank_1', 'postcode_bank_1', 'data2025_1',\n",
    "       'data2075_1', 'data11750_1', 'data30680_1', 'data30690_1',\n",
    "       'data38250_1', 'bank_type_1', 'liquidity_1', 'BvDID_bank_2',\n",
    "       'postcode_bank_2', 'data2025_2', 'data2075_2', 'data11750_2',\n",
    "       'data30680_2', 'data30690_2', 'data38250_2', 'bank_type_2',\n",
    "       'liquidity_2', 'BvDID_bank_3', 'postcode_bank_3', 'data2025_3',\n",
    "       'data2075_3', 'data11750_3', 'data30680_3', 'data30690_3',\n",
    "       'data38250_3', 'bank_type_3', 'liquidity_3', 'fias', 'tfas', 'cash',\n",
    "       'toas', 'shfd', 'ncli', 'ltdb', 'oncl', 'prov', 'culi', 'loan', 'cred',\n",
    "       'wkca', 'ncas', 'empl', 'opre', 'turn', 'gros', 'staf', 'depr', 'cf',\n",
    "       'rcem', 'rtas', 'dateinc_year_firm', 'sizecat', 'sector', 'adequacy',\n",
    "       'hausbank', 'KID_firm', 'empllev', 'staflev', 'fiaslev', 'tfaslev',\n",
    "       'cashlev', 'toaslev', 'provlev', 'ncaslev', 'turnlev', 'groslev',\n",
    "       'deprlev', 'culilev', 'loanlev', 'credlev', 'nclilev', 'ltdblev',\n",
    "       'oncllev', 'wkcalev', 'shfdlev', 'random', 'random_sample_indicator',\n",
    "       'small', 'year_post', 'bank_ty_1', 'bank_ty_2', 'bank_ty_3',\n",
    "       'bank_affected', 'bank_affected_degree']]\n",
    "data"
   ]
  },
  {
   "cell_type": "code",
   "execution_count": null,
   "metadata": {},
   "outputs": [],
   "source": [
    "data['ort_a'] = data['ort'].str.replace(\"Aachen, Stadt\", \"Aachen\", n=-1)\n",
    "data['ort_b'] = data['ort_a'].str.replace(\"Aachen\", \"Städteregion Aachen\", n=-1)\n",
    "\n",
    "data['ort_c'] = data['ort_b'].str.replace(\"Hamburg, Freie und Hansestadt\", \"Hamburg\", n=-1)\n",
    "\n",
    "data['ort_d'] = data['ort_c'].str.replace(\"Soltau-Fallingbostel\", \"Heidekreis\", n=-1)\n",
    "\n",
    "data['ort_e'] = data['ort_d'].str.replace(\"Oldenburg\", \"Oldenburg, Landkreis\", n=-1)\n",
    "\n",
    "data['ort_f'] = data['ort_e'].str.replace(\"Daun\", \"Vulkaneifel\", n=-1)\n",
    "\n",
    "data['ort_'] = data['ort_f'].str.replace(\", Hansestadt\", \"\", n=-1)\n",
    "\n",
    "data.loc[(data.regionalkey == \"09571\") ,'ort_'] = 'Ansbach, Landkreis'\n",
    "data.loc[(data.regionalkey == \"13076\") ,'ort_'] = 'Ludwigslust-Parchim'\n",
    "data.loc[(data.regionalkey == \"13073\") ,'ort_'] = 'Vorpommern-Rügen'\n",
    "data.loc[(data.regionalkey == \"13075\") ,'ort_'] = 'Vorpommern-Greifswald'\n",
    "data.loc[(data.regionalkey == \"14628\") ,'ort_'] = 'Sächsische Schweiz-Osterzgebirge'\n",
    "\n",
    "data.loc[(data.ort_ == \"Chemnitz, Stadt\") ,'regionalkey'] = '14511'\n",
    "data.loc[(data.ort_ == \"Dresden, Stadt\") ,'regionalkey'] = '14612'\n",
    "data.loc[(data.ort_ == \"Leipzig, Stadt\") ,'regionalkey'] = '14713'\n",
    "data.loc[(data.ort_ == \"Altmarkkreis Salzwedel\") ,'regionalkey'] = '15081'\n",
    "data.loc[(data.ort_ == \"Göttingen\") ,'regionalkey'] = '03159'\n",
    "data.loc[(data.ort_ == \"Bautzen\") ,'regionalkey'] = '14625'"
   ]
  },
  {
   "cell_type": "code",
   "execution_count": null,
   "metadata": {},
   "outputs": [],
   "source": [
    "data['regionalkey_a'] = data['regionalkey'].str.replace(\"05313\", \"05334\", n=-1)\n",
    "data['regionalkey_b'] = data['regionalkey_a'].str.replace(\"05354\", \"05334\", n=-1)\n",
    "\n",
    "data['regionalkey_c'] = data['regionalkey_b'].str.replace(\"2000\", \"2\", n=-1)\n",
    "\n",
    "data['regionalkey_'] = data['regionalkey_c'].str.replace(\"11000\", \"11\", n=-1)\n",
    "\n",
    "\n",
    "\n",
    "# 没有公司：\n",
    "# 06413 Offenbach\n",
    "# 07313 Landau in der Pfalz\n",
    "# 07338 Rhein-Pfalz-Kreis\n",
    "# 08125 Heilbronn, Landkreis\n",
    "# 08215 Karlsruhe, Landkreis\n",
    "# 09162 München\n",
    "# 09363 Weiden i.d. OPf.\n",
    "\n"
   ]
  },
  {
   "cell_type": "code",
   "execution_count": null,
   "metadata": {},
   "outputs": [],
   "source": [
    "# ort_df = data[['regionalkey_','ort_']]\n",
    "# data['regionalkey_'].value_counts()\n",
    "# data['ort_'].value_counts()"
   ]
  },
  {
   "cell_type": "code",
   "execution_count": null,
   "metadata": {},
   "outputs": [],
   "source": [
    "# ort_df = ort_df.drop_duplicates()\n",
    "# ort_df=ort_df.reset_index().drop(['index'], axis=1)\n",
    "# ort_df.index=ort_df.index+1\n",
    "# ort_df"
   ]
  },
  {
   "cell_type": "code",
   "execution_count": null,
   "metadata": {},
   "outputs": [],
   "source": [
    "#ort_df.to_csv(path_or_buf=r'/Users/mengxi/Desktop/financial research/final/211219_check county key.csv')"
   ]
  },
  {
   "cell_type": "code",
   "execution_count": null,
   "metadata": {},
   "outputs": [],
   "source": [
    "data=data[['BvDID_firm', 'year', 'plz_firm', 'ort_', 'regionalkey_', 'bundesland', 'BvDID_bank_1', 'postcode_bank_1', 'data2025_1',\n",
    "       'data2075_1', 'data11750_1', 'data30680_1', 'data30690_1',\n",
    "       'data38250_1', 'bank_type_1', 'liquidity_1', 'BvDID_bank_2',\n",
    "       'postcode_bank_2', 'data2025_2', 'data2075_2', 'data11750_2',\n",
    "       'data30680_2', 'data30690_2', 'data38250_2', 'bank_type_2',\n",
    "       'liquidity_2', 'BvDID_bank_3', 'postcode_bank_3', 'data2025_3',\n",
    "       'data2075_3', 'data11750_3', 'data30680_3', 'data30690_3',\n",
    "       'data38250_3', 'bank_type_3', 'liquidity_3', 'fias', 'tfas', 'cash',\n",
    "       'toas', 'shfd', 'ncli', 'ltdb', 'oncl', 'prov', 'culi', 'loan', 'cred',\n",
    "       'wkca', 'ncas', 'empl', 'opre', 'turn', 'gros', 'staf', 'depr', 'cf',\n",
    "       'rcem', 'rtas', 'dateinc_year_firm', 'sizecat', 'sector', 'adequacy',\n",
    "       'hausbank', 'KID_firm', 'empllev', 'staflev', 'fiaslev', 'tfaslev',\n",
    "       'cashlev', 'toaslev', 'provlev', 'ncaslev', 'turnlev', 'groslev',\n",
    "       'deprlev', 'culilev', 'loanlev', 'credlev', 'nclilev', 'ltdblev',\n",
    "       'oncllev', 'wkcalev', 'shfdlev', 'random', 'random_sample_indicator',\n",
    "       'small', 'year_post', 'bank_ty_1', 'bank_ty_2', 'bank_ty_3',\n",
    "       'bank_affected', 'bank_affected_degree']]\n",
    "data"
   ]
  },
  {
   "cell_type": "code",
   "execution_count": null,
   "metadata": {},
   "outputs": [],
   "source": [
    "# 所有data\n",
    "# data.to_csv(path_or_buf=r'/Users/mengxi/Desktop/financial research/final/211219_firmdata.csv')"
   ]
  },
  {
   "cell_type": "code",
   "execution_count": null,
   "metadata": {},
   "outputs": [],
   "source": [
    "data0=data[data[\"year\"]==2004]\n",
    "id0=data0[\"BvDID_firm\"].unique()\n",
    "data1=data[data[\"year\"]==2005]\n",
    "id1=data1[\"BvDID_firm\"].unique()\n",
    "data2=data[data[\"year\"]==2006]\n",
    "id2=data2[\"BvDID_firm\"].unique()\n",
    "# data3=data[data[\"year\"]==2007]\n",
    "# id3=data3[\"BvDID_firm\"].unique()\n",
    "# data4=data[data[\"year\"]==2008]\n",
    "# id4=data4[\"BvDID_firm\"].unique()"
   ]
  },
  {
   "cell_type": "code",
   "execution_count": null,
   "metadata": {},
   "outputs": [],
   "source": [
    "# id_all=set(list(id1)+list(id2)+list(id3)+list(id4))\n",
    "# id_all=set(list(id1)+list(id2)+list(id3))\n",
    "id_all=set(list(id0)+list(id1)+list(id2))\n",
    "\n",
    "id_all"
   ]
  },
  {
   "cell_type": "code",
   "execution_count": null,
   "metadata": {
    "scrolled": true
   },
   "outputs": [],
   "source": [
    "data_useful=data[data['BvDID_firm'].isin(list(id_all))]\n",
    "#data_useful.set_index(['BvDID_firm', 'year'], inplace=True)\n",
    "data_useful=data_useful.reset_index().drop(['index'], axis=1)\n",
    "data_useful.index=data_useful.index+1\n",
    "\n",
    "\n",
    "\n",
    "data_useful"
   ]
  },
  {
   "cell_type": "code",
   "execution_count": null,
   "metadata": {},
   "outputs": [],
   "source": []
  },
  {
   "cell_type": "code",
   "execution_count": null,
   "metadata": {
    "scrolled": true
   },
   "outputs": [],
   "source": [
    "data_useful[\"cf_ratio\"]=data_useful[\"cf\"]/(data_useful[\"toaslev\"]*10**6)\n",
    "data_useful[\"gros_ratio\"]=data_useful[\"groslev\"]/(data_useful[\"toaslev\"]*10**6)\n",
    "data_useful[\"shfd_ratio\"]=data_useful[\"shfdlev\"]/data_useful[\"toaslev\"]\n",
    "data_useful[\"staf_ave\"]=data_useful[\"staflev\"]/data_useful[\"empllev\"]\n",
    "data_useful[\"staf_ln\"]=np.log(data_useful[\"staf_ave\"])\n",
    "\n",
    "# recalculate toas in ln\n",
    "data_useful[\"toas_lev\"]=data_useful[\"toaslev\"]+1\n",
    "data_useful[\"toas_ln\"]=np.log(data_useful[\"toas_lev\"])\n",
    "\n",
    "# sales in million\n",
    "data_useful[\"turn_lev\"]=(data_useful[\"turnlev\"]/10**6)+1\n",
    "data_useful[\"turn_ln\"]=np.log(data_useful[\"turn_lev\"])"
   ]
  },
  {
   "cell_type": "code",
   "execution_count": null,
   "metadata": {},
   "outputs": [],
   "source": [
    "data_useful"
   ]
  },
  {
   "cell_type": "code",
   "execution_count": null,
   "metadata": {},
   "outputs": [],
   "source": [
    "data_check = data_useful[['BvDID_firm','year','bank_affected','empl','empllev','staf_ave','toas_ln','toas','toaslev','toas_lev','turn','turnlev','turn_lev','turn_ln','shfd_ratio','gros_ratio','cf_ratio','bank_affected_degree']]\n",
    "data_check"
   ]
  },
  {
   "cell_type": "code",
   "execution_count": null,
   "metadata": {},
   "outputs": [],
   "source": [
    "data_check_1 = data_check[['BvDID_firm','bank_affected','empllev','staf_ave','toas_lev','turn_lev','shfd_ratio','gros_ratio','cf_ratio','bank_affected_degree']]\n",
    "data_check_1.describe()\n",
    "# paper中，turn_lev平均为6.24，toas_lev平均为6.04，empllev平均为70"
   ]
  },
  {
   "cell_type": "code",
   "execution_count": null,
   "metadata": {},
   "outputs": [],
   "source": [
    "data_useful.to_csv(path_or_buf=path+\"firm_clean/ready_for_regression.csv\")\n",
    "\n",
    "# data_useful.to_csv(path_or_buf=r'/Users/mengxi/Desktop/financial research/final/211221_ready_for_regression.csv')"
   ]
  },
  {
   "cell_type": "code",
   "execution_count": null,
   "metadata": {},
   "outputs": [],
   "source": [
    "data_useful['bank_affected'].value_counts()"
   ]
  },
  {
   "cell_type": "code",
   "execution_count": null,
   "metadata": {
    "scrolled": true
   },
   "outputs": [],
   "source": [
    "data_useful['bank_affected_degree'].value_counts()"
   ]
  },
  {
   "cell_type": "code",
   "execution_count": null,
   "metadata": {},
   "outputs": [],
   "source": [
    "ddddddd"
   ]
  },
  {
   "cell_type": "markdown",
   "metadata": {},
   "source": [
    "# County level data"
   ]
  },
  {
   "cell_type": "code",
   "execution_count": null,
   "metadata": {},
   "outputs": [],
   "source": [
    "group = data_useful.groupby('BvDID_firm')\n",
    "affected_index = data_useful.groupby('BvDID_firm').mean()['bank_affected']\n",
    "df = affected_index.to_frame('affected_index')\n",
    "\n",
    "query_df = df.query('affected_index!=0')\n",
    "df.loc[:,'affected_firm'] = df.index.map(lambda x : 1 if x in query_df.index else 0)\n",
    "df\n"
   ]
  },
  {
   "cell_type": "code",
   "execution_count": null,
   "metadata": {
    "scrolled": true
   },
   "outputs": [],
   "source": [
    "df['affected_index'].value_counts()"
   ]
  },
  {
   "cell_type": "code",
   "execution_count": null,
   "metadata": {},
   "outputs": [],
   "source": [
    "df_1 = df.query('affected_index==0.5|affected_index==0.8|affected_index==0.75')\n",
    "\n",
    "df_1"
   ]
  },
  {
   "cell_type": "code",
   "execution_count": null,
   "metadata": {},
   "outputs": [],
   "source": [
    "data_1 = data.query('BvDID_firm==\"DE2310133781\"|BvDID_firm==\"DE3290004653\"')\n",
    "\n",
    "data_1"
   ]
  },
  {
   "cell_type": "code",
   "execution_count": null,
   "metadata": {},
   "outputs": [],
   "source": [
    "group_1 = data_useful.groupby('regionalkey_')\n",
    "firms_no = data_useful.groupby('regionalkey_').count()['BvDID_firm']\n",
    "county_data_1 = firms_no.to_frame('firms_no')\n",
    "\n",
    "data_2=data_useful[data_useful['bank_affected']==1]\n",
    "data_2\n",
    "\n",
    "firms_aff_no = data_2.groupby('regionalkey_').count()['bank_affected']\n",
    "county_data_2 = firms_aff_no.to_frame('firms_aff_no')\n",
    "\n",
    "county_data = pd.merge(left=county_data_1, right=county_data_2, on='regionalkey_', how='left')\n",
    "\n",
    "county_data['ratio']=county_data[\"firms_aff_no\"]/county_data[\"firms_no\"]\n",
    "\n"
   ]
  },
  {
   "cell_type": "code",
   "execution_count": null,
   "metadata": {},
   "outputs": [],
   "source": [
    "county_data"
   ]
  },
  {
   "cell_type": "code",
   "execution_count": null,
   "metadata": {},
   "outputs": [],
   "source": []
  }
 ],
 "metadata": {
  "kernelspec": {
   "display_name": "Python 3",
   "language": "python",
   "name": "python3"
  },
  "language_info": {
   "codemirror_mode": {
    "name": "ipython",
    "version": 3
   },
   "file_extension": ".py",
   "mimetype": "text/x-python",
   "name": "python",
   "nbconvert_exporter": "python",
   "pygments_lexer": "ipython3",
   "version": "3.8.5"
  }
 },
 "nbformat": 4,
 "nbformat_minor": 2
}
