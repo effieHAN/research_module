{
 "cells": [
  {
   "cell_type": "code",
   "execution_count": 1,
   "metadata": {},
   "outputs": [],
   "source": [
    "%matplotlib inline\n",
    "!pip install stargazer\n",
    "!pip install scipy\n",
    "!pip install plotly_express\n",
    "!pip install pandas-profiling\n",
    "!pip install linearmodels\n",
    "!pip install sklearn\n",
    "import plotly.express as px\n",
    "import scipy\n",
    "import numpy as np\n",
    "from numpy import nan\n",
    "import pandas as pd\n",
    "from pandas_profiling import ProfileReport\n",
    "import pandas.io.formats.style\n",
    "import seaborn as sns\n",
    "import statsmodels as sm\n",
    "import statsmodels.formula.api as smf\n",
    "import statsmodels.api as sm_api\n",
    "import matplotlib as plt\n",
    "import matplotlib.pyplot as pltpy\n",
    "from IPython.display import HTML\n",
    "from stargazer.stargazer import Stargazer\n",
    "import linearmodels as lm\n",
    "from linearmodels import PanelOLS\n",
    "import warnings\n",
    "warnings.filterwarnings(\"ignore\")\n",
    "import math\n",
    "import sklearn\n",
    "from sklearn.tree import DecisionTreeRegressor \n",
    "from sklearn import tree"
   ]
  },
  {
   "cell_type": "code",
   "execution_count": 2,
   "metadata": {},
   "outputs": [],
   "source": [
    "from auxiliary.auxiliary_plots import *\n",
    "from auxiliary.auxiliary_prepare_data import *\n",
    "from auxiliary.auxiliary_tables import *"
   ]
  },
  {
   "cell_type": "code",
   "execution_count": null,
   "metadata": {},
   "outputs": [],
   "source": []
  },
  {
   "cell_type": "code",
   "execution_count": 5,
   "metadata": {},
   "outputs": [],
   "source": [
    "#subsetting the original dataframe\n",
    "df_NJ= df[df[\"state\"]==1]\n",
    "df_PA= df[df[\"state\"]==0]\n",
    "df_NJ_0= df[(df[\"state\"]==1) & (df[\"time\"]==0)]\n",
    "df_NJ_1= df[(df[\"state\"]==1) & (df[\"time\"]==1)]\n",
    "df_PA_0= df[(df[\"state\"]==0) & (df[\"time\"]==0)]\n",
    "df_PA_1= df[(df[\"state\"]==0) & (df[\"time\"]==1)]\n",
    "df_before= df[df[\"time\"]==0]\n",
    "df_after= df[df[\"time\"]==1]"
   ]
  },
  {
   "cell_type": "markdown",
   "metadata": {},
   "source": [
    "The portion of table 2 below displays the distribution of stores by chain and ownership status (company-owned versus franchisee-owned). $\\curvearrowright$\n",
    "\n",
    "**Replicate Table 2 pt.1**"
   ]
  },
  {
   "cell_type": "code",
   "execution_count": 6,
   "metadata": {},
   "outputs": [
    {
     "name": "stdout",
     "output_type": "stream",
     "text": [
      "Distribution of store types (percentage)\n"
     ]
    },
    {
     "data": {
      "text/html": [
       "<div>\n",
       "<style scoped>\n",
       "    .dataframe tbody tr th:only-of-type {\n",
       "        vertical-align: middle;\n",
       "    }\n",
       "\n",
       "    .dataframe tbody tr th {\n",
       "        vertical-align: top;\n",
       "    }\n",
       "\n",
       "    .dataframe thead th {\n",
       "        text-align: right;\n",
       "    }\n",
       "</style>\n",
       "<table border=\"1\" class=\"dataframe\">\n",
       "  <thead>\n",
       "    <tr style=\"text-align: right;\">\n",
       "      <th></th>\n",
       "      <th>NJ</th>\n",
       "      <th>PA</th>\n",
       "      <th>t-stat</th>\n",
       "    </tr>\n",
       "  </thead>\n",
       "  <tbody>\n",
       "    <tr>\n",
       "      <th>Burger King</th>\n",
       "      <td>41.09</td>\n",
       "      <td>44.30</td>\n",
       "      <td>-0.74</td>\n",
       "    </tr>\n",
       "    <tr>\n",
       "      <th>KFC</th>\n",
       "      <td>20.54</td>\n",
       "      <td>15.19</td>\n",
       "      <td>1.53</td>\n",
       "    </tr>\n",
       "    <tr>\n",
       "      <th>Roy Rogers</th>\n",
       "      <td>24.77</td>\n",
       "      <td>21.52</td>\n",
       "      <td>0.86</td>\n",
       "    </tr>\n",
       "    <tr>\n",
       "      <th>Wendy's</th>\n",
       "      <td>13.60</td>\n",
       "      <td>18.99</td>\n",
       "      <td>-1.72</td>\n",
       "    </tr>\n",
       "    <tr>\n",
       "      <th>company-owned</th>\n",
       "      <td>34.14</td>\n",
       "      <td>35.44</td>\n",
       "      <td>-0.31</td>\n",
       "    </tr>\n",
       "  </tbody>\n",
       "</table>\n",
       "</div>"
      ],
      "text/plain": [
       "                  NJ     PA  t-stat\n",
       "Burger King    41.09  44.30   -0.74\n",
       "KFC            20.54  15.19    1.53\n",
       "Roy Rogers     24.77  21.52    0.86\n",
       "Wendy's        13.60  18.99   -1.72\n",
       "company-owned  34.14  35.44   -0.31"
      ]
     },
     "execution_count": 6,
     "metadata": {},
     "output_type": "execute_result"
    }
   ],
   "source": [
    "#table2 - panel 1\n",
    "distr_store_type(df_NJ,df_PA)"
   ]
  },
  {
   "cell_type": "markdown",
   "metadata": {},
   "source": [
    "### Share of chain stores across State [+]"
   ]
  },
  {
   "cell_type": "code",
   "execution_count": 7,
   "metadata": {},
   "outputs": [
    {
     "data": {
      "image/png": "[encoded data removed]",
      "text/plain": [
       "<Figure size 432x288 with 2 Axes>"
      ]
     },
     "metadata": {},
     "output_type": "display_data"
    }
   ],
   "source": [
    "get_shares_chain_stores()"
   ]
  },
  {
   "cell_type": "markdown",
   "metadata": {},
   "source": [
    "<a class=\"anchor\" id=\"5. Descriptive statistics\"></a>\n",
    "\n",
    "---\n",
    "# 5. Descriptive statistics\n",
    "---"
   ]
  },
  {
   "cell_type": "markdown",
   "metadata": {},
   "source": [
    "Table 2 also presents the means for several key variables in the dataset, averaged over the subset of nonmissing responses for each\n",
    "variable.  \n",
    "As checked below, employment in wave 2 is set to 0 for the permanetly closed stores but is treated as missing for the temporarily closed stores."
   ]
  },
  {
   "cell_type": "code",
   "execution_count": 252,
   "metadata": {},
   "outputs": [
    {
     "data": {
      "text/html": [
       "<div>\n",
       "<style scoped>\n",
       "    .dataframe tbody tr th:only-of-type {\n",
       "        vertical-align: middle;\n",
       "    }\n",
       "\n",
       "    .dataframe tbody tr th {\n",
       "        vertical-align: top;\n",
       "    }\n",
       "\n",
       "    .dataframe thead th {\n",
       "        text-align: right;\n",
       "    }\n",
       "</style>\n",
       "<table border=\"1\" class=\"dataframe\">\n",
       "  <thead>\n",
       "    <tr style=\"text-align: right;\">\n",
       "      <th></th>\n",
       "      <th>status2</th>\n",
       "      <th>FTE2</th>\n",
       "    </tr>\n",
       "  </thead>\n",
       "  <tbody>\n",
       "    <tr>\n",
       "      <th>197</th>\n",
       "      <td>2</td>\n",
       "      <td>NaN</td>\n",
       "    </tr>\n",
       "    <tr>\n",
       "      <th>314</th>\n",
       "      <td>2</td>\n",
       "      <td>NaN</td>\n",
       "    </tr>\n",
       "    <tr>\n",
       "      <th>67</th>\n",
       "      <td>3</td>\n",
       "      <td>0.0</td>\n",
       "    </tr>\n",
       "    <tr>\n",
       "      <th>123</th>\n",
       "      <td>3</td>\n",
       "      <td>0.0</td>\n",
       "    </tr>\n",
       "    <tr>\n",
       "      <th>319</th>\n",
       "      <td>3</td>\n",
       "      <td>0.0</td>\n",
       "    </tr>\n",
       "    <tr>\n",
       "      <th>326</th>\n",
       "      <td>3</td>\n",
       "      <td>0.0</td>\n",
       "    </tr>\n",
       "    <tr>\n",
       "      <th>360</th>\n",
       "      <td>3</td>\n",
       "      <td>0.0</td>\n",
       "    </tr>\n",
       "    <tr>\n",
       "      <th>374</th>\n",
       "      <td>3</td>\n",
       "      <td>0.0</td>\n",
       "    </tr>\n",
       "    <tr>\n",
       "      <th>118</th>\n",
       "      <td>4</td>\n",
       "      <td>NaN</td>\n",
       "    </tr>\n",
       "    <tr>\n",
       "      <th>363</th>\n",
       "      <td>5</td>\n",
       "      <td>NaN</td>\n",
       "    </tr>\n",
       "  </tbody>\n",
       "</table>\n",
       "</div>"
      ],
      "text/plain": [
       "     status2  FTE2\n",
       "197        2   NaN\n",
       "314        2   NaN\n",
       "67         3   0.0\n",
       "123        3   0.0\n",
       "319        3   0.0\n",
       "326        3   0.0\n",
       "360        3   0.0\n",
       "374        3   0.0\n",
       "118        4   NaN\n",
       "363        5   NaN"
      ]
     },
     "execution_count": 252,
     "metadata": {},
     "output_type": "execute_result"
    }
   ],
   "source": [
    "#second interview status is identified as category 2,4 or 5 for temporarily closed store\n",
    "#second interview status is identified as category 3 for permanently closed store\n",
    "df_extended.loc[df_extended['status2']>=2 ,['status2','FTE2']].sort_values(by=\"status2\")"
   ]
  },
  {
   "cell_type": "markdown",
   "metadata": {},
   "source": [
    "In wave 1, average employment was 23.3 full-time equivalent workers per store in Pennsylvania, compared with an average of 20.4 in New Jersey. Starting wages were very similar among stores in the two states, although the average price of a full-meal\n",
    "was significantly higher in New Jersey. There were no significant cross-state differences in\n",
    "average hours of operation or the fraction of full-time workers.  \n",
    "Column 't-stats' contains values resulting from a test of equality of means in New Jersey and Pennsylvania. $\\curvearrowright$\n",
    "\n",
    "**Replicate Table 2 pt.2**"
   ]
  },
  {
   "cell_type": "code",
   "execution_count": 26,
   "metadata": {},
   "outputs": [
    {
     "name": "stdout",
     "output_type": "stream",
     "text": [
      "Means in wave 1\n"
     ]
    },
    {
     "data": {
      "text/html": [
       "<div>\n",
       "<style scoped>\n",
       "    .dataframe tbody tr th:only-of-type {\n",
       "        vertical-align: middle;\n",
       "    }\n",
       "\n",
       "    .dataframe tbody tr th {\n",
       "        vertical-align: top;\n",
       "    }\n",
       "\n",
       "    .dataframe thead tr th {\n",
       "        text-align: left;\n",
       "    }\n",
       "</style>\n",
       "<table border=\"1\" class=\"dataframe\">\n",
       "  <thead>\n",
       "    <tr>\n",
       "      <th></th>\n",
       "      <th colspan=\"2\" halign=\"left\">stores in NJ</th>\n",
       "      <th colspan=\"2\" halign=\"left\">stores in PA</th>\n",
       "      <th>t-stat</th>\n",
       "    </tr>\n",
       "    <tr>\n",
       "      <th></th>\n",
       "      <th>mean</th>\n",
       "      <th>std_err</th>\n",
       "      <th>mean</th>\n",
       "      <th>std_err</th>\n",
       "      <th></th>\n",
       "    </tr>\n",
       "  </thead>\n",
       "  <tbody>\n",
       "    <tr>\n",
       "      <th>FTE employment</th>\n",
       "      <td>20.44</td>\n",
       "      <td>0.51</td>\n",
       "      <td>23.33</td>\n",
       "      <td>1.35</td>\n",
       "      <td>-2.35</td>\n",
       "    </tr>\n",
       "    <tr>\n",
       "      <th>% full-time employees</th>\n",
       "      <td>32.85</td>\n",
       "      <td>1.33</td>\n",
       "      <td>35.04</td>\n",
       "      <td>2.73</td>\n",
       "      <td>-0.73</td>\n",
       "    </tr>\n",
       "    <tr>\n",
       "      <th>starting wage</th>\n",
       "      <td>4.61</td>\n",
       "      <td>0.02</td>\n",
       "      <td>4.63</td>\n",
       "      <td>0.04</td>\n",
       "      <td>-0.41</td>\n",
       "    </tr>\n",
       "    <tr>\n",
       "      <th>price of full meal</th>\n",
       "      <td>3.35</td>\n",
       "      <td>0.04</td>\n",
       "      <td>3.04</td>\n",
       "      <td>0.07</td>\n",
       "      <td>3.79</td>\n",
       "    </tr>\n",
       "    <tr>\n",
       "      <th>hours open</th>\n",
       "      <td>14.42</td>\n",
       "      <td>0.15</td>\n",
       "      <td>14.53</td>\n",
       "      <td>0.33</td>\n",
       "      <td>-0.30</td>\n",
       "    </tr>\n",
       "    <tr>\n",
       "      <th>wage = 4.25$ (%)</th>\n",
       "      <td>30.51</td>\n",
       "      <td>2.53</td>\n",
       "      <td>32.91</td>\n",
       "      <td>5.32</td>\n",
       "      <td>-0.41</td>\n",
       "    </tr>\n",
       "  </tbody>\n",
       "</table>\n",
       "</div>"
      ],
      "text/plain": [
       "                      stores in NJ         stores in PA         t-stat\n",
       "                              mean std_err         mean std_err       \n",
       "FTE employment               20.44    0.51        23.33    1.35  -2.35\n",
       "% full-time employees        32.85    1.33        35.04    2.73  -0.73\n",
       "starting wage                 4.61    0.02         4.63    0.04  -0.41\n",
       "price of full meal            3.35    0.04         3.04    0.07   3.79\n",
       "hours open                   14.42    0.15        14.53    0.33  -0.30\n",
       "wage = 4.25$ (%)             30.51    2.53        32.91    5.32  -0.41"
      ]
     },
     "execution_count": 26,
     "metadata": {},
     "output_type": "execute_result"
    }
   ],
   "source": [
    "#table2 - panel 2\n",
    "means_wave1(df_NJ_0,df_PA_0)"
   ]
  },
  {
   "cell_type": "markdown",
   "metadata": {},
   "source": [
    "Despite the increase in wages, full-time equivalent employment increased in New Jersey relative to Pennsylvania. Whereas\n",
    "New Jersey stores were initially smaller, employment gains in New Jersey coupled with losses in Pennsylvania led to a small\n",
    "and statistically insignificant interstate difference in wave 2. Only two other variables show a relative change between waves\n",
    "1 and 2: the fraction of full-time employees and the price of a meal. Both variables increased in New Jersey relative to Pennsylvania. $\\curvearrowright$\n",
    "\n",
    "**Replicate Table 2 pt.3**"
   ]
  },
  {
   "cell_type": "code",
   "execution_count": 27,
   "metadata": {},
   "outputs": [
    {
     "name": "stdout",
     "output_type": "stream",
     "text": [
      "Means in wave 2\n"
     ]
    },
    {
     "data": {
      "text/html": [
       "<div>\n",
       "<style scoped>\n",
       "    .dataframe tbody tr th:only-of-type {\n",
       "        vertical-align: middle;\n",
       "    }\n",
       "\n",
       "    .dataframe tbody tr th {\n",
       "        vertical-align: top;\n",
       "    }\n",
       "\n",
       "    .dataframe thead tr th {\n",
       "        text-align: left;\n",
       "    }\n",
       "</style>\n",
       "<table border=\"1\" class=\"dataframe\">\n",
       "  <thead>\n",
       "    <tr>\n",
       "      <th></th>\n",
       "      <th colspan=\"2\" halign=\"left\">stores in NJ</th>\n",
       "      <th colspan=\"2\" halign=\"left\">stores in PA</th>\n",
       "      <th>t-stat</th>\n",
       "    </tr>\n",
       "    <tr>\n",
       "      <th></th>\n",
       "      <th>mean</th>\n",
       "      <th>std_err</th>\n",
       "      <th>mean</th>\n",
       "      <th>std_err</th>\n",
       "      <th></th>\n",
       "    </tr>\n",
       "  </thead>\n",
       "  <tbody>\n",
       "    <tr>\n",
       "      <th>FTE employment</th>\n",
       "      <td>21.03</td>\n",
       "      <td>0.52</td>\n",
       "      <td>21.17</td>\n",
       "      <td>0.94</td>\n",
       "      <td>-0.12</td>\n",
       "    </tr>\n",
       "    <tr>\n",
       "      <th>% full-time employees</th>\n",
       "      <td>35.87</td>\n",
       "      <td>1.38</td>\n",
       "      <td>30.38</td>\n",
       "      <td>2.81</td>\n",
       "      <td>1.75</td>\n",
       "    </tr>\n",
       "    <tr>\n",
       "      <th>starting wage</th>\n",
       "      <td>5.08</td>\n",
       "      <td>0.01</td>\n",
       "      <td>4.62</td>\n",
       "      <td>0.04</td>\n",
       "      <td>19.71</td>\n",
       "    </tr>\n",
       "    <tr>\n",
       "      <th>price of full meal</th>\n",
       "      <td>3.41</td>\n",
       "      <td>0.04</td>\n",
       "      <td>3.03</td>\n",
       "      <td>0.07</td>\n",
       "      <td>4.73</td>\n",
       "    </tr>\n",
       "    <tr>\n",
       "      <th>hours open</th>\n",
       "      <td>14.42</td>\n",
       "      <td>0.15</td>\n",
       "      <td>14.65</td>\n",
       "      <td>0.33</td>\n",
       "      <td>-0.67</td>\n",
       "    </tr>\n",
       "    <tr>\n",
       "      <th>wage = 4.25$ (%)</th>\n",
       "      <td>0.00</td>\n",
       "      <td>0.00</td>\n",
       "      <td>25.32</td>\n",
       "      <td>4.92</td>\n",
       "      <td>NaN</td>\n",
       "    </tr>\n",
       "    <tr>\n",
       "      <th>wage = 5.05$ (%)</th>\n",
       "      <td>85.50</td>\n",
       "      <td>1.94</td>\n",
       "      <td>1.27</td>\n",
       "      <td>1.27</td>\n",
       "      <td>20.96</td>\n",
       "    </tr>\n",
       "  </tbody>\n",
       "</table>\n",
       "</div>"
      ],
      "text/plain": [
       "                      stores in NJ         stores in PA         t-stat\n",
       "                              mean std_err         mean std_err       \n",
       "FTE employment               21.03    0.52        21.17    0.94  -0.12\n",
       "% full-time employees        35.87    1.38        30.38    2.81   1.75\n",
       "starting wage                 5.08    0.01         4.62    0.04  19.71\n",
       "price of full meal            3.41    0.04         3.03    0.07   4.73\n",
       "hours open                   14.42    0.15        14.65    0.33  -0.67\n",
       "wage = 4.25$ (%)              0.00    0.00        25.32    4.92    NaN\n",
       "wage = 5.05$ (%)             85.50    1.94         1.27    1.27  20.96"
      ]
     },
     "execution_count": 27,
     "metadata": {},
     "output_type": "execute_result"
    }
   ],
   "source": [
    "#table2 - panel 3\n",
    "means_wave2(df_NJ_1,df_PA_1)"
   ]
  },
  {
   "cell_type": "markdown",
   "metadata": {},
   "source": [
    "### Distribution of wage by interview wave\n",
    "\n",
    "Replication of Figure 1 shows the distributions of starting wages in the two states before and after the rise. In wave 1, the\n",
    "distributions in New Jersey and Pennsylvania were very similar. By wave 2 all restaurants in New Jersey that had been\n",
    "paying less than $5.05 per hour reported a starting wage equal to the new rate.\n",
    "\n",
    "**Replicate Figure 1**"
   ]
  },
  {
   "cell_type": "code",
   "execution_count": 6,
   "metadata": {
    "scrolled": false
   },
   "outputs": [
    {
     "data": {
      "image/png": "[encoded data removed]",
      "text/plain": [
       "<Figure size 1050x700 with 2 Axes>"
      ]
     },
     "metadata": {},
     "output_type": "display_data"
    }
   ],
   "source": [
    "figure1(df_before,df_after)"
   ]
  },
  {
   "cell_type": "markdown",
   "metadata": {},
   "source": [
    "<a class=\"anchor\" id=\"6. Some extension inspections [+]\"></a>\n",
    "\n",
    "---\n",
    "# 6. Some extension inspections [+]\n",
    "---"
   ]
  },
  {
   "cell_type": "markdown",
   "metadata": {},
   "source": [
    "<a class=\"anchor\" id=\"6.1. Alternative definition of Full-Time Equivalent employment\"></a>\n",
    "## 6.1. Alternative definition of Full-Time Equivalent employment\n",
    "\n",
    "One might expect the ratio of full-time to total employment to be a good metric for the average number of hours per worker. Card and Krueger themselves found some evidence that they describe as ambiguous for an increase in the proportion of full-time workers. This result is apparent in the descriptive statistics reported in the table below, which comes from Michl's paper [\"Can Rescheduling Explain the New Jersey Minimum Wage Studies?\"](https://econpapers.repec.org/article/eejeeconj/v_3a26_3ay_3a2000_3ai_3a3_3ap_3a265-276.htm) (see Discussion section). Card and Krueger calculate full-time equivalents (FTE) by adding together the full-time workers (FT), the managers, and one-half the part-time workers(PT), and they measure the fraction full-time by dividing full-time workers (but not managers) by FTE. One might object that these definitions do not conform to the earlier measures, which covered only non-managerial employees and which did not bother with converting to full-time equivalents. To meet this objection, the table below reports a \"head count\" of non-managerial workers, and the fraction of such workers who are full-time. Again, however, the fraction full-time increased in NJ restaurants while declining in the PA sample. Note that the first two rows reflects corresponding Table 2 results."
   ]
  },
  {
   "cell_type": "code",
   "execution_count": 5,
   "metadata": {
    "scrolled": true
   },
   "outputs": [
    {
     "name": "stdout",
     "output_type": "stream",
     "text": [
      "Fraction Full-Time and Total Workers in NJ and PA Restaurants\n"
     ]
    },
    {
     "data": {
      "text/html": [
       "<div>\n",
       "<style scoped>\n",
       "    .dataframe tbody tr th:only-of-type {\n",
       "        vertical-align: middle;\n",
       "    }\n",
       "\n",
       "    .dataframe tbody tr th {\n",
       "        vertical-align: top;\n",
       "    }\n",
       "\n",
       "    .dataframe thead tr th {\n",
       "        text-align: left;\n",
       "    }\n",
       "</style>\n",
       "<table border=\"1\" class=\"dataframe\">\n",
       "  <thead>\n",
       "    <tr>\n",
       "      <th></th>\n",
       "      <th colspan=\"4\" halign=\"left\">New Jersey</th>\n",
       "      <th colspan=\"4\" halign=\"left\">Pennsylvania</th>\n",
       "    </tr>\n",
       "    <tr>\n",
       "      <th></th>\n",
       "      <th>Wave 1 (mean)</th>\n",
       "      <th>Wave 1 (std.dev)</th>\n",
       "      <th>Wave 2 (mean)</th>\n",
       "      <th>Wave 2 (std.dev)</th>\n",
       "      <th>Wave 1 (mean)</th>\n",
       "      <th>Wave 1 (std.dev)</th>\n",
       "      <th>Wave 2 (mean)</th>\n",
       "      <th>Wave 2 (std.dev)</th>\n",
       "    </tr>\n",
       "  </thead>\n",
       "  <tbody>\n",
       "    <tr>\n",
       "      <th>FTE</th>\n",
       "      <td>20.439</td>\n",
       "      <td>9.106</td>\n",
       "      <td>21.027</td>\n",
       "      <td>9.293</td>\n",
       "      <td>23.331</td>\n",
       "      <td>11.856</td>\n",
       "      <td>21.166</td>\n",
       "      <td>8.277</td>\n",
       "    </tr>\n",
       "    <tr>\n",
       "      <th>FT/FTE</th>\n",
       "      <td>0.328</td>\n",
       "      <td>0.238</td>\n",
       "      <td>0.359</td>\n",
       "      <td>0.245</td>\n",
       "      <td>0.350</td>\n",
       "      <td>0.239</td>\n",
       "      <td>0.304</td>\n",
       "      <td>0.245</td>\n",
       "    </tr>\n",
       "    <tr>\n",
       "      <th>FT+PT</th>\n",
       "      <td>26.406</td>\n",
       "      <td>11.881</td>\n",
       "      <td>26.720</td>\n",
       "      <td>12.291</td>\n",
       "      <td>29.692</td>\n",
       "      <td>14.233</td>\n",
       "      <td>27.519</td>\n",
       "      <td>10.250</td>\n",
       "    </tr>\n",
       "    <tr>\n",
       "      <th>FT/(FT+PT)</th>\n",
       "      <td>0.286</td>\n",
       "      <td>0.232</td>\n",
       "      <td>0.320</td>\n",
       "      <td>0.251</td>\n",
       "      <td>0.303</td>\n",
       "      <td>0.236</td>\n",
       "      <td>0.260</td>\n",
       "      <td>0.242</td>\n",
       "    </tr>\n",
       "  </tbody>\n",
       "</table>\n",
       "</div>"
      ],
      "text/plain": [
       "              New Jersey                                                  \\\n",
       "           Wave 1 (mean) Wave 1 (std.dev) Wave 2 (mean) Wave 2 (std.dev)   \n",
       "FTE               20.439            9.106        21.027            9.293   \n",
       "FT/FTE             0.328            0.238         0.359            0.245   \n",
       "FT+PT             26.406           11.881        26.720           12.291   \n",
       "FT/(FT+PT)         0.286            0.232         0.320            0.251   \n",
       "\n",
       "            Pennsylvania                                                  \n",
       "           Wave 1 (mean) Wave 1 (std.dev) Wave 2 (mean) Wave 2 (std.dev)  \n",
       "FTE               23.331           11.856        21.166            8.277  \n",
       "FT/FTE             0.350            0.239         0.304            0.245  \n",
       "FT+PT             29.692           14.233        27.519           10.250  \n",
       "FT/(FT+PT)         0.303            0.236         0.260            0.242  "
      ]
     },
     "execution_count": 5,
     "metadata": {},
     "output_type": "execute_result"
    }
   ],
   "source": [
    "#table3-panel1 from Michl paper\n",
    "table_Michl(df,df_NJ_0,df_NJ_1,df_PA_0,df_PA_1)"
   ]
  },
  {
   "cell_type": "markdown",
   "metadata": {},
   "source": [
    "Here below, correlations between the fraction full-time and total employment (however these are measured) are reported, calculated separately in each wave. In the case of Card's and Krueger's definitions, fraction full-time is positively correlated with FTE. For the \"head count\" definitions, the correlations are small and change sign. Thus explaning the behavior of the fraction full-time is sensitiveto how Full-Time Equivalent employment is defined."
   ]
  },
  {
   "cell_type": "code",
   "execution_count": 6,
   "metadata": {},
   "outputs": [
    {
     "data": {
      "text/html": [
       "<div>\n",
       "<style scoped>\n",
       "    .dataframe tbody tr th:only-of-type {\n",
       "        vertical-align: middle;\n",
       "    }\n",
       "\n",
       "    .dataframe tbody tr th {\n",
       "        vertical-align: top;\n",
       "    }\n",
       "\n",
       "    .dataframe thead th {\n",
       "        text-align: right;\n",
       "    }\n",
       "</style>\n",
       "<table border=\"1\" class=\"dataframe\">\n",
       "  <thead>\n",
       "    <tr style=\"text-align: right;\">\n",
       "      <th></th>\n",
       "      <th>FTE vs FT/FTE (wave 1)</th>\n",
       "      <th>FTE vs FT/FTE (wave 2)</th>\n",
       "      <th>FT+PT vs FT/(FT+PT) (wave 1)</th>\n",
       "      <th>FT+PT vs FT/(FT+PT) (wave 2)</th>\n",
       "    </tr>\n",
       "  </thead>\n",
       "  <tbody>\n",
       "    <tr>\n",
       "      <th>Correlation</th>\n",
       "      <td>0.499</td>\n",
       "      <td>0.451</td>\n",
       "      <td>0.13</td>\n",
       "      <td>-0.011</td>\n",
       "    </tr>\n",
       "  </tbody>\n",
       "</table>\n",
       "</div>"
      ],
      "text/plain": [
       "             FTE vs FT/FTE (wave 1)  FTE vs FT/FTE (wave 2)  \\\n",
       "Correlation                   0.499                   0.451   \n",
       "\n",
       "             FT+PT vs FT/(FT+PT) (wave 1)  FT+PT vs FT/(FT+PT) (wave 2)  \n",
       "Correlation                          0.13                        -0.011  "
      ]
     },
     "execution_count": 6,
     "metadata": {},
     "output_type": "execute_result"
    }
   ],
   "source": [
    "#table3-panel2 from Michl paper\n",
    "corr_Michl(df,df_before,df_after)"
   ]
  },
  {
   "cell_type": "markdown",
   "metadata": {},
   "source": [
    "<a class=\"anchor\" id=\"6.2. Common Support check\"></a>\n",
    "## 6.2. Common Support check\n",
    "\n",
    "We can corroborate Common Support assumption by visually inspecting the ranges of the main control variable 'starting wage', and checking that is not dissimilar for tratment and control cases. $\\curvearrowright$"
   ]
  },
  {
   "cell_type": "code",
   "execution_count": 7,
   "metadata": {
    "scrolled": false
   },
   "outputs": [
    {
     "data": {
      "image/png": "[encoded data removed]",
      "text/plain": [
       "<Figure size 432x288 with 1 Axes>"
      ]
     },
     "metadata": {},
     "output_type": "display_data"
    }
   ],
   "source": [
    "get_common_support(df_PA,df_NJ)"
   ]
  },
  {
   "cell_type": "markdown",
   "metadata": {},
   "source": [
    "<a class=\"anchor\" id=\"6.3. Distribution of other variables by interview wave\"></a>\n",
    "## 6.3. Distribution of other variables by interview wave\n",
    "\n",
    "As further extension we can also plot the distribution in the two waves for other key variables such as Full-time equivalent employment and Price full-meal."
   ]
  },
  {
   "cell_type": "code",
   "execution_count": 253,
   "metadata": {},
   "outputs": [
    {
     "data": {
      "image/png": "[encoded data removed]",
      "text/plain": [
       "<Figure size 1050x700 with 2 Axes>"
      ]
     },
     "metadata": {},
     "output_type": "display_data"
    },
    {
     "data": {
      "image/png": "[encoded data removed]",
      "text/plain": [
       "<Figure size 1050x700 with 2 Axes>"
      ]
     },
     "metadata": {},
     "output_type": "display_data"
    }
   ],
   "source": [
    "sel_var=['FTE','price_full_meal']\n",
    "for i in sel_var:\n",
    "    figures(df_before,df_after,i)"
   ]
  },
  {
   "cell_type": "markdown",
   "metadata": {},
   "source": [
    "<a class=\"anchor\" id=\"6.4. Measurement error\"></a>\n",
    "## 6.4. Measurement error\n",
    "\n",
    "The following figures provide some perspective on the extent of measurement error and on the correlation of the measurement error over time, relative to [Neumark & Wascher](https://www.aeaweb.org/articles?id=10.1257/aer.90.5.1362)'s paper \"Minimum wages and employment: A case study of the fast-food industry in New Jersey and Pennsylvania\" who tackled the same research question but they used payroll data. \n",
    "\n",
    "Given that there likely is a fair amount of persistence in the size of fast-food establishments, we would expect there to be a strong positive correlation between employment levels measured about nine months apart. However, this correlation is likely to be weaker when there is substantial measurement error, as long as the measurement error is not constant across time.    \n",
    "\n",
    "The first figure below depicts a plot of wave 2 vs. wave 1 employment. The correlation is considerably higher in Neumark & Wascher case (they report 0.81)"
   ]
  },
  {
   "cell_type": "code",
   "execution_count": 9,
   "metadata": {},
   "outputs": [
    {
     "name": "stdout",
     "output_type": "stream",
     "text": [
      "The Pearson correlation coefficient is   0.554\n"
     ]
    },
    {
     "data": {
      "image/png": "[encoded data removed]",
      "text/plain": [
       "<Figure size 432x432 with 3 Axes>"
      ]
     },
     "metadata": {},
     "output_type": "display_data"
    }
   ],
   "source": [
    "scatter_corr(df_extended,'FTE','FTE2')"
   ]
  },
  {
   "cell_type": "markdown",
   "metadata": {},
   "source": [
    "This can also be seen by plotting the change in employment against the initial employment level of each restaurant. If employment changes are largely unpredictable based on initial employment, then the correlation between the change in employment and the initial level should be near zero. With classical measurement error that is uncorrelated over time, this correlation should be negative.  \n",
    "\n",
    "The second figure below depicts a strongly negative relationship with a correlation of -0.53, while in Neumark & Wascher case the correlation is relatively small (they report -0.22). This suggests that there is considerable classical measurement error in Card & Krueger’s data that is uncorrelated over time, and, at the same time, this does not rule out a systematic component to the measurement error as well, biasing upward employment growth in one state relative to the other."
   ]
  },
  {
   "cell_type": "code",
   "execution_count": 10,
   "metadata": {},
   "outputs": [
    {
     "name": "stdout",
     "output_type": "stream",
     "text": [
      "The Pearson correlation coefficient is  -0.531\n"
     ]
    },
    {
     "data": {
      "image/png": "[encoded data removed]",
      "text/plain": [
       "<Figure size 432x432 with 3 Axes>"
      ]
     },
     "metadata": {},
     "output_type": "display_data"
    }
   ],
   "source": [
    "scatter_corr(df_extended,'FTE','change_in_FTE')"
   ]
  },
  {
   "cell_type": "markdown",
   "metadata": {},
   "source": [
    "<a class=\"anchor\" id=\"7. Further inspection of Table 3\"></a>\n",
    "\n",
    "---\n",
    "# 7. Further inspection of Table 3\n",
    "---"
   ]
  },
  {
   "cell_type": "markdown",
   "metadata": {},
   "source": [
    "Table 3 summarizes the levels and changes in average employment per store. Data are presented by state in columns(i)and(ii), and for stores in New Jersey classified by whether the starting wage in wave 1 was exactly \\$4.25 per hour\n",
    "-column(iv)- between \\$4.26 and \\$4.99 per hour -column(v)- or $5.00 or more per hour column(vi). Differences in average employment between New Jersey and Pennsylvania stores are shown in column(iii) and between stores in the various wage ranges\n",
    "in New Jersey are shown in columns(vii)and(viii).  \n",
    "\n",
    "Row 3 of the table presents the changes in average employment between waves 1 and 2. These entries are simply the differences\n",
    "between the averages for the two waves (i.e., row 2 minus row 1). An alternative estimate of the change is presented in row 4: here is computed the change in employment over the subsample of stores that reported valid employment data in both\n",
    "waves (balanced sample), which includes 309 observations on fast-food restaurants in NJ and 75 in PA making the total number of observations 384.\n",
    "\n",
    "Note that as previously underlined in Table 2, New Jersey stores were initially smaller than their Pennsylvania counterparts but grew relative to Pennsylvania stores after the rise in the minimum wage. The relative gain (the \"difference in differences\" of the changes in employment) is 2.75 FTE, which remains unaltered when the analysis is restricted to the balanced sample.\n",
    "\n",
    "\n",
    "Within New Jersey, employment expanded at the low-wage stores (those paying \\$4.25 per hour in wave 1) and contracted at\n",
    "the high-wage stores (those paying \\$5.00 or more per hour). Indeed, the average change in employment at the high-wage stores\n",
    "(-2.16 FTE) is almost identical to the change among Pennsylvania stores (-2.28 FTE) $\\Rightarrow$ Since high-wage\n",
    "stores in New Jersey should have been largely unaffected by the new minimum wage, the fact that these two changes are very similar provides a passed **specification test of validity** of the Pennsylvania control group.\n",
    " \n",
    "The results in Table 3 suggest that employment contracted between February and\n",
    "November of 1992 at fast-food stores that were unaffected by the rise in the minimum wage (stores in Pennsylvania and stores in\n",
    "New Jersey paying \\$5.00 per hour or more in wave 1).\n",
    "\n",
    "** Replicate Table 3**"
   ]
  },
  {
   "cell_type": "code",
   "execution_count": 16,
   "metadata": {},
   "outputs": [
    {
     "name": "stdout",
     "output_type": "stream",
     "text": [
      "Average employment per store before and after the rise in New Jersey minimum wage\n"
     ]
    },
    {
     "data": {
      "text/html": [
       "<div>\n",
       "<style scoped>\n",
       "    .dataframe tbody tr th:only-of-type {\n",
       "        vertical-align: middle;\n",
       "    }\n",
       "\n",
       "    .dataframe tbody tr th {\n",
       "        vertical-align: top;\n",
       "    }\n",
       "\n",
       "    .dataframe thead tr th {\n",
       "        text-align: left;\n",
       "    }\n",
       "\n",
       "    .dataframe thead tr:last-of-type th {\n",
       "        text-align: right;\n",
       "    }\n",
       "</style>\n",
       "<table border=\"1\" class=\"dataframe\">\n",
       "  <thead>\n",
       "    <tr>\n",
       "      <th></th>\n",
       "      <th colspan=\"3\" halign=\"left\">Stores by state</th>\n",
       "      <th colspan=\"3\" halign=\"left\">Stores in New Jersey</th>\n",
       "      <th colspan=\"2\" halign=\"left\">Differences within NJ</th>\n",
       "    </tr>\n",
       "    <tr>\n",
       "      <th></th>\n",
       "      <th>PA</th>\n",
       "      <th>NJ</th>\n",
       "      <th>difference, NJ - PA</th>\n",
       "      <th>wage=\\$4.25</th>\n",
       "      <th>wage=\\$4.26-\\$4.99</th>\n",
       "      <th>wage&gt;=\\$5</th>\n",
       "      <th>low - high</th>\n",
       "      <th>midrange - high</th>\n",
       "    </tr>\n",
       "    <tr>\n",
       "      <th>variables</th>\n",
       "      <th></th>\n",
       "      <th></th>\n",
       "      <th></th>\n",
       "      <th></th>\n",
       "      <th></th>\n",
       "      <th></th>\n",
       "      <th></th>\n",
       "      <th></th>\n",
       "    </tr>\n",
       "  </thead>\n",
       "  <tbody>\n",
       "    <tr>\n",
       "      <th>FTE employment before, all available observations</th>\n",
       "      <td>23.33</td>\n",
       "      <td>20.44</td>\n",
       "      <td>-2.89</td>\n",
       "      <td>19.56</td>\n",
       "      <td>20.08</td>\n",
       "      <td>22.25</td>\n",
       "      <td>-2.69</td>\n",
       "      <td>-2.17</td>\n",
       "    </tr>\n",
       "    <tr>\n",
       "      <th>FTE employment after, all available observations</th>\n",
       "      <td>21.17</td>\n",
       "      <td>21.03</td>\n",
       "      <td>-0.14</td>\n",
       "      <td>20.88</td>\n",
       "      <td>20.96</td>\n",
       "      <td>20.21</td>\n",
       "      <td>0.66</td>\n",
       "      <td>0.74</td>\n",
       "    </tr>\n",
       "    <tr>\n",
       "      <th>change in mean FTE employment</th>\n",
       "      <td>-2.17</td>\n",
       "      <td>0.59</td>\n",
       "      <td>2.75</td>\n",
       "      <td>1.32</td>\n",
       "      <td>0.87</td>\n",
       "      <td>-2.04</td>\n",
       "      <td>3.36</td>\n",
       "      <td>2.91</td>\n",
       "    </tr>\n",
       "    <tr>\n",
       "      <th>change in mean FTE employment, balanced sample of stores</th>\n",
       "      <td>-2.28</td>\n",
       "      <td>0.47</td>\n",
       "      <td>2.75</td>\n",
       "      <td>1.20</td>\n",
       "      <td>0.71</td>\n",
       "      <td>-2.16</td>\n",
       "      <td>3.36</td>\n",
       "      <td>2.87</td>\n",
       "    </tr>\n",
       "  </tbody>\n",
       "</table>\n",
       "</div>"
      ],
      "text/plain": [
       "                                                   Stores by state       \\\n",
       "                                                                     PA   \n",
       "variables                                                                 \n",
       "FTE employment before, all available observations                 23.33   \n",
       "FTE employment after, all available observations                  21.17   \n",
       "change in mean FTE employment                                     -2.17   \n",
       "change in mean FTE employment, balanced sample ...                -2.28   \n",
       "\n",
       "                                                                               \\\n",
       "                                                       NJ difference, NJ - PA   \n",
       "variables                                                                       \n",
       "FTE employment before, all available observations   20.44               -2.89   \n",
       "FTE employment after, all available observations    21.03               -0.14   \n",
       "change in mean FTE employment                        0.59                2.75   \n",
       "change in mean FTE employment, balanced sample ...   0.47                2.75   \n",
       "\n",
       "                                                        Stores in New Jersey  \\\n",
       "                                                                 wage=\\$4.25   \n",
       "variables                                                                      \n",
       "FTE employment before, all available observations                      19.56   \n",
       "FTE employment after, all available observations                       20.88   \n",
       "change in mean FTE employment                                           1.32   \n",
       "change in mean FTE employment, balanced sample ...                      1.20   \n",
       "\n",
       "                                                                       \\\n",
       "                                                   wage=\\$4.26-\\$4.99   \n",
       "variables                                                               \n",
       "FTE employment before, all available observations               20.08   \n",
       "FTE employment after, all available observations                20.96   \n",
       "change in mean FTE employment                                    0.87   \n",
       "change in mean FTE employment, balanced sample ...               0.71   \n",
       "\n",
       "                                                              \\\n",
       "                                                   wage>=\\$5   \n",
       "variables                                                      \n",
       "FTE employment before, all available observations      22.25   \n",
       "FTE employment after, all available observations       20.21   \n",
       "change in mean FTE employment                          -2.04   \n",
       "change in mean FTE employment, balanced sample ...     -2.16   \n",
       "\n",
       "                                                   Differences within NJ  \\\n",
       "                                                              low - high   \n",
       "variables                                                                  \n",
       "FTE employment before, all available observations                  -2.69   \n",
       "FTE employment after, all available observations                    0.66   \n",
       "change in mean FTE employment                                       3.36   \n",
       "change in mean FTE employment, balanced sample ...                  3.36   \n",
       "\n",
       "                                                                    \n",
       "                                                   midrange - high  \n",
       "variables                                                           \n",
       "FTE employment before, all available observations            -2.17  \n",
       "FTE employment after, all available observations              0.74  \n",
       "change in mean FTE employment                                 2.91  \n",
       "change in mean FTE employment, balanced sample ...            2.87  "
      ]
     },
     "execution_count": 16,
     "metadata": {},
     "output_type": "execute_result"
    }
   ],
   "source": [
    "df_tab3=df_extended[(df_extended.FTE.notna())] #data for row1 column 1-3\n",
    "df_tab3_2=df_extended[(df_extended.wage_st.notna())] #data for row1 column 4-8 and row2 column 4-8\n",
    "df_tab3_3=df_extended[(df_extended.FTE2.notna())] #data for row2 column 1-3\n",
    "df_tab3_4=df_extended[(df_extended.FTE.notna()) & (df_extended.FTE2.notna())] #data for row4 column 1-3\n",
    "df_tab3_5=df_tab3_4[(df_tab3_4.wage_st.notna())] #data for row4 column 4-8\n",
    "\n",
    "get_table3(df_tab3,df_tab3_2,df_tab3_3,df_tab3_4,df_tab3_5)"
   ]
  },
  {
   "cell_type": "markdown",
   "metadata": {},
   "source": [
    "<a class=\"anchor\" id=\"7.1. Tree plot [+]\"></a>\n",
    "## 7.1. Tree plot [+]\n",
    "\n",
    "We can visually inspect Table 3 results that reflects columnns (i)and(ii) of the first two rows by means of a regression tree plot (terminal leaf values corresponds to Table 3 entries). 'State' and 'time' are used as covariates and 'FTE' as target. To deal with missing values in FTE we can drop them or replace them by its mean across State. Since both scenarios yield close results, only the former is plotted below. "
   ]
  },
  {
   "cell_type": "code",
   "execution_count": null,
   "metadata": {},
   "outputs": [],
   "source": [
    "#regression tree in which occurences with missing values are imputed with FTE mean by State\n",
    "data_imputeNA=df[['time','state','FTE']]\n",
    "\n",
    "nj_impute=data_imputeNA.loc[(data_imputeNA['state']==1),'FTE'].mean()\n",
    "pa_impute=data_imputeNA.loc[(data_imputeNA['state']==0),'FTE'].mean()\n",
    "data_imputeNA.loc[(data_imputeNA['state']==1) & (pd.isna(data_imputeNA['FTE'])),'FTE']= nj_impute\n",
    "data_imputeNA.loc[(data_imputeNA['state']==0) & (pd.isna(data_imputeNA['FTE'])),'FTE']= pa_impute\n",
    "\n",
    "X = data_imputeNA[['time','state']]\n",
    "y = data_imputeNA['FTE']\n",
    "\n",
    "regr = DecisionTreeRegressor()\n",
    "model = regr.fit(X, y)\n",
    "\n",
    "fig = pltpy.figure(figsize=(10,5))\n",
    "_ = sklearn.tree.plot_tree(regr, feature_names=['time','state'], filled=True)"
   ]
  },
  {
   "cell_type": "code",
   "execution_count": 13,
   "metadata": {},
   "outputs": [
    {
     "data": {
      "image/png": "[encoded data removed]",
      "text/plain": [
       "<Figure size 720x360 with 1 Axes>"
      ]
     },
     "metadata": {},
     "output_type": "display_data"
    }
   ],
   "source": [
    "#regression tree in which occurences with missing values are droppped\n",
    "data_dropNA=df[['time','state','FTE']][(df.FTE.notna())]\n",
    "X = data_dropNA[['time','state']]\n",
    "y = data_dropNA['FTE']\n",
    "\n",
    "regr = DecisionTreeRegressor()\n",
    "model = regr.fit(X, y)\n",
    "\n",
    "fig = pltpy.figure(figsize=(10,5))\n",
    "_ = sklearn.tree.plot_tree(regr, feature_names=['time','state'], filled=True)"
   ]
  },
  {
   "cell_type": "markdown",
   "metadata": {},
   "source": [
    "<a class=\"anchor\" id=\"7.2. New Jersey mean employment conditioning on wage level [+]\"></a>\n",
    "## 7.2. New Jersey mean employment conditioning on wage level [+]\n",
    "\n",
    "We can further visually inspect Table 3 results that reflects columnns (iv)and(vi) of the first two rows by means of a bar chart in the same way Card & Krueger (2000) did in their [reply](https://www.aeaweb.org/articles?id=10.1257/aer.90.5.1397) to their 1994 study (Figure 4, page 1417).\n",
    "\n",
    "At glance we can see that employment growth within New Jersey was faster in restaurants that had to increase wages more as a consequence of the rise in the minimum wage. Thus, it follows the same trend as Card & Krueger (2000) double-checked."
   ]
  },
  {
   "cell_type": "code",
   "execution_count": 6,
   "metadata": {},
   "outputs": [
    {
     "data": {
      "image/png": "[encoded data removed]",
      "text/plain": [
       "<Figure size 432x288 with 1 Axes>"
      ]
     },
     "metadata": {},
     "output_type": "display_data"
    }
   ],
   "source": [
    "bar_chart_wage(df_NJ_0,df_extended)"
   ]
  },
  {
   "cell_type": "markdown",
   "metadata": {},
   "source": [
    "<a class=\"anchor\" id=\"8. Difference in differences implementation\"></a>\n",
    "\n",
    "---\n",
    "# 8. Difference in differences implementation\n",
    "---"
   ]
  },
  {
   "cell_type": "markdown",
   "metadata": {},
   "source": [
    "Although the starting wage and the price of an average meal are not the main outcome of interest, what does a dif-in-dif analysis suggest about the effectiveness of the minimum-wage policy?"
   ]
  },
  {
   "cell_type": "code",
   "execution_count": 9,
   "metadata": {},
   "outputs": [
    {
     "name": "stdout",
     "output_type": "stream",
     "text": [
      "dif-in-dif contingency table for the change in starting wage\n"
     ]
    },
    {
     "data": {
      "text/html": [
       "<div>\n",
       "<style scoped>\n",
       "    .dataframe tbody tr th:only-of-type {\n",
       "        vertical-align: middle;\n",
       "    }\n",
       "\n",
       "    .dataframe tbody tr th {\n",
       "        vertical-align: top;\n",
       "    }\n",
       "\n",
       "    .dataframe thead th {\n",
       "        text-align: right;\n",
       "    }\n",
       "</style>\n",
       "<table border=\"1\" class=\"dataframe\">\n",
       "  <thead>\n",
       "    <tr style=\"text-align: right;\">\n",
       "      <th></th>\n",
       "      <th>after</th>\n",
       "      <th>before</th>\n",
       "      <th>$\\Delta$</th>\n",
       "    </tr>\n",
       "  </thead>\n",
       "  <tbody>\n",
       "    <tr>\n",
       "      <th>NJ</th>\n",
       "      <td>5.08</td>\n",
       "      <td>4.61</td>\n",
       "      <td>0.47</td>\n",
       "    </tr>\n",
       "    <tr>\n",
       "      <th>PA</th>\n",
       "      <td>4.62</td>\n",
       "      <td>4.63</td>\n",
       "      <td>-0.01</td>\n",
       "    </tr>\n",
       "  </tbody>\n",
       "</table>\n",
       "</div>"
      ],
      "text/plain": [
       "    after  before  $\\Delta$\n",
       "NJ   5.08    4.61      0.47\n",
       "PA   4.62    4.63     -0.01"
      ]
     },
     "execution_count": 9,
     "metadata": {},
     "output_type": "execute_result"
    }
   ],
   "source": [
    "print(\"dif-in-dif contingency table for the change in starting wage\")\n",
    "did_est('wage_st',df)"
   ]
  },
  {
   "cell_type": "markdown",
   "metadata": {},
   "source": [
    "The average starting wage rates are clearly very similar in New Jersey and Pennsylvania before the change in the minimum wage for New Jersey. The pre-treatment difference in means is about 2 cents, whereas the post-treatment difference in means is nearly 50 cents. This suggests that the minimum wage increase was successfully adopted in most NJ restaurants."
   ]
  },
  {
   "cell_type": "code",
   "execution_count": 10,
   "metadata": {},
   "outputs": [
    {
     "name": "stdout",
     "output_type": "stream",
     "text": [
      "Dif-in-dif estimate is 0.48\n"
     ]
    }
   ],
   "source": [
    "print(\"Dif-in-dif estimate is\", round(did_est('wage_st',df)['$\\Delta$'][0]-did_est('wage_st',df)['$\\Delta$'][1],2))"
   ]
  },
  {
   "cell_type": "code",
   "execution_count": 11,
   "metadata": {},
   "outputs": [
    {
     "name": "stdout",
     "output_type": "stream",
     "text": [
      "dif-in-dif contingency table for the change in meal price\n"
     ]
    },
    {
     "data": {
      "text/html": [
       "<div>\n",
       "<style scoped>\n",
       "    .dataframe tbody tr th:only-of-type {\n",
       "        vertical-align: middle;\n",
       "    }\n",
       "\n",
       "    .dataframe tbody tr th {\n",
       "        vertical-align: top;\n",
       "    }\n",
       "\n",
       "    .dataframe thead th {\n",
       "        text-align: right;\n",
       "    }\n",
       "</style>\n",
       "<table border=\"1\" class=\"dataframe\">\n",
       "  <thead>\n",
       "    <tr style=\"text-align: right;\">\n",
       "      <th></th>\n",
       "      <th>after</th>\n",
       "      <th>before</th>\n",
       "      <th>$\\Delta$</th>\n",
       "    </tr>\n",
       "  </thead>\n",
       "  <tbody>\n",
       "    <tr>\n",
       "      <th>NJ</th>\n",
       "      <td>3.41</td>\n",
       "      <td>3.35</td>\n",
       "      <td>0.06</td>\n",
       "    </tr>\n",
       "    <tr>\n",
       "      <th>PA</th>\n",
       "      <td>3.03</td>\n",
       "      <td>3.04</td>\n",
       "      <td>-0.01</td>\n",
       "    </tr>\n",
       "  </tbody>\n",
       "</table>\n",
       "</div>"
      ],
      "text/plain": [
       "    after  before  $\\Delta$\n",
       "NJ   3.41    3.35      0.06\n",
       "PA   3.03    3.04     -0.01"
      ]
     },
     "execution_count": 11,
     "metadata": {},
     "output_type": "execute_result"
    }
   ],
   "source": [
    "print(\"dif-in-dif contingency table for the change in meal price\")\n",
    "did_est('price_full_meal',df)"
   ]
  },
  {
   "cell_type": "code",
   "execution_count": 12,
   "metadata": {},
   "outputs": [
    {
     "name": "stdout",
     "output_type": "stream",
     "text": [
      "Dif-in-dif estimate is 0.07\n"
     ]
    }
   ],
   "source": [
    "print(\"Dif-in-dif estimate is\", round(did_est('price_full_meal',df)['$\\Delta$'][0]-did_est('price_full_meal',df)['$\\Delta$'][1],2))"
   ]
  },
  {
   "cell_type": "markdown",
   "metadata": {},
   "source": [
    "The difference-in-differences estimate suggests that there is a very small increase (about 7 cents) in the average price of a meal after the introduction of the new minimum wage in NJ. It does not appear to be the case that the costs of the minimum wage increase were passed on to consumers."
   ]
  },
  {
   "cell_type": "markdown",
   "metadata": {},
   "source": [
    "Let's compute the FTE of NJ, PA and the counterfactual:"
   ]
  },
  {
   "cell_type": "code",
   "execution_count": 13,
   "metadata": {},
   "outputs": [],
   "source": [
    "'''\n",
    "2x2 dif-in-dif table\n",
    "'''\n",
    "# NJ Before and after\n",
    "NJ_before = round(df.loc[(df['state']==1) & (df['time']!=1),'FTE'].mean(),2)\n",
    "NJ_after  = round(df.loc[(df['state']==1) & (df['time']==1),'FTE'].mean(),2)\n",
    "\n",
    "# PA Before and after\n",
    "PA_before = round(df.loc[(df['state']!=1) & (df['time']!=1),'FTE'].mean(),2)\n",
    "PA_after  = round(df.loc[(df['state']!=1) & (df['time']==1),'FTE'].mean(),2)\n",
    "\n",
    "# NJ counterfactual (if no treatment)\n",
    "NJ_counterfactual = round(NJ_before + ( NJ_before - PA_before ),2)"
   ]
  },
  {
   "cell_type": "markdown",
   "metadata": {},
   "source": [
    "                                        Formally, accordind to Potential Outcome framework:\n",
    "\n",
    "|      |**After** the increase (T=1)|**Before** the increase (T=0)|\n",
    "|------|------|------|\n",
    "|Receive the increase <br> **(Treated)** $D_i =1$     |$ E[Y1_i (1) |D_i =1]$     |$ E[Y0_i (0) |D_i =1]$     |\n",
    "|Doesn't receive the increase <br> **(control)** $D_i =0$     |$ E[Y0_i (1) |D_i =0]$     |$ E[Y0_i (0) |D_i =0]$     |"
   ]
  },
  {
   "cell_type": "code",
   "execution_count": 14,
   "metadata": {},
   "outputs": [
    {
     "name": "stdout",
     "output_type": "stream",
     "text": [
      "dif-in-dif contingency table for the change in FTE\n"
     ]
    },
    {
     "data": {
      "text/html": [
       "<div>\n",
       "<style scoped>\n",
       "    .dataframe tbody tr th:only-of-type {\n",
       "        vertical-align: middle;\n",
       "    }\n",
       "\n",
       "    .dataframe tbody tr th {\n",
       "        vertical-align: top;\n",
       "    }\n",
       "\n",
       "    .dataframe thead th {\n",
       "        text-align: right;\n",
       "    }\n",
       "</style>\n",
       "<table border=\"1\" class=\"dataframe\">\n",
       "  <thead>\n",
       "    <tr style=\"text-align: right;\">\n",
       "      <th></th>\n",
       "      <th>after</th>\n",
       "      <th>before</th>\n",
       "      <th>$\\Delta$</th>\n",
       "    </tr>\n",
       "  </thead>\n",
       "  <tbody>\n",
       "    <tr>\n",
       "      <th>NJ</th>\n",
       "      <td>21.03</td>\n",
       "      <td>20.44</td>\n",
       "      <td>0.59</td>\n",
       "    </tr>\n",
       "    <tr>\n",
       "      <th>PA</th>\n",
       "      <td>21.17</td>\n",
       "      <td>23.33</td>\n",
       "      <td>-2.16</td>\n",
       "    </tr>\n",
       "  </tbody>\n",
       "</table>\n",
       "</div>"
      ],
      "text/plain": [
       "    after  before  $\\Delta$\n",
       "NJ  21.03   20.44      0.59\n",
       "PA  21.17   23.33     -2.16"
      ]
     },
     "execution_count": 14,
     "metadata": {},
     "output_type": "execute_result"
    }
   ],
   "source": [
    "print(\"dif-in-dif contingency table for the change in FTE\")\n",
    "did_est('FTE',df)"
   ]
  },
  {
   "cell_type": "markdown",
   "metadata": {},
   "source": [
    "Wave2 difference is the post-policy change difference in FTE employment means between the treated state (NJ) and the control state (PA), while Wave1 difference is the pre-policy change difference in FTE employment means between the treated state (NJ) and the control state (PA).\n",
    "\n",
    "The pre-treatment difference in means shows that New Jersey restaurants were initially significantly smaller in terms of full time employees in employment than Pennsylvanian restaurants, but the post-treatment period calculation suggests that this difference in FTE employment rates between NJ and PA stores had disappeared after the application of the treatment."
   ]
  },
  {
   "cell_type": "code",
   "execution_count": 15,
   "metadata": {},
   "outputs": [
    {
     "name": "stdout",
     "output_type": "stream",
     "text": [
      "Dif-in-dif estimate is 2.75\n"
     ]
    }
   ],
   "source": [
    "print(\"Dif-in-dif estimate is\", round(did_est('FTE',df)['$\\Delta$'][0]-did_est('FTE',df)['$\\Delta$'][1],2))"
   ]
  },
  {
   "cell_type": "markdown",
   "metadata": {},
   "source": [
    "The interpretation is that employment in New Jersey rose by about 2.75 FTE due to the minimum wage increase. Therefore, this estimate means that the relatives gain after the increase in minimum wage for New Jersey stores compare to Pennslyvania stores (“the difference-in-differences” of the changes in employment for the subset of stores with available employment data in wave 1 and wave 2) is 2.75 FTE employees. Since the number is positive, at face value, the policy change has not led employers to cut employment. However, we should check the standard error to see if the estimated impact is statistically significant. Indeed, that is what I am going to do in the next section. \n",
    "\n",
    "  "
   ]
  },
  {
   "cell_type": "markdown",
   "metadata": {},
   "source": [
    "<a class=\"anchor\" id=\"8.1. D-i-D plot [+]\"></a>\n",
    "## 8.1. D-i-D plot [+]\n",
    "\n",
    "We can plot the DiD in a similar fashion like [Mostly Harmless Econometrics](https://www.mostlyharmlesseconometrics.com/) book does:  \n",
    "![ERROR:Here should be DiD plot](files/DiD_plot.jpg)"
   ]
  },
  {
   "cell_type": "code",
   "execution_count": 20,
   "metadata": {
    "scrolled": true
   },
   "outputs": [
    {
     "data": {
      "text/plain": [
       "<Figure size 320x240 with 0 Axes>"
      ]
     },
     "execution_count": 20,
     "metadata": {},
     "output_type": "execute_result"
    },
    {
     "data": {
      "text/plain": [
       "<Figure size 320x240 with 0 Axes>"
      ]
     },
     "metadata": {},
     "output_type": "display_data"
    },
    {
     "data": {
      "image/png": "[encoded data removed]",
      "text/plain": [
       "<Figure size 432x288 with 1 Axes>"
      ]
     },
     "metadata": {},
     "output_type": "display_data"
    }
   ],
   "source": [
    "did_visual(NJ_before,NJ_after,PA_before,PA_after,NJ_counterfactual)"
   ]
  },
  {
   "cell_type": "markdown",
   "metadata": {},
   "source": [
    "<a class=\"anchor\" id=\"9. Regression-adjusted models\"></a>\n",
    "\n",
    "---\n",
    "# 9. Regression-adjusted models\n",
    "---"
   ]
  },
  {
   "cell_type": "markdown",
   "metadata": {},
   "source": [
    " The DiD estimator can easily be implemented using regression. This is\n",
    "a convenient way to obtain estimates and the corresponding standard errors in one step.\n",
    "\n",
    "Consider the DiD linear regression model:  \n",
    "\n",
    "$$employment_{i,t} = \\beta_0 + \\beta_1 D_t + \\beta_2 state_i + \\beta_3 (D_t \\times state_i) + \\varepsilon_{i,t}$$\n",
    "\n",
    "where,\n",
    "\n",
    "\\begin{align*}\n",
    "D_t = \\begin{cases}\n",
    "0, & \\, \\text{if $t=0$ (before wage change),} \\\\\\\\\n",
    "1, & \\, \\text{if $t=1$ (after wage change)}\n",
    "\\end{cases}\n",
    "\\end{align*}\n",
    "\n",
    "In this model, $\\beta_3$ is the coefficient we are interested in as it is interpreted as the average difference in employment of New Jersey fastfood restaurants before and after the wage increase after controlling for unobservables which are common to New Jersey and Pennsylvania, the control group.\n",
    "\n",
    "Here is the connection between the mean estimates that we have been talking about so far and the DiD regression parameter:\n",
    "\n",
    "\n",
    "\n",
    "|               |New Jersey  |Pennsylvania|Difference|\n",
    "|---------------|------------|-----------|-----------|\n",
    "|Before Increase|20.44       |23.33       |2.89      |\n",
    "|After Increase |21.03       |21.17       |0.14      |\n",
    "|Difference     |0.59        |-2.16       |**2.75**  |\n",
    "\n",
    "\n",
    "$$\\updownarrow$$\n",
    "\n",
    "|               |New Jersey  |Pennsylvania|Difference|\n",
    "|---------------|------------|-----------|-----------|\n",
    "|Before Increase|$\\beta_0+\\beta_1$       |$\\beta_0$       |$\\beta_1$      |\n",
    "|After Increase |$\\beta_0+\\beta_1+\\beta_2+\\beta_3$       |$\\beta_0+\\beta_2$       |$\\beta_1+\\beta_3$      |\n",
    "|Difference     |$\\beta_2+\\beta_3$        |$\\beta_2$       |** $\\beta_3$ **  |"
   ]
  },
  {
   "cell_type": "markdown",
   "metadata": {},
   "source": [
    "The OLS estimator of $\\beta_3$ is called a DiD estimator."
   ]
  },
  {
   "cell_type": "code",
   "execution_count": 20,
   "metadata": {},
   "outputs": [],
   "source": [
    "model = smf.ols(formula = \"FTE ~ state*time\", data = df).fit()"
   ]
  },
  {
   "cell_type": "markdown",
   "metadata": {},
   "source": [
    "We see that the dif-in-dif coefficient estimate from the regression output is the same as computed manually above from the $\\Delta$ table. Additionally, now we know that it is not significant at 10% level."
   ]
  },
  {
   "cell_type": "code",
   "execution_count": 17,
   "metadata": {},
   "outputs": [
    {
     "name": "stdout",
     "output_type": "stream",
     "text": [
      "Dif-in-dif coefficient estimate is  2.75\n"
     ]
    }
   ],
   "source": [
    "print(\"Dif-in-dif coefficient estimate is \",round(model.params[3],2))"
   ]
  },
  {
   "cell_type": "markdown",
   "metadata": {},
   "source": [
    "More precisely, this approach is called “Two-way fixed effects difference-in-difference estimator” since it has two sets of fixed effects, one for group and one for time period. Indeed if we explicitly use a fixed effect command function we obtain the same result.  \n",
    "\n",
    "Thus the above DiD linear regression is identical to the two-way fixed effects regression\n",
    "$$employment_{i,t} = \\beta_3 (D_t \\times state_i) +u_i+v_t+ \\varepsilon_{i,t}$$ ,\n",
    "where $u_i$ isw a restaurant fixed effect and $v_t$ is a time fixed effect.\n",
    "\n",
    "For example, as shown below, we can retrieve DiD coefficient and its standard error from row 4 of table 3 in the paper, which only includes fast food restaurants that have responses regarding employment (FTE) before and after the treatment (this is a so called balanced sample)."
   ]
  },
  {
   "cell_type": "code",
   "execution_count": 58,
   "metadata": {},
   "outputs": [
    {
     "name": "stdout",
     "output_type": "stream",
     "text": [
      "                          PanelOLS Estimation Summary                           \n",
      "================================================================================\n",
      "Dep. Variable:                    FTE   R-squared:                        0.0146\n",
      "Estimator:                   PanelOLS   R-squared (Between):              0.0871\n",
      "No. Observations:                 794   R-squared (Within):              -0.0495\n",
      "Date:                Thu, Jul 22 2021   R-squared (Overall):              0.0818\n",
      "Time:                        18:45:56   Log-likelihood                   -2302.7\n",
      "Cov. Estimator:             Clustered                                           \n",
      "                                        F-statistic:                      5.6753\n",
      "Entities:                         410   P-value                           0.0177\n",
      "Avg Obs:                       1.9366   Distribution:                   F(1,382)\n",
      "Min Obs:                       1.0000                                           \n",
      "Max Obs:                       2.0000   F-statistic (robust):             4.0876\n",
      "                                        P-value                           0.0439\n",
      "Time periods:                       2   Distribution:                   F(1,382)\n",
      "Avg Obs:                       397.00                                           \n",
      "Min Obs:                       396.00                                           \n",
      "Max Obs:                       398.00                                           \n",
      "                                                                                \n",
      "                             Parameter Estimates                              \n",
      "==============================================================================\n",
      "            Parameter  Std. Err.     T-stat    P-value    Lower CI    Upper CI\n",
      "------------------------------------------------------------------------------\n",
      "nj_after       2.7500     1.3602     2.0218     0.0439      0.0756      5.4244\n",
      "==============================================================================\n",
      "\n",
      "F-test for Poolability: 3.3391\n",
      "P-value: 0.0000\n",
      "Distribution: F(410,382)\n",
      "\n",
      "Included effects: Entity, Time\n"
     ]
    }
   ],
   "source": [
    "df_new = pd.read_stata('data/CK1994.dta')\n",
    "df_new[\"FTE\"] = df_new.empft + df_new.nmgrs + 0.5 * df_new.emppt\n",
    "df_new[\"nj_after\"] = df_new.state * df_new.time\n",
    "df_fe = df_new.set_index(['store','time'])\n",
    "\n",
    "#with linearmodels\n",
    "mod = lm.PanelOLS.from_formula('FTE ~ nj_after + EntityEffects +TimeEffects ',df_fe)\n",
    "clfe = mod.fit(cov_type = 'clustered',\n",
    "cluster_entity = True, cluster_time=True)\n",
    "print(clfe)"
   ]
  },
  {
   "cell_type": "markdown",
   "metadata": {},
   "source": [
    "### Adding controls\n",
    "\n",
    "The regression formulation of DiD also allows to include additional control variables.  \n",
    "In a DiD you can control for other covariates that may differ between the groups, and the main reason for doing this is to have a more robust identification and decreasing the variance of the regression coefficient estimates.  \n",
    "\n",
    "The DiD linear regression model becomes:\n",
    "$$Y_{i,t} = \\beta_0 + \\beta_1 D_t + \\beta_2 state_i + \\beta_3 (D_t \\times state_i)+\\beta_4 X_{st} + \\varepsilon_{i,t},$$\n",
    "where $X_{st}$ are observable characteristics for each state (e.g. industry structure).  \n",
    "In this specification $\\beta_1$ would capture an average time trend (across all states); and the inclusion of $X_{st}$ would allow for differences in the time trend across states based on observables $X_{st}$.  \n",
    "Hence, the estimate of $\\beta_3$ would isolate the treatment effect from a general time trend and state specific trends due to observable differences.\n",
    "\n",
    "As shown below,for instance when including dummies for store chains and for store locations, the dif-in-dif coefficient is statistically significant at 10% level, meaning the minimum wage law has some sort of impact on employment. "
   ]
  },
  {
   "cell_type": "code",
   "execution_count": 71,
   "metadata": {},
   "outputs": [
    {
     "data": {
      "text/html": [
       "<table class=\"simpletable\">\n",
       "<tr>\n",
       "       <td></td>         <th>coef</th>     <th>std err</th>      <th>t</th>      <th>P>|t|</th>  <th>[0.025</th>    <th>0.975]</th>  \n",
       "</tr>\n",
       "<tr>\n",
       "  <th>Intercept</th>  <td> 1.285e+14</td> <td> 5.61e+13</td> <td>    2.293</td> <td> 0.022</td> <td> 1.85e+13</td> <td> 2.39e+14</td>\n",
       "</tr>\n",
       "<tr>\n",
       "  <th>state</th>      <td>-1.285e+14</td> <td> 5.61e+13</td> <td>   -2.293</td> <td> 0.022</td> <td>-2.39e+14</td> <td>-1.85e+13</td>\n",
       "</tr>\n",
       "<tr>\n",
       "  <th>time</th>       <td>   -2.1690</td> <td>    1.351</td> <td>   -1.606</td> <td> 0.109</td> <td>   -4.821</td> <td>    0.483</td>\n",
       "</tr>\n",
       "<tr>\n",
       "  <th>state:time</th> <td>    2.8220</td> <td>    1.504</td> <td>    1.876</td> <td> 0.061</td> <td>   -0.131</td> <td>    5.775</td>\n",
       "</tr>\n",
       "<tr>\n",
       "  <th>kfc</th>        <td>  -10.0045</td> <td>    0.846</td> <td>  -11.823</td> <td> 0.000</td> <td>  -11.666</td> <td>   -8.343</td>\n",
       "</tr>\n",
       "<tr>\n",
       "  <th>roys</th>       <td>   -1.6720</td> <td>    0.860</td> <td>   -1.943</td> <td> 0.052</td> <td>   -3.361</td> <td>    0.017</td>\n",
       "</tr>\n",
       "<tr>\n",
       "  <th>wendys</th>     <td>   -0.9936</td> <td>    0.922</td> <td>   -1.077</td> <td> 0.282</td> <td>   -2.804</td> <td>    0.817</td>\n",
       "</tr>\n",
       "<tr>\n",
       "  <th>co_owned</th>   <td>   -0.6806</td> <td>    0.720</td> <td>   -0.945</td> <td> 0.345</td> <td>   -2.094</td> <td>    0.733</td>\n",
       "</tr>\n",
       "<tr>\n",
       "  <th>southj</th>     <td>   -3.7196</td> <td>    0.781</td> <td>   -4.762</td> <td> 0.000</td> <td>   -5.253</td> <td>   -2.186</td>\n",
       "</tr>\n",
       "<tr>\n",
       "  <th>centralj</th>   <td>   -0.2097</td> <td>    0.904</td> <td>   -0.232</td> <td> 0.817</td> <td>   -1.984</td> <td>    1.564</td>\n",
       "</tr>\n",
       "<tr>\n",
       "  <th>pa1</th>        <td>-1.285e+14</td> <td> 5.61e+13</td> <td>   -2.293</td> <td> 0.022</td> <td>-2.39e+14</td> <td>-1.85e+13</td>\n",
       "</tr>\n",
       "<tr>\n",
       "  <th>pa2</th>        <td>-1.285e+14</td> <td> 5.61e+13</td> <td>   -2.293</td> <td> 0.022</td> <td>-2.39e+14</td> <td>-1.85e+13</td>\n",
       "</tr>\n",
       "</table>"
      ],
      "text/plain": [
       "<class 'statsmodels.iolib.table.SimpleTable'>"
      ]
     },
     "execution_count": 71,
     "metadata": {},
     "output_type": "execute_result"
    }
   ],
   "source": [
    "model = smf.ols(formula = \"FTE ~ state*time + kfc + roys + wendys + co_owned + southj + centralj + pa1+pa2\", data = df).fit()\n",
    "model.summary().tables[1]"
   ]
  },
  {
   "cell_type": "markdown",
   "metadata": {},
   "source": [
    "Merely to give another example, we could augment the regression to include the variable 'hoursopen', the number\n",
    "of hours a day the restaurant is open. As reported by the regression output, a restaurant with longer hours will tend to have more employees.\n",
    "\n",
    "$$\\begin{array}{cccc}\n",
    "Y_{it} = & 2.84 (D_t \\times state_i) & +1.17 hoursopen_{it} & +u_i+v_t+ \\varepsilon_{i,t}\\\\\\\n",
    "       & (1.15) & (0.45)\n",
    "\\end{array}$$\n",
    "\n",
    "The estimated effect is that a restaurant employs an additional 1.17 employees for each hour open and\n",
    "this effect is statistically significant. The estimated treatment effect is not meaningfully changed."
   ]
  },
  {
   "cell_type": "code",
   "execution_count": 66,
   "metadata": {},
   "outputs": [
    {
     "name": "stdout",
     "output_type": "stream",
     "text": [
      "nj_after     2.839666\n",
      "hoursopen    1.173974\n",
      "Name: parameter, dtype: float64\n",
      "\n",
      "\n",
      "nj_after     0.013778\n",
      "hoursopen    0.009944\n",
      "Name: pvalue, dtype: float64\n"
     ]
    }
   ],
   "source": [
    "mod = lm.PanelOLS.from_formula('FTE ~ nj_after + EntityEffects +TimeEffects  + hoursopen',df_fe).fit()\n",
    "print(mod.params)\n",
    "print('\\n')\n",
    "print(mod.pvalues)"
   ]
  },
  {
   "cell_type": "markdown",
   "metadata": {},
   "source": [
    "Let's continue with the replication of the paper tables.  \n",
    "\n",
    "There are a few different **empirical specifications** in the paper. The authors considered some complicating factors such as the fact that not all restaurants in the sample in NJ were initially paying the \\$4.25 minimum wage but some were actually paying a $5.00 wage before the minimum wage hike took effect. That's the GAP variable, introduced in the Dataset section, comes into play. \n",
    "\n",
    "The comparisons in Table 3 make no allowance for other sources of variation in employment growth, such as differences\n",
    "across chains. These are incorporated in the estimates in Table 4, whereby entries are regression coefficients and standard errors in parentheses.  \n",
    "\n",
    "The model in column (ii) introduces a set of four control variables: dummies for three of the chains and another dummy for\n",
    "company-owned stores. As shown by the probability values in row 5, these covariates add little to the model and have no effect\n",
    "on the size of the estimated New Jersey dummy.  \n",
    "\n",
    "The specifications in columns (iii)-(v) use the GAP variable to measure the effect of the minimum wage. This variable gives a\n",
    "slightly better fit than the simple New Jersey dummy, although its implications for the New Jersey-Pennsylvania comparison are\n",
    "similar.\n",
    "\n",
    "**Replicate Table 4**"
   ]
  },
  {
   "cell_type": "code",
   "execution_count": 5,
   "metadata": {
    "scrolled": false
   },
   "outputs": [
    {
     "name": "stdout",
     "output_type": "stream",
     "text": [
      "The mean and standard deviation of the dependent variable are -0.2375350296497345 and 8.825484275817871 ,respectively.\n"
     ]
    },
    {
     "data": {
      "text/html": [
       "Models for change_in_FTE<br><table style=\"text-align:center\"><tr><td colspan=\"6\" style=\"border-bottom: 1px solid black\"></td></tr><tr><td style=\"text-align:left\"></td><td colspan=\"5\"><em>Dependent variable:change_in_FTE</em></td></tr><tr><td style=\"text-align:left\"></td><tr><td style=\"text-align:left\"></td><td>(1)</td><td>(2)</td><td>(3)</td><td>(4)</td><td>(5)</td></tr><tr><td colspan=\"6\" style=\"border-bottom: 1px solid black\"></td></tr><tr><td style=\"text-align:left\">New Jersey dummy</td><td>2.326<sup>*</sup></td><td>2.304<sup>*</sup></td><td></td><td></td><td></td></tr><tr><td style=\"text-align:left\"></td><td>(1.192)</td><td>(1.196)</td><td></td><td></td><td></td></tr><tr><td style=\"text-align:left\">Initial wage GAP</td><td></td><td></td><td>15.653<sup>**</sup></td><td>14.916<sup>**</sup></td><td>11.979<sup></sup></td></tr><tr><td style=\"text-align:left\"></td><td></td><td></td><td>(6.080)</td><td>(6.205)</td><td>(7.419)</td></tr><tr><td style=\"text-align: left\">Controls for chain and ownership</td><td>No</td><td>Yes</td><td>No</td><td>Yes</td><td>Yes</td></tr><tr><td style=\"text-align: left\">Controls for region</td><td>No</td><td>No</td><td>No</td><td>No</td><td>Yes</td></tr><tr><td style=\"text-align: left\">Probability value for controls</td><td>-</td><td>0.202</td><td>-</td><td>0.103</td><td>0.129</td></tr><td colspan=\"6\" style=\"border-bottom: 1px solid black\"></td></tr><tr><td style=\"text-align: left\">Observations</td><td>357</td><td>357</td><td>357</td><td>357</td><td>357</td></tr><tr><td style=\"text-align: left\">R<sup>2</sup></td><td>0.011</td><td>0.023</td><td>0.018</td><td>0.029</td><td>0.041</td></tr><tr><td style=\"text-align: left\">Adjusted R<sup>2</sup></td><td>0.008</td><td>0.009</td><td>0.016</td><td>0.015</td><td>0.016</td></tr><tr><td style=\"text-align: left\">Residual Std. Error</td><td>8.791 (df=355)</td><td>8.785 (df=351)</td><td>8.757 (df=355)</td><td>8.759 (df=351)</td><td>8.752 (df=347)</td></tr><tr><td style=\"text-align: left\">F Statistic</td><td>3.810<sup>*</sup> (df=1; 355)</td><td>1.663<sup></sup> (df=5; 351)</td><td>6.627<sup>**</sup> (df=1; 355)</td><td>2.082<sup>*</sup> (df=5; 351)</td><td>1.663<sup>*</sup> (df=9; 347)</td></tr><tr><td colspan=\"6\" style=\"border-bottom: 1px solid black\"></td></tr><tr><td style=\"text-align: left\">Note:</td>\n",
       " <td colspan=\"5\" style=\"text-align: right\">\n",
       "  <sup>*</sup>p&lt;0.1;\n",
       "  <sup>**</sup>p&lt;0.05;\n",
       "  <sup>***</sup>p&lt;0.01\n",
       " </td></tr></table>"
      ],
      "text/plain": [
       "<stargazer.stargazer.Stargazer at 0x1383b0a87f0>"
      ]
     },
     "execution_count": 5,
     "metadata": {},
     "output_type": "execute_result"
    }
   ],
   "source": [
    "#dataset for table4\n",
    "###########The sample consists of 357 stores with available data on employment and starting wages in waves 1 and 2############\n",
    "df_reg_tab4=df_extended[(~df_extended.FTE.isna()) & (~df_extended.wage_st.isna()) & (~df_extended.FTE2.isna())\n",
    "                   & (~df_extended.wage_st2.isna()) | (df_extended.status2 == 3)]\n",
    "df_reg_tab4['change_in_FTE']=(df_reg_tab4[\"FTE2\"] - df_reg_tab4[\"FTE\"])\n",
    "\n",
    "\n",
    "get_table_4and7(\"change_in_FTE\", df_reg_tab4)"
   ]
  },
  {
   "cell_type": "markdown",
   "metadata": {},
   "source": [
    "The mean value of GAP among New Jersey stores is 0.11. Thus the estimate in column (iii) implies a 1.72 increase in\n",
    "FTE employment in New Jersey relative to Pennsylvania $\\curvearrowright$"
   ]
  },
  {
   "cell_type": "code",
   "execution_count": 267,
   "metadata": {},
   "outputs": [
    {
     "data": {
      "text/plain": [
       "1.72"
      ]
     },
     "execution_count": 267,
     "metadata": {},
     "output_type": "execute_result"
    }
   ],
   "source": [
    "#interpretation column (iii) table 4\n",
    "GAP_mean= round(df_reg_tab4.loc[(df_reg_tab4['state']==1),'GAP'].mean(),2)#GAP mean\n",
    "GAP_coef=sm_api.OLS(df_reg_tab4[\"change_in_FTE\"], sm_api.add_constant(df_reg_tab4[\"GAP\"])).fit().params[1]#GAP coefficient column(iii) table 4\n",
    "round(GAP_mean*GAP_coef, 2)"
   ]
  },
  {
   "cell_type": "markdown",
   "metadata": {},
   "source": [
    "Since GAP varies within New Jersey, it is possible to add both GAP and NJ dummy to the model. The estimated coefficient of the New Jersey dummy then provides a test of the Pennsylvania control group. The coefficient of the New Jersey dummy is insignificant, implying that inferences about the effect of the minimum wage are similar whether the comparison is made across states or across stores in New Jersey with higher and lower initial wages $\\curvearrowright$"
   ]
  },
  {
   "cell_type": "code",
   "execution_count": 281,
   "metadata": {},
   "outputs": [
    {
     "data": {
      "text/plain": [
       "0.499"
      ]
     },
     "execution_count": 281,
     "metadata": {},
     "output_type": "execute_result"
    }
   ],
   "source": [
    "#p-value of NJ dummy when we add both GAP and NJ dummy to the model\n",
    "round(sm_api.OLS(df_reg_tab4[\"change_in_FTE\"], sm_api.add_constant(df_reg_tab4[[\"GAP\",\"state\"]])).fit().pvalues[2],3)"
   ]
  },
  {
   "cell_type": "markdown",
   "metadata": {},
   "source": [
    "An even stronger test is provided in column (v), where dummies representing three regions of New Jersey\n",
    "(North, Central, and South) and two regions of eastern Pennsylvania (Allentown-Easton\n",
    "and the northern suburbs of Philadelphia) are added. These dummies control for any region specific demand shocks and identify the effect of the minimum wage by comparing employment changes at higher and lower wage stores\n",
    "within the same region of New Jersey. The probability value in row 5 shows no evidence of regional components in employment\n",
    "growth. The addition of the region dummies attenuates the GAP coefficient and raises its standard error, however,\n",
    "making it no longer possible to reject the null hypothesis of a zero employment effect of the minimum wage."
   ]
  },
  {
   "cell_type": "markdown",
   "metadata": {},
   "source": [
    "<a class=\"anchor\" id=\"9.1. Employment and GAP wage by chain stores [+]\"></a>\n",
    "## 9.1. Employment and GAP wage by chain stores [+]\n",
    "\n",
    "As we can observe from the model in column (iv) of Table 4, GAP variable is statistically significant also when conditioning on chain store brands. We can vidualize this scenario with a regression plot as follows:"
   ]
  },
  {
   "cell_type": "code",
   "execution_count": 181,
   "metadata": {},
   "outputs": [
    {
     "data": {
      "image/png": "[encoded data removed]",
      "text/plain": [
       "<Figure size 720x720 with 4 Axes>"
      ]
     },
     "metadata": {},
     "output_type": "display_data"
    }
   ],
   "source": [
    "lmplot(df_reg_tab4,'change_in_FTE')"
   ]
  },
  {
   "cell_type": "markdown",
   "metadata": {},
   "source": [
    "<a class=\"anchor\" id=\"9.2. Placebo test [+]\"></a>\n",
    "## 9.2. Placebo test [+]\n",
    "One candidate placebo falsification is to use data for an alternative type of worker whose wages would not be affected by the binding minimum wage. The reasoning goes that if we find effects where there should not be, then maybe original findings were not credible in the first place. For instance, minimum wages affect employment and earnings of low-wage workers as these are the workers who literally are hired based on the market wage. The minimum wage should not affect the employment of higher wage workers, because the minimum wage is not binding on high wage workers.  \n",
    "\n",
    "We can fit the same DiD design but this time using high wage (i.e. wage per hour > 5\\$) employment as the outcome. If the coefficient on minimum wages is close to zero and insignificant when using high wage worker employment as the outcome then we have provided stronger evidence that complements the earlier analysis.\n",
    "\n",
    "As we can see from the results reported below,the coefficient of interest is positive but insignificant and it is the same both when taking into consideration the full sample and the balanced sample (stores with available employment data in wave 1 and wave 2)."
   ]
  },
  {
   "cell_type": "code",
   "execution_count": 8,
   "metadata": {
    "scrolled": true
   },
   "outputs": [
    {
     "name": "stdout",
     "output_type": "stream",
     "text": [
      "Dif-in-dif coefficient  for the full sample is 1.518 and it has pvalue 0.819\n",
      "Dif-in-dif coefficient  for the balanced sample is 1.518 and it has pvalue 0.819\n"
     ]
    }
   ],
   "source": [
    "placebo(df_new)"
   ]
  },
  {
   "cell_type": "markdown",
   "metadata": {},
   "source": [
    "<a class=\"anchor\" id=\"9.3. Heteroskedastic-Corrected and clustered standard errors [+]\"></a>\n",
    "## 9.3. Heteroskedastic-Corrected and clustered standard errors [+]\n",
    "\n",
    "However, what the authors have not accounted for, is considering proper standard errors. Conventional standard errors often severely understate the standard deviation of the estimators, and so standard errors are biased downward and therefore overreject the null hypothesis.  \n",
    "Indeed, [Bertrand, Duflo and Mullainathan](http://economics.mit.edu/files/750) in their paper \"How Much Should We Trust Difference-in-Difference Estimates?\" suggest to use robust standard error in order to make DiD estimates trustworthy.\n",
    "\n",
    "By following their advice, imposing heteroskedastic-corrected standard errors, we see that standard errors increase thus increasing p-values. Hence, we end up with even higher standard errors than those computed in the previous section. As a consequece, this makes our estimates even more statistically insignificant."
   ]
  },
  {
   "cell_type": "code",
   "execution_count": 27,
   "metadata": {},
   "outputs": [
    {
     "name": "stdout",
     "output_type": "stream",
     "text": [
      "HC0: Dif-in-dif coefficient robust standard error is 1.791 --> pvalue 0.124\n",
      "HC1: Dif-in-dif coefficient robust standard error is 1.795 --> pvalue 0.125\n",
      "HC2: Dif-in-dif coefficient robust standard error is 1.801 --> pvalue 0.126\n",
      "HC3: Dif-in-dif coefficient robust standard error is 1.812 --> pvalue 0.129\n"
     ]
    }
   ],
   "source": [
    "for i in ['HC0','HC1','HC2','HC3']:\n",
    "    model = smf.ols(formula = \"FTE ~ state*time\", data = df).fit(cov_type=i)\n",
    "    print(f'{i}: Dif-in-dif coefficient robust standard error is {model.bse[3]:.3f} --> pvalue {model.pvalues[3]:.3f}')\n"
   ]
  },
  {
   "cell_type": "markdown",
   "metadata": {},
   "source": [
    "Also, it is a good idea to compute standard errors clustered by the 5 geographical areas. Within a region area, observations are correlated. In effect, there is less variation than if the data had been independent random draws from the population at large. As a consequence, the significance levels of the regression coefficient is reduced (from 4% to 6%)."
   ]
  },
  {
   "cell_type": "code",
   "execution_count": 8,
   "metadata": {},
   "outputs": [
    {
     "name": "stdout",
     "output_type": "stream",
     "text": [
      "Dif-in-dif coefficient with standard errors clustered by area: coeff is 2.754 and std.err. is 1.096 --> pvalue 0.066\n"
     ]
    }
   ],
   "source": [
    "df_new['area']=df_new[['southj','centralj','northj','pa1','pa2']].idxmax(axis=1)#convert from dummies into a single categorical variable\n",
    "                                                                                #indicating the location area\n",
    "#with statsmodel\n",
    "cluster_mod = smf.ols(formula='FTE ~ state*time', data=df_new).fit(cov_type='nonrobust') \n",
    "fe_groups = df_new.copy()\n",
    "for i in ['FTE', 'state', 'time']:\n",
    "    fe_groups = fe_groups[pd.notnull(fe_groups[i])]# drop any entries with missing data from the model\n",
    "result=cluster_mod.get_robustcov_results(cov_type='cluster',groups=fe_groups['area'])#adjust SEs\n",
    "print(f'Dif-in-dif coefficient with standard errors clustered by area: coeff is {result.params[3]:.3f} and std.err. is {result.bse[3]:.3f} --> pvalue {result.pvalues[3]:.3f}')"
   ]
  },
  {
   "cell_type": "markdown",
   "metadata": {},
   "source": [
    "<a class=\"anchor\" id=\"10. Robustness check: additional specification tests\"></a>\n",
    "\n",
    "---\n",
    "# 10. Robustness check: additional specification tests\n",
    "---"
   ]
  },
  {
   "cell_type": "markdown",
   "metadata": {},
   "source": [
    "The results in Tables 3 and 4 seem to contradict the standard prediction that a rise in the minimum wage will reduce employment.\n",
    "Table 5 presents some alternative specifications that probe the robustness of this conclusion.  \n",
    "Table 5 below contains estimates  of models for the change and the proportional change in employment. I could not replicate original paper rows 10-11 for stores in towns around Newark and Camden because I don't have zip codes in order to match findings.\n",
    "\n",
    "Let's summarize Table 5 findings:\n",
    "\n",
    "* $\\fbox{row1}$: The 'base specification' at the 1st row includes chain dummies and a dummy for company-owned stores. Hence, base specification reflects columns (ii)and(iv) of Table 4;  \n",
    "\n",
    "\n",
    "* $\\fbox{row2}$: It presents an alternative set of estimates when wave2 employment at the temporarily closed stores is set to to 0. This change has a small attenuating effect on the coefficient of the New Jersey dummy (since all four temporarily closed stores are in New Jersey) but less effect on the GAP coefficient;  \n",
    "\n",
    "\n",
    "* $\\fbox{row3}$: Employment is redefined to exclude management employees. This change has no effect relative to the base specification;   \n",
    "\n",
    "\n",
    "* $\\fbox{row4 and row5}$: It includes managers in FTE employment but reweight part-time workers as either 40 percent or 60 percent of full-time workers. These changes have little effect on the models for the level of employment but yield slightly smaller point estimates in the proportional-employment-change models;   \n",
    "\n",
    "\n",
    "* $\\fbox{row6}$: Subsample that excludes 35 stores in towns along the New Jersey shore. The exclusion of these stores, which may have a different seasonal pattern than other stores in our sample, leads to slightly larger minimum-wage effects;    \n",
    "\n",
    "\n",
    "* $\\fbox{row7}$: Models include three dummy variables identifying week of wave-2 interview in November-December 1992. The authors do not specify how these dummies are constructed, so I arbitrarily split the time window in 3 intervals containing 182, 144, 30 observations respectively while trying to keep a uniform bandwidth at the same time. It leads to slightly larger minimum-wage effects;    \n",
    "\n",
    "\n",
    "* $\\fbox{row8}$: Subsample that excludes any stores that were called back more than twice in order to obtain an interview. Results are similar to the base specification;   \n",
    "\n",
    "\n",
    "* $\\fbox{row9}$: It presents weighted estimation results for the proportional-employmentchange models, using as weights the initial levels of employment in each store. Since the proportional change in average employment is an employment-weighted average of the proportional changes at each store, a weighted version of the proportional-change model should give rise to elasticities that are similar to the implied elasticities arising from the levels models. Consistent with this expectation, the weighted estimates are larger than the unweighted estimates, and significantly different from 0 at conventional levels;     \n",
    "\n",
    "\n",
    "* $\\fbox{row10}$: It excludes stores in New Jersey and -incorrectly on purpose- defines the GAP variable for Pennsylvania stores as the proportional increase in wages necessary to raise the wage to \\$5.05 per hour. In principle the size of the wage gap for stores in Pennsylvania should have no systematic relation with employment growth. As a matter of fact, there is no indication that the wage gap is spuriously related to employment growth.\n",
    "\n",
    "**Replicate Table 5**"
   ]
  },
  {
   "cell_type": "code",
   "execution_count": 30,
   "metadata": {
    "scrolled": true
   },
   "outputs": [
    {
     "name": "stdout",
     "output_type": "stream",
     "text": [
      "Specification Tests of reduced-form employment models\n"
     ]
    },
    {
     "data": {
      "text/html": [
       "<div>\n",
       "<style scoped>\n",
       "    .dataframe tbody tr th:only-of-type {\n",
       "        vertical-align: middle;\n",
       "    }\n",
       "\n",
       "    .dataframe tbody tr th {\n",
       "        vertical-align: top;\n",
       "    }\n",
       "\n",
       "    .dataframe thead tr th {\n",
       "        text-align: left;\n",
       "    }\n",
       "\n",
       "    .dataframe thead tr:last-of-type th {\n",
       "        text-align: right;\n",
       "    }\n",
       "</style>\n",
       "<table border=\"1\" class=\"dataframe\">\n",
       "  <thead>\n",
       "    <tr>\n",
       "      <th></th>\n",
       "      <th colspan=\"4\" halign=\"left\">Change in employment</th>\n",
       "      <th colspan=\"4\" halign=\"left\">Proportional change in employment</th>\n",
       "    </tr>\n",
       "    <tr>\n",
       "      <th></th>\n",
       "      <th>NJ dummy coeff.</th>\n",
       "      <th>NJ dummy std.err.</th>\n",
       "      <th>Gap measure coeff.</th>\n",
       "      <th>Gap measure std.err.</th>\n",
       "      <th>NJ dummy coeff.</th>\n",
       "      <th>NJ dummy std.err.</th>\n",
       "      <th>Gap measure coeff.</th>\n",
       "      <th>Gap measure std.err.</th>\n",
       "    </tr>\n",
       "    <tr>\n",
       "      <th>specification</th>\n",
       "      <th></th>\n",
       "      <th></th>\n",
       "      <th></th>\n",
       "      <th></th>\n",
       "      <th></th>\n",
       "      <th></th>\n",
       "      <th></th>\n",
       "      <th></th>\n",
       "    </tr>\n",
       "  </thead>\n",
       "  <tbody>\n",
       "    <tr>\n",
       "      <th>base specification</th>\n",
       "      <td>2.3</td>\n",
       "      <td>1.2</td>\n",
       "      <td>14.92</td>\n",
       "      <td>6.21</td>\n",
       "      <td>0.05</td>\n",
       "      <td>0.06</td>\n",
       "      <td>0.23</td>\n",
       "      <td>0.31</td>\n",
       "    </tr>\n",
       "    <tr>\n",
       "      <th>treat 4 temporarily closed stores as permanently closed</th>\n",
       "      <td>2.03</td>\n",
       "      <td>1.22</td>\n",
       "      <td>14.42</td>\n",
       "      <td>6.31</td>\n",
       "      <td>0.02</td>\n",
       "      <td>0.07</td>\n",
       "      <td>0.24</td>\n",
       "      <td>0.34</td>\n",
       "    </tr>\n",
       "    <tr>\n",
       "      <th>exclude managers in employment count</th>\n",
       "      <td>2.34</td>\n",
       "      <td>1.17</td>\n",
       "      <td>14.69</td>\n",
       "      <td>6.05</td>\n",
       "      <td>0.05</td>\n",
       "      <td>0.07</td>\n",
       "      <td>0.28</td>\n",
       "      <td>0.34</td>\n",
       "    </tr>\n",
       "    <tr>\n",
       "      <th>weight part-time as 0.4*full-time</th>\n",
       "      <td>2.38</td>\n",
       "      <td>1.17</td>\n",
       "      <td>15.01</td>\n",
       "      <td>6.09</td>\n",
       "      <td>0.07</td>\n",
       "      <td>0.05</td>\n",
       "      <td>0.41</td>\n",
       "      <td>0.28</td>\n",
       "    </tr>\n",
       "    <tr>\n",
       "      <th>weight part-time as 0.6*full-time</th>\n",
       "      <td>2.31</td>\n",
       "      <td>1.18</td>\n",
       "      <td>14.37</td>\n",
       "      <td>6.11</td>\n",
       "      <td>0.05</td>\n",
       "      <td>0.05</td>\n",
       "      <td>0.26</td>\n",
       "      <td>0.26</td>\n",
       "    </tr>\n",
       "    <tr>\n",
       "      <th>exclude stores in NJ shore area</th>\n",
       "      <td>2.59</td>\n",
       "      <td>1.2</td>\n",
       "      <td>16.88</td>\n",
       "      <td>6.37</td>\n",
       "      <td>0.05</td>\n",
       "      <td>0.06</td>\n",
       "      <td>0.29</td>\n",
       "      <td>0.32</td>\n",
       "    </tr>\n",
       "    <tr>\n",
       "      <th>add controls for wave2 interview date</th>\n",
       "      <td>2.41</td>\n",
       "      <td>1.72</td>\n",
       "      <td>2.52</td>\n",
       "      <td>1.71</td>\n",
       "      <td>0.35</td>\n",
       "      <td>0.08</td>\n",
       "      <td>0.35</td>\n",
       "      <td>0.08</td>\n",
       "    </tr>\n",
       "    <tr>\n",
       "      <th>exclude stores called more than twice in wave1</th>\n",
       "      <td>2.42</td>\n",
       "      <td>1.29</td>\n",
       "      <td>14.08</td>\n",
       "      <td>7.11</td>\n",
       "      <td>0.05</td>\n",
       "      <td>0.06</td>\n",
       "      <td>0.22</td>\n",
       "      <td>0.34</td>\n",
       "    </tr>\n",
       "    <tr>\n",
       "      <th>WLS: weight by initial employment</th>\n",
       "      <td>-</td>\n",
       "      <td>-</td>\n",
       "      <td>-</td>\n",
       "      <td>-</td>\n",
       "      <td>0.13</td>\n",
       "      <td>0.05</td>\n",
       "      <td>0.75</td>\n",
       "      <td>0.29</td>\n",
       "    </tr>\n",
       "    <tr>\n",
       "      <th>Pennsylvania stores only</th>\n",
       "      <td>-</td>\n",
       "      <td>-</td>\n",
       "      <td>-0.3</td>\n",
       "      <td>22</td>\n",
       "      <td>-</td>\n",
       "      <td>-</td>\n",
       "      <td>-0.39</td>\n",
       "      <td>0.84</td>\n",
       "    </tr>\n",
       "  </tbody>\n",
       "</table>\n",
       "</div>"
      ],
      "text/plain": [
       "                                                   Change in employment  \\\n",
       "                                                        NJ dummy coeff.   \n",
       "specification                                                             \n",
       "base specification                                                  2.3   \n",
       "treat 4 temporarily closed stores as permanentl...                 2.03   \n",
       "exclude managers in employment count                               2.34   \n",
       "weight part-time as 0.4*full-time                                  2.38   \n",
       "weight part-time as 0.6*full-time                                  2.31   \n",
       "exclude stores in NJ shore area                                    2.59   \n",
       "add controls for wave2 interview date                              2.41   \n",
       "exclude stores called more than twice in wave1                     2.42   \n",
       "WLS: weight by initial employment                                     -   \n",
       "Pennsylvania stores only                                              -   \n",
       "\n",
       "                                                                      \\\n",
       "                                                   NJ dummy std.err.   \n",
       "specification                                                          \n",
       "base specification                                               1.2   \n",
       "treat 4 temporarily closed stores as permanentl...              1.22   \n",
       "exclude managers in employment count                            1.17   \n",
       "weight part-time as 0.4*full-time                               1.17   \n",
       "weight part-time as 0.6*full-time                               1.18   \n",
       "exclude stores in NJ shore area                                  1.2   \n",
       "add controls for wave2 interview date                           1.72   \n",
       "exclude stores called more than twice in wave1                  1.29   \n",
       "WLS: weight by initial employment                                  -   \n",
       "Pennsylvania stores only                                           -   \n",
       "\n",
       "                                                                       \\\n",
       "                                                   Gap measure coeff.   \n",
       "specification                                                           \n",
       "base specification                                              14.92   \n",
       "treat 4 temporarily closed stores as permanentl...              14.42   \n",
       "exclude managers in employment count                            14.69   \n",
       "weight part-time as 0.4*full-time                               15.01   \n",
       "weight part-time as 0.6*full-time                               14.37   \n",
       "exclude stores in NJ shore area                                 16.88   \n",
       "add controls for wave2 interview date                            2.52   \n",
       "exclude stores called more than twice in wave1                  14.08   \n",
       "WLS: weight by initial employment                                   -   \n",
       "Pennsylvania stores only                                         -0.3   \n",
       "\n",
       "                                                                         \\\n",
       "                                                   Gap measure std.err.   \n",
       "specification                                                             \n",
       "base specification                                                 6.21   \n",
       "treat 4 temporarily closed stores as permanentl...                 6.31   \n",
       "exclude managers in employment count                               6.05   \n",
       "weight part-time as 0.4*full-time                                  6.09   \n",
       "weight part-time as 0.6*full-time                                  6.11   \n",
       "exclude stores in NJ shore area                                    6.37   \n",
       "add controls for wave2 interview date                              1.71   \n",
       "exclude stores called more than twice in wave1                     7.11   \n",
       "WLS: weight by initial employment                                     -   \n",
       "Pennsylvania stores only                                             22   \n",
       "\n",
       "                                                   Proportional change in employment  \\\n",
       "                                                                     NJ dummy coeff.   \n",
       "specification                                                                          \n",
       "base specification                                                              0.05   \n",
       "treat 4 temporarily closed stores as permanentl...                              0.02   \n",
       "exclude managers in employment count                                            0.05   \n",
       "weight part-time as 0.4*full-time                                               0.07   \n",
       "weight part-time as 0.6*full-time                                               0.05   \n",
       "exclude stores in NJ shore area                                                 0.05   \n",
       "add controls for wave2 interview date                                           0.35   \n",
       "exclude stores called more than twice in wave1                                  0.05   \n",
       "WLS: weight by initial employment                                               0.13   \n",
       "Pennsylvania stores only                                                           -   \n",
       "\n",
       "                                                                      \\\n",
       "                                                   NJ dummy std.err.   \n",
       "specification                                                          \n",
       "base specification                                              0.06   \n",
       "treat 4 temporarily closed stores as permanentl...              0.07   \n",
       "exclude managers in employment count                            0.07   \n",
       "weight part-time as 0.4*full-time                               0.05   \n",
       "weight part-time as 0.6*full-time                               0.05   \n",
       "exclude stores in NJ shore area                                 0.06   \n",
       "add controls for wave2 interview date                           0.08   \n",
       "exclude stores called more than twice in wave1                  0.06   \n",
       "WLS: weight by initial employment                               0.05   \n",
       "Pennsylvania stores only                                           -   \n",
       "\n",
       "                                                                       \\\n",
       "                                                   Gap measure coeff.   \n",
       "specification                                                           \n",
       "base specification                                               0.23   \n",
       "treat 4 temporarily closed stores as permanentl...               0.24   \n",
       "exclude managers in employment count                             0.28   \n",
       "weight part-time as 0.4*full-time                                0.41   \n",
       "weight part-time as 0.6*full-time                                0.26   \n",
       "exclude stores in NJ shore area                                  0.29   \n",
       "add controls for wave2 interview date                            0.35   \n",
       "exclude stores called more than twice in wave1                   0.22   \n",
       "WLS: weight by initial employment                                0.75   \n",
       "Pennsylvania stores only                                        -0.39   \n",
       "\n",
       "                                                                         \n",
       "                                                   Gap measure std.err.  \n",
       "specification                                                            \n",
       "base specification                                                 0.31  \n",
       "treat 4 temporarily closed stores as permanentl...                 0.34  \n",
       "exclude managers in employment count                               0.34  \n",
       "weight part-time as 0.4*full-time                                  0.28  \n",
       "weight part-time as 0.6*full-time                                  0.26  \n",
       "exclude stores in NJ shore area                                    0.32  \n",
       "add controls for wave2 interview date                              0.08  \n",
       "exclude stores called more than twice in wave1                     0.34  \n",
       "WLS: weight by initial employment                                  0.29  \n",
       "Pennsylvania stores only                                           0.84  "
      ]
     },
     "execution_count": 30,
     "metadata": {},
     "output_type": "execute_result"
    }
   ],
   "source": [
    "#table5\n",
    "df_tab5 = df_reg_tab4.copy() \n",
    "get_table5(df_tab5, df_extended)"
   ]
  },
  {
   "cell_type": "markdown",
   "metadata": {},
   "source": [
    "<a class=\"anchor\" id=\"11. Other employment related measures\"></a>\n",
    "\n",
    "---\n",
    "# 11. Other employment related measures\n",
    "---"
   ]
  },
  {
   "cell_type": "markdown",
   "metadata": {},
   "source": [
    "Table 6 present results for other outcome variables that we expect to be related to the level of restaurant employment.  \n",
    "Entries in panel1 columns represent mean changes in the outcome variable indicated by the row heading for stores with available data on the outcome in waves 1 and 2.  \n",
    "Entries in panel2 columns represent estimated regression coefficients of indicated variable (NJ dummy or initial wage gap) in models for the change in the outcome variable. All regression models include chain dummies and an indicator for company-owned stores, while the column `wage GAP (more control dummies)` additionaly includes dummies for two regions of New Jersey and two regions of eastern Pennsylvania.\n",
    "\n",
    "Findings:\n",
    "* We examine whether the rise in the minimum wage is associated with a change in the number of hours a restaurant is open on a weekday, the number of cash registers in the restaurant, and the number of cash registers typically in operation in the restaurant at 11:OO A.M. Consistent with employment results, none of these variables shows a statistically significant decline in New Jersey relative to Pennsylvania. Similarly, regressions including the gap variable provide no evidence that the minimum-wage increase led to a systematic change in any of these variables;  \n",
    "\n",
    "\n",
    "* Since the main fringe benefits for fast-food employees are free and reduced-price meals, we examine the effect of the minimum-wage increase on the incidence of this kind of fringe benefit. The proportion of restaurants offering reduced-price meals fell in both New Jersey and Pennsylvania after the minimum wage increased, with a somewhat greater decline in New Jersey. Contrary to an offset story, however, the reduction in reduced-price meal programs was accompanied by an increase in the fraction of stores offering free meals;  \n",
    "\n",
    "\n",
    "* Since employers might respond to the increase in the minimum wage by flattening the tenure-wage profile, we take a look at the amount of time before a normal wage increase and the usual amount of such raises. Although the average time to the first pay raise increased by 2.51 weeks in New Jersey relative to Pennsylvania, the increase is not statistically significant. Furthermore, there is only a trivial difference in the relative change in the amount of the first pay increment between New Jersey and Pennsylvania stores.\n",
    "\n",
    "** Replicate Table 6**"
   ]
  },
  {
   "cell_type": "code",
   "execution_count": 31,
   "metadata": {},
   "outputs": [
    {
     "name": "stdout",
     "output_type": "stream",
     "text": [
      "mean change in outcome\n"
     ]
    },
    {
     "data": {
      "text/html": [
       "<div>\n",
       "<style scoped>\n",
       "    .dataframe tbody tr th:only-of-type {\n",
       "        vertical-align: middle;\n",
       "    }\n",
       "\n",
       "    .dataframe tbody tr th {\n",
       "        vertical-align: top;\n",
       "    }\n",
       "\n",
       "    .dataframe thead th {\n",
       "        text-align: right;\n",
       "    }\n",
       "</style>\n",
       "<table border=\"1\" class=\"dataframe\">\n",
       "  <thead>\n",
       "    <tr style=\"text-align: right;\">\n",
       "      <th></th>\n",
       "      <th>NJ mean change</th>\n",
       "      <th>NJ std.err.</th>\n",
       "      <th>PA mean change</th>\n",
       "      <th>PA std.err.</th>\n",
       "      <th>NJ-PA mean change</th>\n",
       "      <th>NJ-PA std.err.</th>\n",
       "    </tr>\n",
       "    <tr>\n",
       "      <th>Outcome measure</th>\n",
       "      <th></th>\n",
       "      <th></th>\n",
       "      <th></th>\n",
       "      <th></th>\n",
       "      <th></th>\n",
       "      <th></th>\n",
       "    </tr>\n",
       "  </thead>\n",
       "  <tbody>\n",
       "    <tr>\n",
       "      <th>number of hours open per weekday</th>\n",
       "      <td>-0.00</td>\n",
       "      <td>0.06</td>\n",
       "      <td>0.11</td>\n",
       "      <td>0.08</td>\n",
       "      <td>-0.11</td>\n",
       "      <td>0.10</td>\n",
       "    </tr>\n",
       "    <tr>\n",
       "      <th>number of cash registers</th>\n",
       "      <td>-0.04</td>\n",
       "      <td>0.04</td>\n",
       "      <td>0.13</td>\n",
       "      <td>0.10</td>\n",
       "      <td>-0.17</td>\n",
       "      <td>0.11</td>\n",
       "    </tr>\n",
       "    <tr>\n",
       "      <th>number of cash registers open at 11 a.m.</th>\n",
       "      <td>-0.04</td>\n",
       "      <td>0.05</td>\n",
       "      <td>-0.22</td>\n",
       "      <td>0.09</td>\n",
       "      <td>0.18</td>\n",
       "      <td>0.10</td>\n",
       "    </tr>\n",
       "    <tr>\n",
       "      <th>time to first raise (weeks)</th>\n",
       "      <td>3.77</td>\n",
       "      <td>0.89</td>\n",
       "      <td>1.26</td>\n",
       "      <td>1.97</td>\n",
       "      <td>2.51</td>\n",
       "      <td>2.16</td>\n",
       "    </tr>\n",
       "    <tr>\n",
       "      <th>usual amount of first raise (cents)</th>\n",
       "      <td>-0.01</td>\n",
       "      <td>0.01</td>\n",
       "      <td>-0.02</td>\n",
       "      <td>0.02</td>\n",
       "      <td>0.01</td>\n",
       "      <td>0.02</td>\n",
       "    </tr>\n",
       "    <tr>\n",
       "      <th>low price meal program</th>\n",
       "      <td>-7.55</td>\n",
       "      <td>2.28</td>\n",
       "      <td>-2.53</td>\n",
       "      <td>2.77</td>\n",
       "      <td>-5.02</td>\n",
       "      <td>3.58</td>\n",
       "    </tr>\n",
       "    <tr>\n",
       "      <th>free meal program</th>\n",
       "      <td>8.16</td>\n",
       "      <td>1.62</td>\n",
       "      <td>6.33</td>\n",
       "      <td>1.80</td>\n",
       "      <td>1.83</td>\n",
       "      <td>2.42</td>\n",
       "    </tr>\n",
       "    <tr>\n",
       "      <th>combination of low price and free meals</th>\n",
       "      <td>-3.93</td>\n",
       "      <td>1.96</td>\n",
       "      <td>-5.06</td>\n",
       "      <td>2.65</td>\n",
       "      <td>1.14</td>\n",
       "      <td>3.30</td>\n",
       "    </tr>\n",
       "  </tbody>\n",
       "</table>\n",
       "</div>"
      ],
      "text/plain": [
       "                                          NJ mean change  NJ std.err.  \\\n",
       "Outcome measure                                                         \n",
       "number of hours open per weekday                   -0.00         0.06   \n",
       "number of cash registers                           -0.04         0.04   \n",
       "number of cash registers open at 11 a.m.           -0.04         0.05   \n",
       "time to first raise (weeks)                         3.77         0.89   \n",
       "usual amount of first raise (cents)                -0.01         0.01   \n",
       "low price meal program                             -7.55         2.28   \n",
       "free meal program                                   8.16         1.62   \n",
       "combination of low price and free meals            -3.93         1.96   \n",
       "\n",
       "                                          PA mean change  PA std.err.  \\\n",
       "Outcome measure                                                         \n",
       "number of hours open per weekday                    0.11         0.08   \n",
       "number of cash registers                            0.13         0.10   \n",
       "number of cash registers open at 11 a.m.           -0.22         0.09   \n",
       "time to first raise (weeks)                         1.26         1.97   \n",
       "usual amount of first raise (cents)                -0.02         0.02   \n",
       "low price meal program                             -2.53         2.77   \n",
       "free meal program                                   6.33         1.80   \n",
       "combination of low price and free meals            -5.06         2.65   \n",
       "\n",
       "                                          NJ-PA mean change  NJ-PA std.err.  \n",
       "Outcome measure                                                              \n",
       "number of hours open per weekday                      -0.11            0.10  \n",
       "number of cash registers                              -0.17            0.11  \n",
       "number of cash registers open at 11 a.m.               0.18            0.10  \n",
       "time to first raise (weeks)                            2.51            2.16  \n",
       "usual amount of first raise (cents)                    0.01            0.02  \n",
       "low price meal program                                -5.02            3.58  \n",
       "free meal program                                      1.83            2.42  \n",
       "combination of low price and free meals                1.14            3.30  "
      ]
     },
     "execution_count": 31,
     "metadata": {},
     "output_type": "execute_result"
    }
   ],
   "source": [
    "#table6 panel1\n",
    "df_tab6 = df_extended.copy()\n",
    "get_table6_panel1(df_tab6)"
   ]
  },
  {
   "cell_type": "code",
   "execution_count": 32,
   "metadata": {
    "scrolled": false
   },
   "outputs": [
    {
     "name": "stdout",
     "output_type": "stream",
     "text": [
      "Regression of change in outcome variable on:\n"
     ]
    },
    {
     "data": {
      "text/html": [
       "<div>\n",
       "<style scoped>\n",
       "    .dataframe tbody tr th:only-of-type {\n",
       "        vertical-align: middle;\n",
       "    }\n",
       "\n",
       "    .dataframe tbody tr th {\n",
       "        vertical-align: top;\n",
       "    }\n",
       "\n",
       "    .dataframe thead th {\n",
       "        text-align: right;\n",
       "    }\n",
       "</style>\n",
       "<table border=\"1\" class=\"dataframe\">\n",
       "  <thead>\n",
       "    <tr style=\"text-align: right;\">\n",
       "      <th></th>\n",
       "      <th>NJ dummy coeff</th>\n",
       "      <th>NJ dummy std.err.</th>\n",
       "      <th>wage GAP coeff</th>\n",
       "      <th>wage GAP std.err.</th>\n",
       "      <th>wage GAP coeff (more control dummies)</th>\n",
       "      <th>wage GAP std.err. (more control dummies)</th>\n",
       "    </tr>\n",
       "    <tr>\n",
       "      <th>Outcome measure</th>\n",
       "      <th></th>\n",
       "      <th></th>\n",
       "      <th></th>\n",
       "      <th></th>\n",
       "      <th></th>\n",
       "      <th></th>\n",
       "    </tr>\n",
       "  </thead>\n",
       "  <tbody>\n",
       "    <tr>\n",
       "      <th>number of hours open per weekday</th>\n",
       "      <td>-0.11</td>\n",
       "      <td>0.12</td>\n",
       "      <td>-0.30</td>\n",
       "      <td>0.67</td>\n",
       "      <td>-0.05</td>\n",
       "      <td>0.82</td>\n",
       "    </tr>\n",
       "    <tr>\n",
       "      <th>number of cash registers</th>\n",
       "      <td>-0.18</td>\n",
       "      <td>0.10</td>\n",
       "      <td>-0.30</td>\n",
       "      <td>0.55</td>\n",
       "      <td>0.41</td>\n",
       "      <td>0.67</td>\n",
       "    </tr>\n",
       "    <tr>\n",
       "      <th>number of cash registers open at 11 a.m.</th>\n",
       "      <td>0.18</td>\n",
       "      <td>0.12</td>\n",
       "      <td>0.12</td>\n",
       "      <td>0.65</td>\n",
       "      <td>-0.69</td>\n",
       "      <td>0.79</td>\n",
       "    </tr>\n",
       "    <tr>\n",
       "      <th>time to first raise (weeks)</th>\n",
       "      <td>2.21</td>\n",
       "      <td>2.03</td>\n",
       "      <td>0.40</td>\n",
       "      <td>11.07</td>\n",
       "      <td>-13.23</td>\n",
       "      <td>13.42</td>\n",
       "    </tr>\n",
       "    <tr>\n",
       "      <th>usual amount of first raise (cents)</th>\n",
       "      <td>0.01</td>\n",
       "      <td>0.02</td>\n",
       "      <td>0.01</td>\n",
       "      <td>0.11</td>\n",
       "      <td>-0.02</td>\n",
       "      <td>0.13</td>\n",
       "    </tr>\n",
       "  </tbody>\n",
       "</table>\n",
       "</div>"
      ],
      "text/plain": [
       "                                          NJ dummy coeff  NJ dummy std.err.  \\\n",
       "Outcome measure                                                               \n",
       "number of hours open per weekday                   -0.11               0.12   \n",
       "number of cash registers                           -0.18               0.10   \n",
       "number of cash registers open at 11 a.m.            0.18               0.12   \n",
       "time to first raise (weeks)                         2.21               2.03   \n",
       "usual amount of first raise (cents)                 0.01               0.02   \n",
       "\n",
       "                                          wage GAP coeff  wage GAP std.err.  \\\n",
       "Outcome measure                                                               \n",
       "number of hours open per weekday                   -0.30               0.67   \n",
       "number of cash registers                           -0.30               0.55   \n",
       "number of cash registers open at 11 a.m.            0.12               0.65   \n",
       "time to first raise (weeks)                         0.40              11.07   \n",
       "usual amount of first raise (cents)                 0.01               0.11   \n",
       "\n",
       "                                          wage GAP coeff (more control dummies)   \\\n",
       "Outcome measure                                                                    \n",
       "number of hours open per weekday                                           -0.05   \n",
       "number of cash registers                                                    0.41   \n",
       "number of cash registers open at 11 a.m.                                   -0.69   \n",
       "time to first raise (weeks)                                               -13.23   \n",
       "usual amount of first raise (cents)                                        -0.02   \n",
       "\n",
       "                                          wage GAP std.err. (more control dummies)  \n",
       "Outcome measure                                                                     \n",
       "number of hours open per weekday                                              0.82  \n",
       "number of cash registers                                                      0.67  \n",
       "number of cash registers open at 11 a.m.                                      0.79  \n",
       "time to first raise (weeks)                                                  13.42  \n",
       "usual amount of first raise (cents)                                           0.13  "
      ]
     },
     "execution_count": 32,
     "metadata": {},
     "output_type": "execute_result"
    }
   ],
   "source": [
    "#table6 panel2\n",
    "get_table6_panel2(df_tab6)"
   ]
  },
  {
   "cell_type": "markdown",
   "metadata": {},
   "source": [
    "<a class=\"anchor\" id=\"12. Price effects of the minimum-wage increase\"></a>\n",
    "\n",
    "---\n",
    "# 12. Price effects of the minimum-wage increase\n",
    "---"
   ]
  },
  {
   "cell_type": "markdown",
   "metadata": {},
   "source": [
    "A competitive model of the fast-food industry implies that an increase in the minimum wage will lead to an increase in product prices.  \n",
    "Replication of Table 7 presents reduced-form estimates of the effect of the minimum-wage increase on prices. The dependent variable in these models is the change in the logarithm of the price of a full meal at each store. The key independent variable is either a dummy indicating whether the store is located in New Jersey or the proportional wage increase required to meet the minimum wage (the\n",
    "GAP variable defined above).\n",
    "\n",
    "Findings:\n",
    "* The estimated New Jersey dummy in column (i) shows that after-tax meal prices rose faster in New Jersey than in Pennsylvania between February and November 1992. The effect is slightly larger controlling for chain and company-ownership (see column (ii));\n",
    "\n",
    "* Inspection of the estimated GAP coefficient in column (v) of Table 7 outlines that within regions of New Jersey, the GAP variable is statistically insignificant.\n",
    "\n",
    "**Replicate Table 7**"
   ]
  },
  {
   "cell_type": "code",
   "execution_count": 6,
   "metadata": {
    "scrolled": false
   },
   "outputs": [
    {
     "name": "stdout",
     "output_type": "stream",
     "text": [
      "The mean and standard deviation of the dependent variable are 0.017179805785417557 and 0.10179014503955841 ,respectively.\n"
     ]
    },
    {
     "data": {
      "text/html": [
       "Models for change_in_log_price<br><table style=\"text-align:center\"><tr><td colspan=\"6\" style=\"border-bottom: 1px solid black\"></td></tr><tr><td style=\"text-align:left\"></td><td colspan=\"5\"><em>Dependent variable:change_in_log_price</em></td></tr><tr><td style=\"text-align:left\"></td><tr><td style=\"text-align:left\"></td><td>(1)</td><td>(2)</td><td>(3)</td><td>(4)</td><td>(5)</td></tr><tr><td colspan=\"6\" style=\"border-bottom: 1px solid black\"></td></tr><tr><td style=\"text-align:left\">New Jersey dummy</td><td>0.033<sup>**</sup></td><td>0.037<sup>***</sup></td><td></td><td></td><td></td></tr><tr><td style=\"text-align:left\"></td><td>(0.014)</td><td>(0.014)</td><td></td><td></td><td></td></tr><tr><td style=\"text-align:left\">Initial wage GAP</td><td></td><td></td><td>0.078<sup></sup></td><td>0.147<sup>**</sup></td><td>0.066<sup></sup></td></tr><tr><td style=\"text-align:left\"></td><td></td><td></td><td>(0.075)</td><td>(0.074)</td><td>(0.089)</td></tr><tr><td style=\"text-align: left\">Controls for chain and ownership</td><td>No</td><td>Yes</td><td>No</td><td>Yes</td><td>Yes</td></tr><tr><td style=\"text-align: left\">Controls for region</td><td>No</td><td>No</td><td>No</td><td>No</td><td>Yes</td></tr><td colspan=\"6\" style=\"border-bottom: 1px solid black\"></td></tr><tr><td style=\"text-align: left\">Observations</td><td>317</td><td>317</td><td>317</td><td>317</td><td>317</td></tr><tr><td style=\"text-align: left\">R<sup>2</sup></td><td>0.016</td><td>0.099</td><td>0.003</td><td>0.090</td><td>0.111</td></tr><tr><td style=\"text-align: left\">Adjusted R<sup>2</sup></td><td>0.013</td><td>0.084</td><td>0.000</td><td>0.076</td><td>0.085</td></tr><tr><td style=\"text-align: left\">Residual Std. Error</td><td>0.101 (df=315)</td><td>0.097 (df=311)</td><td>0.102 (df=315)</td><td>0.098 (df=311)</td><td>0.097 (df=307)</td></tr><tr><td style=\"text-align: left\">F Statistic</td><td>5.095<sup>**</sup> (df=1; 315)</td><td>6.828<sup>***</sup> (df=5; 311)</td><td>1.081<sup></sup> (df=1; 315)</td><td>6.179<sup>***</sup> (df=5; 311)</td><td>4.267<sup>***</sup> (df=9; 307)</td></tr><tr><td colspan=\"6\" style=\"border-bottom: 1px solid black\"></td></tr><tr><td style=\"text-align: left\">Note:</td>\n",
       " <td colspan=\"5\" style=\"text-align: right\">\n",
       "  <sup>*</sup>p&lt;0.1;\n",
       "  <sup>**</sup>p&lt;0.05;\n",
       "  <sup>***</sup>p&lt;0.01\n",
       " </td></tr></table>"
      ],
      "text/plain": [
       "<stargazer.stargazer.Stargazer at 0x1383b1070f0>"
      ]
     },
     "execution_count": 6,
     "metadata": {},
     "output_type": "execute_result"
    }
   ],
   "source": [
    "################prepare the dataset for table7 and generate log price full meal variable#########################\n",
    "df_reg_tab7=df_extended[(~df_extended.FTE.isna()) & (~df_extended.wage_st.isna()) & (~df_extended.FTE2.isna()) \n",
    "                   & (~df_extended.wage_st2.isna())  & (~df_extended.psoda.isna()) & (~df_extended.pfry.isna()) & (~df_extended.pentree.isna()) & (~df_extended.psoda2.isna()) & (~df_extended.pfry2.isna()) & (~df_extended.pentree2.isna())] #The sample consists of 357 stores with available data on employment and starting wages in waves 1 and 2\n",
    "df_reg_tab7[\"log_price_full_meal\"] = np.log(df_reg_tab7.psoda + df_reg_tab7.pfry + df_reg_tab7.pentree)\n",
    "df_reg_tab7[\"log_price_full_meal2\"] = np.log(df_reg_tab7.psoda2 + df_reg_tab7.pfry2 + df_reg_tab7.pentree2)\n",
    "df_reg_tab7['change_in_log_price']=(df_reg_tab7[\"log_price_full_meal2\"] - df_reg_tab7[\"log_price_full_meal\"])\n",
    "\n",
    "\n",
    "get_table_4and7(\"change_in_log_price\", df_reg_tab7)"
   ]
  },
  {
   "cell_type": "markdown",
   "metadata": {},
   "source": [
    "<a class=\"anchor\" id=\"12.1. Menu price and GAP wage by chain stores [+]\"></a>\n",
    "\n",
    "## 12.1. Menu price and GAP wage by chain stores [+]\n",
    "\n",
    "In the same manner as we did when regressing the change in FTE on GAP variable, we can observe from the model in column (iv) of Table 7 that GAP variable is statistically significant also here when conditioning on chain store brands. Again, we can visualize this scenario with a regression plot as follows:"
   ]
  },
  {
   "cell_type": "code",
   "execution_count": 7,
   "metadata": {},
   "outputs": [
    {
     "data": {
      "image/png": "[encoded data removed]",
      "text/plain": [
       "<Figure size 720x720 with 4 Axes>"
      ]
     },
     "metadata": {},
     "output_type": "display_data"
    }
   ],
   "source": [
    "lmplot(df_reg_tab7,'change_in_log_price')"
   ]
  },
  {
   "cell_type": "markdown",
   "metadata": {},
   "source": [
    "In sum, these results provide mixed evidence that higher minimum wages result in higher higher fast-food prices. The strongest evidence emerges from a comparison of NJ and PA stores. The magnitude of the price increase is consistent with predictions from a conventional model of a competitive industry, suggesting that much of the burden of the minimum-wage rise was\n",
    "passed on to consumers. On the other hand, we find no evidence that prices rose faster among stores in NJ that were most affected by the rise in the minimum wage."
   ]
  },
  {
   "cell_type": "markdown",
   "metadata": {},
   "source": [
    "<a class=\"anchor\" id=\"13. Discussion on key points of Card&Krueger supporter/detractor sides\"></a>\n",
    "\n",
    "---\n",
    "# 13. Discussion on key points of Card&Krueger supporter/detractor sides\n",
    "---"
   ]
  },
  {
   "cell_type": "markdown",
   "metadata": {},
   "source": [
    "* The so-called *\"Institutionalists\"* recognized that wage setting in the real world involved a complex balance of concerns about morale, employee loyalty, turnover, bargaining power, and concerns about relative pay—as well as supply and demand. They were aware that labor markets were imperfect, and that workers lacked bargaining power. So, minimum wage can help to provide workers with dignity and to ensure that honest work is rewarded with honest pay. The fact that wages and working conditions varied for workers of equal skill and training in a locality suggested that employers had some discretion to set pay. Companies were more than passive wage takers, as the simple theory of labor demand requires. They recognized that there was nothing optimal in the way that employers set wages, and that the economy would function better if the minimum wage set a floor below which wages could not fall. When employers have monopsony power over workers because of frictions in the job market, a skillfully set minimum wage could provide a standard that clears the market, and raises the purchasing power of households. \n",
    "    * A meta-analysis by Doucouliagos and Stanley (2009) of sixty-four studies on the minimum wage published between 1972 and 2007, encompassing over one thousand estimates, finds that most estimates are concentrated around zero, indicating no detectable effect. The authors concluded that the available research finds “no evidence of a meaningful adverse employment effect” of the minimum wage. There are many different explanations for the lack of substantial disemployment effects. One suggestion is that employers exercise monopsony power: just as a monopoly will not reduce its output in response to an imposed price reduction, a monopsonist can absorb a price increase (such as a minimum-wage increase) without reducing demand for workers. Although such theoretical explanations are possible, a more straightforward argument is that an increase in the minimum wage does not have a disemployment effect because the increased labor costs are easily distributed over small price or productivity increases.\n",
    "\n",
    "\n",
    "* The so-called *\"Marginalists\"* led a backlash against the institutionalist view that the minimum wage could reduce poverty and improve the economy. They deduced their conclusions from a set of assumptions about the way competitive markets should function. In these idealized markets companies had no discretion to set pay and all workers were paid their contribution to output.\n",
    "    * **Alternative construction of employment variable -** In response to Card & Krueger (hereafter, CK), Neumark and Wascher (2000) instead of measuring employment by the numbers of workers, they measured it by the total number of hours and using data on payroll hours they claim to show that employment declined in the restaurants. The employment data collected by CK indicate substantially more variability over the period between their surveys than do the payroll data, thus providing motivation for a reevaluation of the study. Since the minimum wage is defined in hourly terms, it seems most appropriate to test for its effects by looking at changes in hours worked.\n",
    "\n",
    "    * **Rescheduling hypothesis -** Michl (2000) came up with the \"rescheduling hypothesis\", according to which both opponent views may be right. It works as it follows. Firms have the option of cutting back on labor services either by laying off workers or by reducing the length of the scheduled workweek. Since total payroll hours are the product of the number of workers and their average workweek, it is algebraically possible for the number of workers to remain constant while weekly hours per worker (and thus total payroll hours) decline. To explore this rescheduling he presented a model of the demand for workers and weekly hours per workers that shows why a wage increase could, in principle, induce firms to hire more workers, (consistent with CK's finding) while reducing the workweek. In this model, the firms' total demand for hours will decline (consistent with Neumark's and Wascher's finding).\n",
    "\n",
    "    * **Measurement errors -** CK's method has been also criticized because telephone surveys are prone to measurement error attributable to the design of the survey. The high variability of employment change in CK’s data is might be due to the imprecision of their survey questions eliciting employment levels. After verifying that he/she was speaking with a manager or assistant manager, CK’s interviewer asked “How many full-time and part-time workers are employed in your restaurant, excluding managers and assistant managers?”. Survey respondents were not given any time period over which to define employment, and their answers may well have ranged from employment on the shift during which the telephone survey took place to employment over an entire payroll period, which could be as long as one month. Moreover, because there appears to have been no effort to interview the same manager in the two waves of the survey, there is no reason to believe that the responses in the first and second waves are based on the same “definition” of employment.  \n",
    "If the measurement error in CK’s data is random, then it would not bias the estimated employment effect, as the measurement error is in the dependent variable. Nonetheless, we cannot exclude that it is so severe that the large-sample result simply does not hold in the relatively small samples considered. Because the Pennsylvania sample in both data sources is rather small, and much of the difference between the two data sources arises for Pennsylvania, it is entirely possible that random measurement error in CK’s data is the culprit. Of course, if the measurement error in CK’s data is random, then the evidence of positive employment effects in their data would be even stronger in the absence of measurement error, because the reported standard errors are inflated because of the measurement error.\n",
    "    * **Job growth perspective -** Moreover, CK only looked at an eleven-month period in 1992, from February, before the wage hike took effect, to December, a few months after it was implemented. This suggests that in a short-term response to the minimum wage hike, few businesses fired anyone. Instead, they raised their prices - something CK found — to cover their extra labor costs, and left employment where it was. It makes sense, as employers might not want to immediately, significantly alter their business plans in response to a small increase in the minimum wage. In the medium to long term, though, a different picture emerges. Higher minimum wages mean fewer businesses will open, and struggling ones will close more quickly. Instead of affecting the number of jobs in an economy, minimum wage hikes affect the rate of job growth. Therefore, in the months after a minimum wage hike, a state may see a similar level of employment relative to what might have been had the minimum wage remained the same. Several years after the hike, however, there will be significantly fewer jobs available than there otherwise would have been. Meer & West (2013) discovered exactly this. Consistent with CK, they found that states which raised their minimum wages did not see any short-term reduction in employment. However, there was a strong negative effect on job growth.\n",
    "    * **Policy exogeneity issue -** Another flaw to point out is that though CK carried out their first-wave survey a few weeks before the minimum wage increase, the New Jersey law mandating the increase was enacted back in early 1990. That is, the fast-food chains had two years to prepare for the policy change. Employers typically don’t like to fire workers, so a rational strategy to prepare for the policy change would have been to reduce employment through attrition in anticipation of the policy change. Indeed, Card and Krueger’s first-wave survey data show the Pennsylvania restaurants averaged 23.3 full-time-equivalent employees while the New Jersey restaurants averaged 20.4. \n",
    "    * **Bargaining power -** One might want to claim issues on the focus on chain restaurants.  Chain restaurants, as a rule, will have more capital available to train employees and increase automation, compared to independent businesses.  They will also have more negotiating powers with their partners and suppliers and possibly be able to pass some of their costs on.  Thus, to the extent that a minimum wage increase leads to business closures, these will fall disproportionately on smaller businesses.\n",
    "    * **Different estimator -** [Ropponen (2010)](https://poseidon01.ssrn.com/delivery.php?ID=578024126025113000105071027003104105030008032048049017077023078065089083018093104100005045118111046019096064091007010017070001001061058032046121091067127079087120055000076102010026101088121112009024120087087091082118100088098006002074002027029084116&EXT=pdf&INDEX=TRUE) employes the same dataset as CK but a different more flexible estimator, namely the changes-in-changes (CIC) estimator introduced by Athey & Imbens (2006). He found that employment effects are estimated to be positive for small and negative for big fast-food restaurants. Thus, CK controversial result is overturned for big fast-food restaurants.\n",
    "    \n",
    "\n",
    "\n",
    "\n",
    "$\\Rightarrow$ How one views the interpretation of the New Jersey natural experiment depends on whether one is primarily interested in its theoretical importance or policy relevance. From the perspective of theoretical relevance, CK's findings are consistent with heterodox models of the labor market, characterized by imperfect competition, information asymmetries, or other deviations from the standard competitive model, and for that reason they richly deserve the attention they have received. The findings of Neumark and Wascher, as well as the rescheduling hypothesis, are consistent with the competitive model of the firm. In policy debates, on the other hand, both research teams have advocates or opponents of the minimum wage, yet it can be argued that whatever the disagreements, their results are both consistent with the conclusion that the New Jersey minimum wage increased the economic well-being of the targeted low-wage workers, at least those in the fastfood industry. Since the proportional reductions in hours per worker were probably smaller than the proportional increases in the wage, the incomes of low-wage workers would have been enlarged by this policy.  \n",
    "\n",
    "CK (2000) attempted to reconcile the contrasting findings by analyzing administrative employment data from a new representative sample of fast-food employers over the period of their original study. They corroborate the key findings in their 1994 paper although in most specifications the differential is small. Overall, based on all the evidence now available they conclude that: \n",
    "> The increase in New Jersey’s minimum wage probably had no effect on total employment in New Jersey’s fast-food industry, and possibly had a small positive effect.\n",
    "\n",
    "Because of frictions in the labor market, a minimumwage increase can be expected to cause some firms to reduce employment and others to raise employment, with these two effects potentially cancelling out if the rise in the minimum wage is modest.\n",
    "\n",
    "<a class=\"anchor\" id=\"13.1. Policy long-run effects\"></a>\n",
    "## 13.1. Policy long-run effects  \n",
    "\n",
    "\n",
    "![ERROR:Here should be long run picture](files/long_run.jpg)\n",
    "\n",
    "It is legit to ask ourselves about longer-run effects of the New Jersey minimum-wage increase. Figure 2 from Card & Krueger (2000) summarizes the time series patterns of aggregate monthly employment in the fastfood industry relative to their respective February 1992 levels. on whole the figure provides little evidence that Pennsylvania’s employment growth exceeded New Jersey’s in the few years following the minimum-wage increase.\n",
    "\n",
    "Interestingly, in 1996 the federal minimum wage increased, and it was binding in Pennsylvania but not in New Jersey, where the State minimum wage already exceeded the new federal standard. Consequently, the same comparison can be conducted in reverse, with New Jersey now serving as a control group for Pennsylvania’s experience. The figure also indicates greater employment growth in Pennsylvania than in New Jersey following the 1996 minimum-wage increase."
   ]
  },
  {
   "cell_type": "markdown",
   "metadata": {},
   "source": [
    "<a class=\"anchor\" id=\"14. Conclusion\"></a>\n",
    "\n",
    "---\n",
    "# 14. Conclusion\n",
    "---"
   ]
  },
  {
   "cell_type": "markdown",
   "metadata": {},
   "source": [
    "This notebook consistently replicates the results of Card & Krueger (1994), and I added some extension inspections throughout the notebook. Few tables results are partially reproduced, and only table 8 in the paper is not reproduced because it is calculated using another sample of data. The controversy after its publication and the fact that it is highly cited clearly show how important its contribution was and still is. It is a great piece of discussion when it comes to the interpretability and policy relevance of dif-in-dif approaches.\n",
    "\n",
    "Card & Krueger’s paper pops up whenever there is a debate about the minimum wage. In this study, that Card & Krueger label as *\"our best-known but least-understood study\"*, they examined employment at fastfood restaurants in New Jersey and across the\n",
    "border in Pennsylvania, before and after New Jersey raised its state minimum wage from \\$4.25 to \\$5.05 per hour in 1992. They found that employment did not fall in New Jersey compared to Pennsylvania. Moreover, when they compared the restaurants in New Jersey that were required to raise their wages the most by the minimum wage hike to other restaurants in New\n",
    "Jersey that already exceeded the higher minimum wage, they again failed to find disemployment effects.\n",
    "\n",
    "\n",
    "The study has been very controversial but helped to change the common presupposition that a small change in the minimum wage\n",
    "from a low level was bound to cause a significant decrease in employment.Overall, it has to be stated that the paper has some shortcomings but the care put into this paper and the good readibility allowed other researchers to give helpful remarks that contributed to shed light on the discrepancy between labor market models functioning and their empirical results. Most importantly, I enjoyed spending my time doing my project."
   ]
  },
  {
   "cell_type": "markdown",
   "metadata": {},
   "source": [
    "<a class=\"anchor\" id=\"15. References\"></a>\n",
    "\n",
    "---\n",
    "# 15. References\n",
    "---"
   ]
  },
  {
   "cell_type": "markdown",
   "metadata": {},
   "source": [
    "* **Card, David, and Alan Krueger. (1994).** “Minimum Wages and Employment: A Case Study of the Fast-Food Industry in New Jersey and Pennsylvania.” American Economic Review 84: 772–93.\n",
    "\n",
    "\n",
    "* **Card, D., & Krueger, A. B. (2000).** Minimum wages and employment: a case study of the fast-food industry in New Jersey and Pennsylvania: reply. American Economic Review, 90(5), 1397-1420.\n",
    "\n",
    "\n",
    "* **Doucouliagos, Hristos, and Tom D Stanley (2009).** “Publication Selection Bias in Minimum-Wage Research? A Meta-Regression Analysis.” British Journal of Industrial Relations 47(2): 406–28.\n",
    "\n",
    "\n",
    "* **Gelman, A. (2009).** A statistician's perspective on “Mostly Harmless Econometrics: An Empiricist's Companion”, by Joshua D. Angrist and Jörn-Steffen Pischke. The Stata Journal, 9(2), 315-320.\n",
    "\n",
    "\n",
    "* **Krueger, A. B. (2015).** The history of economic thought on the minimum wage.\n",
    "\n",
    "\n",
    "* **Michl, T. R. (2000).** Can rescheduling explain the New Jersey minimum wage studies?. Eastern Economic Journal, 26(3), 265-276.\n",
    "\n",
    "\n",
    "* **Neumark, D., & Wascher, W. (2000).** Minimum wages and employment: A case study of the fast-food industry in New Jersey and Pennsylvania: Comment. American Economic Review, 90(5), 1362-1396.\n",
    "\n",
    "\n"
   ]
  },
  {
   "cell_type": "markdown",
   "metadata": {},
   "source": [
    "-------\n",
    "Notebook by Edoardo Falchi | Find me on GitHub at https://github.com/edoardofalchi\n",
    "\n",
    "---"
   ]
  }
 ],
 "metadata": {
  "kernelspec": {
   "display_name": "Python 3",
   "language": "python",
   "name": "python3"
  },
  "language_info": {
   "codemirror_mode": {
    "name": "ipython",
    "version": 3
   },
   "file_extension": ".py",
   "mimetype": "text/x-python",
   "name": "python",
   "nbconvert_exporter": "python",
   "pygments_lexer": "ipython3",
   "version": "3.8.5"
  },
  "toc": {
   "base_numbering": 1,
   "nav_menu": {},
   "number_sections": false,
   "sideBar": true,
   "skip_h1_title": false,
   "title_cell": "Table of Contents",
   "title_sidebar": "Contents",
   "toc_cell": true,
   "toc_position": {
    "height": "622.641px",
    "left": "691px",
    "top": "110px",
    "width": "277.4px"
   },
   "toc_section_display": true,
   "toc_window_display": true
  },
  "varInspector": {
   "cols": {
    "lenName": 16,
    "lenType": 16,
    "lenVar": 40
   },
   "kernels_config": {
    "python": {
     "delete_cmd_postfix": "",
     "delete_cmd_prefix": "del ",
     "library": "var_list.py",
     "varRefreshCmd": "print(var_dic_list())"
    },
    "r": {
     "delete_cmd_postfix": ") ",
     "delete_cmd_prefix": "rm(",
     "library": "var_list.r",
     "varRefreshCmd": "cat(var_dic_list()) "
    }
   },
   "oldHeight": 189.73845400000002,
   "position": {
    "height": "478.719px",
    "left": "987.578px",
    "right": "20px",
    "top": "283.984px",
    "width": "717.172px"
   },
   "types_to_exclude": [
    "module",
    "function",
    "builtin_function_or_method",
    "instance",
    "_Feature"
   ],
   "varInspector_section_display": "block",
   "window_display": false
  }
 },
 "nbformat": 4,
 "nbformat_minor": 2
}
