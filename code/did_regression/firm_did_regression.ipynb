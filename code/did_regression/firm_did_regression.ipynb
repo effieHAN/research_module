{
 "cells": [
  {
   "cell_type": "code",
   "execution_count": 1,
   "metadata": {},
   "outputs": [],
   "source": [
    "%matplotlib inline\n",
    "# !pip install stargazer\n",
    "# !pip install scipy\n",
    "# !pip install plotly_express\n",
    "# !pip install pandas-profiling\n",
    "# !pip install linearmodels\n",
    "# !pip install sklearn\n",
    "\n",
    "import scipy\n",
    "import numpy as np\n",
    "import pandas as pd\n",
    "import pandas.io.formats.style\n",
    "import seaborn as sns\n",
    "import statsmodels as sm\n",
    "import statsmodels.formula.api as smf\n",
    "import matplotlib.pyplot as plt\n",
    "from IPython.display import HTML\n",
    "import linearmodels as lm\n",
    "from linearmodels import PanelOLS\n",
    "import warnings\n",
    "warnings.filterwarnings(\"ignore\")\n",
    "import math\n",
    "# import sklearn\n",
    "\n",
    "from linearmodels.panel import compare\n",
    "import statsmodels.api as sm\n",
    "import statsmodels.formula.api as smf\n",
    "import statsmodels.api as sm_api\n"
   ]
  },
  {
   "cell_type": "markdown",
   "metadata": {},
   "source": [
    "<a class=\"anchor\" id=\"8. Difference in differences implementation\"></a>\n",
    "\n",
    "\n",
    "# cash flow is already level data   and there is no infor for No.of bank relations "
   ]
  },
  {
   "cell_type": "code",
   "execution_count": 2,
   "metadata": {},
   "outputs": [],
   "source": [
    "path=\"/Users/effie/Desktop/term3/research_module/data/\"\n",
    "data=pd.read_csv(path+\"firm_clean/ready_for_regression.csv\")\n",
    "\n",
    "# path=\"/Users/mengxi/Desktop/financial research/final/\"\n",
    "# data=pd.read_csv(path+\"211221_ready_for_regression.csv\")"
   ]
  },
  {
   "cell_type": "code",
   "execution_count": 3,
   "metadata": {
    "scrolled": true
   },
   "outputs": [
    {
     "data": {
      "text/html": [
       "<div>\n",
       "<style scoped>\n",
       "    .dataframe tbody tr th:only-of-type {\n",
       "        vertical-align: middle;\n",
       "    }\n",
       "\n",
       "    .dataframe tbody tr th {\n",
       "        vertical-align: top;\n",
       "    }\n",
       "\n",
       "    .dataframe thead th {\n",
       "        text-align: right;\n",
       "    }\n",
       "</style>\n",
       "<table border=\"1\" class=\"dataframe\">\n",
       "  <thead>\n",
       "    <tr style=\"text-align: right;\">\n",
       "      <th></th>\n",
       "      <th>Unnamed: 0</th>\n",
       "      <th>BvDID_firm</th>\n",
       "      <th>year</th>\n",
       "      <th>plz_firm</th>\n",
       "      <th>ort_</th>\n",
       "      <th>regionalkey_</th>\n",
       "      <th>bundesland</th>\n",
       "      <th>BvDID_bank_1</th>\n",
       "      <th>postcode_bank_1</th>\n",
       "      <th>data2025_1</th>\n",
       "      <th>...</th>\n",
       "      <th>bank_affected_degree</th>\n",
       "      <th>cf_ratio</th>\n",
       "      <th>gros_ratio</th>\n",
       "      <th>shfd_ratio</th>\n",
       "      <th>staf_ave</th>\n",
       "      <th>staf_ln</th>\n",
       "      <th>toas_lev</th>\n",
       "      <th>toas_ln</th>\n",
       "      <th>turn_lev</th>\n",
       "      <th>turn_ln</th>\n",
       "    </tr>\n",
       "  </thead>\n",
       "  <tbody>\n",
       "    <tr>\n",
       "      <th>0</th>\n",
       "      <td>1</td>\n",
       "      <td>DE2010041272</td>\n",
       "      <td>2006.0</td>\n",
       "      <td>13407</td>\n",
       "      <td>Berlin, Stadt</td>\n",
       "      <td>11</td>\n",
       "      <td>Berlin</td>\n",
       "      <td>DE13190</td>\n",
       "      <td>60311</td>\n",
       "      <td>265857.0</td>\n",
       "      <td>...</td>\n",
       "      <td>1</td>\n",
       "      <td>0.075024</td>\n",
       "      <td>NaN</td>\n",
       "      <td>0.042334</td>\n",
       "      <td>48871.675978</td>\n",
       "      <td>10.796953</td>\n",
       "      <td>81.248314</td>\n",
       "      <td>4.397510</td>\n",
       "      <td>128.884630</td>\n",
       "      <td>4.858918</td>\n",
       "    </tr>\n",
       "    <tr>\n",
       "      <th>1</th>\n",
       "      <td>2</td>\n",
       "      <td>DE2010041272</td>\n",
       "      <td>2007.0</td>\n",
       "      <td>13407</td>\n",
       "      <td>Berlin, Stadt</td>\n",
       "      <td>11</td>\n",
       "      <td>Berlin</td>\n",
       "      <td>DE13190</td>\n",
       "      <td>60311</td>\n",
       "      <td>302841.0</td>\n",
       "      <td>...</td>\n",
       "      <td>1</td>\n",
       "      <td>0.091505</td>\n",
       "      <td>NaN</td>\n",
       "      <td>0.038756</td>\n",
       "      <td>49828.607527</td>\n",
       "      <td>10.816345</td>\n",
       "      <td>78.166190</td>\n",
       "      <td>4.358837</td>\n",
       "      <td>150.773620</td>\n",
       "      <td>5.015780</td>\n",
       "    </tr>\n",
       "    <tr>\n",
       "      <th>2</th>\n",
       "      <td>3</td>\n",
       "      <td>DE2010041272</td>\n",
       "      <td>2008.0</td>\n",
       "      <td>13407</td>\n",
       "      <td>Berlin, Stadt</td>\n",
       "      <td>11</td>\n",
       "      <td>Berlin</td>\n",
       "      <td>DE13190</td>\n",
       "      <td>60311</td>\n",
       "      <td>359251.0</td>\n",
       "      <td>...</td>\n",
       "      <td>1</td>\n",
       "      <td>0.070409</td>\n",
       "      <td>NaN</td>\n",
       "      <td>0.031984</td>\n",
       "      <td>52628.015345</td>\n",
       "      <td>10.871004</td>\n",
       "      <td>84.965980</td>\n",
       "      <td>4.442251</td>\n",
       "      <td>199.344200</td>\n",
       "      <td>5.295033</td>\n",
       "    </tr>\n",
       "    <tr>\n",
       "      <th>3</th>\n",
       "      <td>4</td>\n",
       "      <td>DE2010041272</td>\n",
       "      <td>2009.0</td>\n",
       "      <td>13407</td>\n",
       "      <td>Berlin, Stadt</td>\n",
       "      <td>11</td>\n",
       "      <td>Berlin</td>\n",
       "      <td>DE13190</td>\n",
       "      <td>60311</td>\n",
       "      <td>605765.0</td>\n",
       "      <td>...</td>\n",
       "      <td>1</td>\n",
       "      <td>0.061911</td>\n",
       "      <td>NaN</td>\n",
       "      <td>0.029387</td>\n",
       "      <td>44985.775956</td>\n",
       "      <td>10.714102</td>\n",
       "      <td>85.924355</td>\n",
       "      <td>4.453467</td>\n",
       "      <td>119.532216</td>\n",
       "      <td>4.783586</td>\n",
       "    </tr>\n",
       "    <tr>\n",
       "      <th>4</th>\n",
       "      <td>5</td>\n",
       "      <td>DE2010041272</td>\n",
       "      <td>2010.0</td>\n",
       "      <td>13407</td>\n",
       "      <td>Berlin, Stadt</td>\n",
       "      <td>11</td>\n",
       "      <td>Berlin</td>\n",
       "      <td>DE13190</td>\n",
       "      <td>60311</td>\n",
       "      <td>623634.0</td>\n",
       "      <td>...</td>\n",
       "      <td>1</td>\n",
       "      <td>0.042470</td>\n",
       "      <td>NaN</td>\n",
       "      <td>0.027559</td>\n",
       "      <td>51404.482353</td>\n",
       "      <td>10.847481</td>\n",
       "      <td>89.440920</td>\n",
       "      <td>4.493578</td>\n",
       "      <td>146.464800</td>\n",
       "      <td>4.986785</td>\n",
       "    </tr>\n",
       "    <tr>\n",
       "      <th>...</th>\n",
       "      <td>...</td>\n",
       "      <td>...</td>\n",
       "      <td>...</td>\n",
       "      <td>...</td>\n",
       "      <td>...</td>\n",
       "      <td>...</td>\n",
       "      <td>...</td>\n",
       "      <td>...</td>\n",
       "      <td>...</td>\n",
       "      <td>...</td>\n",
       "      <td>...</td>\n",
       "      <td>...</td>\n",
       "      <td>...</td>\n",
       "      <td>...</td>\n",
       "      <td>...</td>\n",
       "      <td>...</td>\n",
       "      <td>...</td>\n",
       "      <td>...</td>\n",
       "      <td>...</td>\n",
       "      <td>...</td>\n",
       "      <td>...</td>\n",
       "    </tr>\n",
       "    <tr>\n",
       "      <th>7969</th>\n",
       "      <td>7970</td>\n",
       "      <td>DE8350106575</td>\n",
       "      <td>2011.0</td>\n",
       "      <td>84056</td>\n",
       "      <td>Landshut</td>\n",
       "      <td>9274</td>\n",
       "      <td>Bayern</td>\n",
       "      <td>DE13732</td>\n",
       "      <td>84028</td>\n",
       "      <td>3274.0</td>\n",
       "      <td>...</td>\n",
       "      <td>1</td>\n",
       "      <td>0.161112</td>\n",
       "      <td>NaN</td>\n",
       "      <td>0.202240</td>\n",
       "      <td>33063.769231</td>\n",
       "      <td>10.406193</td>\n",
       "      <td>1.546713</td>\n",
       "      <td>0.436132</td>\n",
       "      <td>2.317667</td>\n",
       "      <td>0.840561</td>\n",
       "    </tr>\n",
       "    <tr>\n",
       "      <th>7970</th>\n",
       "      <td>7971</td>\n",
       "      <td>DE8350106575</td>\n",
       "      <td>2012.0</td>\n",
       "      <td>84056</td>\n",
       "      <td>Landshut</td>\n",
       "      <td>9274</td>\n",
       "      <td>Bayern</td>\n",
       "      <td>DE13732</td>\n",
       "      <td>84028</td>\n",
       "      <td>3268.0</td>\n",
       "      <td>...</td>\n",
       "      <td>1</td>\n",
       "      <td>0.057209</td>\n",
       "      <td>NaN</td>\n",
       "      <td>0.216084</td>\n",
       "      <td>36853.846154</td>\n",
       "      <td>10.514715</td>\n",
       "      <td>1.542484</td>\n",
       "      <td>0.433394</td>\n",
       "      <td>2.320461</td>\n",
       "      <td>0.841766</td>\n",
       "    </tr>\n",
       "    <tr>\n",
       "      <th>7971</th>\n",
       "      <td>7972</td>\n",
       "      <td>DE8350164094</td>\n",
       "      <td>2006.0</td>\n",
       "      <td>85356</td>\n",
       "      <td>Freising</td>\n",
       "      <td>9178</td>\n",
       "      <td>Bayern</td>\n",
       "      <td>DE42769</td>\n",
       "      <td>85354</td>\n",
       "      <td>1159.0</td>\n",
       "      <td>...</td>\n",
       "      <td>1</td>\n",
       "      <td>0.230300</td>\n",
       "      <td>NaN</td>\n",
       "      <td>0.000000</td>\n",
       "      <td>17312.543860</td>\n",
       "      <td>9.759187</td>\n",
       "      <td>2.136564</td>\n",
       "      <td>0.759199</td>\n",
       "      <td>5.152020</td>\n",
       "      <td>1.639389</td>\n",
       "    </tr>\n",
       "    <tr>\n",
       "      <th>7972</th>\n",
       "      <td>7973</td>\n",
       "      <td>DE8350164094</td>\n",
       "      <td>2007.0</td>\n",
       "      <td>85356</td>\n",
       "      <td>Freising</td>\n",
       "      <td>9178</td>\n",
       "      <td>Bayern</td>\n",
       "      <td>DE42769</td>\n",
       "      <td>85354</td>\n",
       "      <td>1190.0</td>\n",
       "      <td>...</td>\n",
       "      <td>1</td>\n",
       "      <td>0.207050</td>\n",
       "      <td>NaN</td>\n",
       "      <td>0.076367</td>\n",
       "      <td>19426.391304</td>\n",
       "      <td>9.874388</td>\n",
       "      <td>2.013842</td>\n",
       "      <td>0.700044</td>\n",
       "      <td>6.110219</td>\n",
       "      <td>1.809963</td>\n",
       "    </tr>\n",
       "    <tr>\n",
       "      <th>7973</th>\n",
       "      <td>7974</td>\n",
       "      <td>DE8350164094</td>\n",
       "      <td>2012.0</td>\n",
       "      <td>85356</td>\n",
       "      <td>Freising</td>\n",
       "      <td>9178</td>\n",
       "      <td>Bayern</td>\n",
       "      <td>DE42769</td>\n",
       "      <td>85354</td>\n",
       "      <td>1258.0</td>\n",
       "      <td>...</td>\n",
       "      <td>1</td>\n",
       "      <td>NaN</td>\n",
       "      <td>NaN</td>\n",
       "      <td>0.364251</td>\n",
       "      <td>NaN</td>\n",
       "      <td>NaN</td>\n",
       "      <td>2.628000</td>\n",
       "      <td>0.966223</td>\n",
       "      <td>NaN</td>\n",
       "      <td>NaN</td>\n",
       "    </tr>\n",
       "  </tbody>\n",
       "</table>\n",
       "<p>7974 rows × 103 columns</p>\n",
       "</div>"
      ],
      "text/plain": [
       "      Unnamed: 0    BvDID_firm    year  plz_firm           ort_  regionalkey_  \\\n",
       "0              1  DE2010041272  2006.0     13407  Berlin, Stadt            11   \n",
       "1              2  DE2010041272  2007.0     13407  Berlin, Stadt            11   \n",
       "2              3  DE2010041272  2008.0     13407  Berlin, Stadt            11   \n",
       "3              4  DE2010041272  2009.0     13407  Berlin, Stadt            11   \n",
       "4              5  DE2010041272  2010.0     13407  Berlin, Stadt            11   \n",
       "...          ...           ...     ...       ...            ...           ...   \n",
       "7969        7970  DE8350106575  2011.0     84056       Landshut          9274   \n",
       "7970        7971  DE8350106575  2012.0     84056       Landshut          9274   \n",
       "7971        7972  DE8350164094  2006.0     85356       Freising          9178   \n",
       "7972        7973  DE8350164094  2007.0     85356       Freising          9178   \n",
       "7973        7974  DE8350164094  2012.0     85356       Freising          9178   \n",
       "\n",
       "     bundesland BvDID_bank_1  postcode_bank_1  data2025_1  ...  \\\n",
       "0        Berlin      DE13190            60311    265857.0  ...   \n",
       "1        Berlin      DE13190            60311    302841.0  ...   \n",
       "2        Berlin      DE13190            60311    359251.0  ...   \n",
       "3        Berlin      DE13190            60311    605765.0  ...   \n",
       "4        Berlin      DE13190            60311    623634.0  ...   \n",
       "...         ...          ...              ...         ...  ...   \n",
       "7969     Bayern      DE13732            84028      3274.0  ...   \n",
       "7970     Bayern      DE13732            84028      3268.0  ...   \n",
       "7971     Bayern      DE42769            85354      1159.0  ...   \n",
       "7972     Bayern      DE42769            85354      1190.0  ...   \n",
       "7973     Bayern      DE42769            85354      1258.0  ...   \n",
       "\n",
       "      bank_affected_degree  cf_ratio  gros_ratio  shfd_ratio      staf_ave  \\\n",
       "0                        1  0.075024         NaN    0.042334  48871.675978   \n",
       "1                        1  0.091505         NaN    0.038756  49828.607527   \n",
       "2                        1  0.070409         NaN    0.031984  52628.015345   \n",
       "3                        1  0.061911         NaN    0.029387  44985.775956   \n",
       "4                        1  0.042470         NaN    0.027559  51404.482353   \n",
       "...                    ...       ...         ...         ...           ...   \n",
       "7969                     1  0.161112         NaN    0.202240  33063.769231   \n",
       "7970                     1  0.057209         NaN    0.216084  36853.846154   \n",
       "7971                     1  0.230300         NaN    0.000000  17312.543860   \n",
       "7972                     1  0.207050         NaN    0.076367  19426.391304   \n",
       "7973                     1       NaN         NaN    0.364251           NaN   \n",
       "\n",
       "        staf_ln   toas_lev   toas_ln    turn_lev   turn_ln  \n",
       "0     10.796953  81.248314  4.397510  128.884630  4.858918  \n",
       "1     10.816345  78.166190  4.358837  150.773620  5.015780  \n",
       "2     10.871004  84.965980  4.442251  199.344200  5.295033  \n",
       "3     10.714102  85.924355  4.453467  119.532216  4.783586  \n",
       "4     10.847481  89.440920  4.493578  146.464800  4.986785  \n",
       "...         ...        ...       ...         ...       ...  \n",
       "7969  10.406193   1.546713  0.436132    2.317667  0.840561  \n",
       "7970  10.514715   1.542484  0.433394    2.320461  0.841766  \n",
       "7971   9.759187   2.136564  0.759199    5.152020  1.639389  \n",
       "7972   9.874388   2.013842  0.700044    6.110219  1.809963  \n",
       "7973        NaN   2.628000  0.966223         NaN       NaN  \n",
       "\n",
       "[7974 rows x 103 columns]"
      ]
     },
     "execution_count": 3,
     "metadata": {},
     "output_type": "execute_result"
    }
   ],
   "source": [
    "data"
   ]
  },
  {
   "cell_type": "code",
   "execution_count": 4,
   "metadata": {
    "scrolled": true
   },
   "outputs": [
    {
     "data": {
      "text/plain": [
       "1    5596\n",
       "0    2378\n",
       "Name: firm_affected, dtype: int64"
      ]
     },
     "execution_count": 4,
     "metadata": {},
     "output_type": "execute_result"
    }
   ],
   "source": [
    "data=data.drop(columns=['Unnamed: 0'])\n",
    "data.rename(columns={\"bank_affected\":\"firm_affected\"},inplace=True)\n",
    "data.rename(columns={\"bank_affected_degree\":\"firm_affected_degree\"},inplace=True)\n",
    "\n",
    "data[\"firm_affected\"].value_counts()\n"
   ]
  },
  {
   "cell_type": "code",
   "execution_count": 5,
   "metadata": {},
   "outputs": [
    {
     "data": {
      "text/plain": [
       "1    5345\n",
       "0    2378\n",
       "2     235\n",
       "3      16\n",
       "Name: firm_affected_degree, dtype: int64"
      ]
     },
     "execution_count": 5,
     "metadata": {},
     "output_type": "execute_result"
    }
   ],
   "source": [
    "data[\"firm_affected_degree\"].value_counts()"
   ]
  },
  {
   "cell_type": "code",
   "execution_count": 6,
   "metadata": {},
   "outputs": [
    {
     "data": {
      "text/plain": [
       "0.088435    1\n",
       "0.012991    1\n",
       "0.144481    1\n",
       "0.070066    1\n",
       "0.113539    1\n",
       "           ..\n",
       "0.137680    1\n",
       "0.117831    1\n",
       "0.024563    1\n",
       "0.046612    1\n",
       "0.078836    1\n",
       "Name: cf_ratio, Length: 7033, dtype: int64"
      ]
     },
     "execution_count": 6,
     "metadata": {},
     "output_type": "execute_result"
    }
   ],
   "source": [
    "data[\"cf_ratio\"].value_counts()"
   ]
  },
  {
   "cell_type": "code",
   "execution_count": 7,
   "metadata": {
    "scrolled": false
   },
   "outputs": [
    {
     "data": {
      "text/plain": [
       "Index(['BvDID_firm', 'year', 'plz_firm', 'ort_', 'regionalkey_', 'bundesland',\n",
       "       'BvDID_bank_1', 'postcode_bank_1', 'data2025_1', 'data2075_1',\n",
       "       ...\n",
       "       'firm_affected_degree', 'cf_ratio', 'gros_ratio', 'shfd_ratio',\n",
       "       'staf_ave', 'staf_ln', 'toas_lev', 'toas_ln', 'turn_lev', 'turn_ln'],\n",
       "      dtype='object', length=102)"
      ]
     },
     "execution_count": 7,
     "metadata": {},
     "output_type": "execute_result"
    }
   ],
   "source": [
    "data.columns"
   ]
  },
  {
   "cell_type": "markdown",
   "metadata": {},
   "source": [
    "<a class=\"anchor\" id=\"8. Difference in differences implementation\"></a>\n",
    "\n",
    "---\n",
    "# Difference in differences implementation\n",
    "---"
   ]
  },
  {
   "cell_type": "code",
   "execution_count": 8,
   "metadata": {},
   "outputs": [],
   "source": [
    "def did_est(variable,df):\n",
    "    '''\n",
    "    arguments:variable of interest, dataset\n",
    "    return: 2x2 dif-in-dif table\n",
    "    '''\n",
    "    \n",
    "    # affected Before and after\n",
    "    affected_before = round(df.loc[(df['firm_affected']==1) & (df['year_post']!=1),variable].mean(),2)\n",
    "    affected_after  = round(df.loc[(df['firm_affected']==1) & (df['year_post']==1),variable].mean(),2)\n",
    "\n",
    "    # unaffected Before and after\n",
    "    unaffected_before = round(df.loc[(df['firm_affected']!=1) & (df['year_post']!=1),variable].mean(),2)\n",
    "    unaffected_after  = round(df.loc[(df['firm_affected']!=1) & (df['year_post']==1),variable].mean(),2)\n",
    "    \n",
    "    did= pd.DataFrame(data=np.array([[affected_after, affected_before,affected_after - affected_before],\n",
    "    [unaffected_after, unaffected_before, unaffected_after - unaffected_before]]), index=['affected','unaffected'],columns=['after','before','$\\Delta$'])\n",
    "    \n",
    "    return did"
   ]
  },
  {
   "cell_type": "code",
   "execution_count": 9,
   "metadata": {
    "scrolled": false
   },
   "outputs": [
    {
     "data": {
      "text/html": [
       "<div>\n",
       "<style scoped>\n",
       "    .dataframe tbody tr th:only-of-type {\n",
       "        vertical-align: middle;\n",
       "    }\n",
       "\n",
       "    .dataframe tbody tr th {\n",
       "        vertical-align: top;\n",
       "    }\n",
       "\n",
       "    .dataframe thead th {\n",
       "        text-align: right;\n",
       "    }\n",
       "</style>\n",
       "<table border=\"1\" class=\"dataframe\">\n",
       "  <thead>\n",
       "    <tr style=\"text-align: right;\">\n",
       "      <th></th>\n",
       "      <th>after</th>\n",
       "      <th>before</th>\n",
       "      <th>$\\Delta$</th>\n",
       "    </tr>\n",
       "  </thead>\n",
       "  <tbody>\n",
       "    <tr>\n",
       "      <th>affected</th>\n",
       "      <td>4.53</td>\n",
       "      <td>4.57</td>\n",
       "      <td>-0.04</td>\n",
       "    </tr>\n",
       "    <tr>\n",
       "      <th>unaffected</th>\n",
       "      <td>4.29</td>\n",
       "      <td>4.31</td>\n",
       "      <td>-0.02</td>\n",
       "    </tr>\n",
       "  </tbody>\n",
       "</table>\n",
       "</div>"
      ],
      "text/plain": [
       "            after  before  $\\Delta$\n",
       "affected     4.53    4.57     -0.04\n",
       "unaffected   4.29    4.31     -0.02"
      ]
     },
     "execution_count": 9,
     "metadata": {},
     "output_type": "execute_result"
    }
   ],
   "source": [
    "did_empl=did_est('empl',data)\n",
    "did_empl"
   ]
  },
  {
   "cell_type": "code",
   "execution_count": 10,
   "metadata": {},
   "outputs": [
    {
     "name": "stdout",
     "output_type": "stream",
     "text": [
      "Dif-in-dif estimate for empl is -0.02\n"
     ]
    }
   ],
   "source": [
    "print(\"Dif-in-dif estimate for empl is\", round(did_empl['$\\Delta$'][0]-did_empl['$\\Delta$'][1],2))"
   ]
  },
  {
   "cell_type": "code",
   "execution_count": 11,
   "metadata": {
    "scrolled": true
   },
   "outputs": [
    {
     "data": {
      "text/html": [
       "<div>\n",
       "<style scoped>\n",
       "    .dataframe tbody tr th:only-of-type {\n",
       "        vertical-align: middle;\n",
       "    }\n",
       "\n",
       "    .dataframe tbody tr th {\n",
       "        vertical-align: top;\n",
       "    }\n",
       "\n",
       "    .dataframe thead th {\n",
       "        text-align: right;\n",
       "    }\n",
       "</style>\n",
       "<table border=\"1\" class=\"dataframe\">\n",
       "  <thead>\n",
       "    <tr style=\"text-align: right;\">\n",
       "      <th></th>\n",
       "      <th>after</th>\n",
       "      <th>before</th>\n",
       "      <th>$\\Delta$</th>\n",
       "    </tr>\n",
       "  </thead>\n",
       "  <tbody>\n",
       "    <tr>\n",
       "      <th>affected</th>\n",
       "      <td>10.73</td>\n",
       "      <td>10.68</td>\n",
       "      <td>0.05</td>\n",
       "    </tr>\n",
       "    <tr>\n",
       "      <th>unaffected</th>\n",
       "      <td>10.69</td>\n",
       "      <td>10.67</td>\n",
       "      <td>0.02</td>\n",
       "    </tr>\n",
       "  </tbody>\n",
       "</table>\n",
       "</div>"
      ],
      "text/plain": [
       "            after  before  $\\Delta$\n",
       "affected    10.73   10.68      0.05\n",
       "unaffected  10.69   10.67      0.02"
      ]
     },
     "execution_count": 11,
     "metadata": {},
     "output_type": "execute_result"
    }
   ],
   "source": [
    "did_staf=did_est('staf_ln',data)\n",
    "did_staf"
   ]
  },
  {
   "cell_type": "code",
   "execution_count": 12,
   "metadata": {},
   "outputs": [
    {
     "name": "stdout",
     "output_type": "stream",
     "text": [
      "Dif-in-dif estimate for staff expense is 0.03\n"
     ]
    }
   ],
   "source": [
    "print(\"Dif-in-dif estimate for staff expense is\", round(did_staf['$\\Delta$'][0]-did_staf['$\\Delta$'][1],2))"
   ]
  },
  {
   "cell_type": "markdown",
   "metadata": {},
   "source": [
    "<a class=\"anchor\" id=\"9. Regression-adjusted models\"></a>\n",
    "\n",
    "---\n",
    "#  Regression-adjusted models\n",
    "---"
   ]
  },
  {
   "cell_type": "markdown",
   "metadata": {},
   "source": [
    " The DiD estimator can easily be implemented using regression. This is\n",
    "a convenient way to obtain estimates and the corresponding standard errors in one step.\n",
    "\n",
    "Consider the DiD linear regression model:  \n",
    "\n",
    "$$employment_{i,t} = \\beta_1 (Post_t \\times affected_i) + \\beta_2 X_{it} + \\beta_3 firm_i +\\beta_4 time_i + \\varepsilon_{i,t}$$"
   ]
  },
  {
   "cell_type": "code",
   "execution_count": 13,
   "metadata": {},
   "outputs": [],
   "source": [
    "model1 = smf.ols(formula = \"empl ~ firm_affected*year_post\", data = data).fit()"
   ]
  },
  {
   "cell_type": "code",
   "execution_count": 14,
   "metadata": {},
   "outputs": [
    {
     "name": "stdout",
     "output_type": "stream",
     "text": [
      "Dif-in-dif coefficient estimate for no of employee is  -0.009\n"
     ]
    }
   ],
   "source": [
    "print(\"Dif-in-dif coefficient estimate for no of employee is \",round(model1.params[3],3))"
   ]
  },
  {
   "cell_type": "code",
   "execution_count": 15,
   "metadata": {},
   "outputs": [],
   "source": [
    "model2 = smf.ols(formula = \"staf_ln ~ firm_affected*year_post\", data = data).fit()"
   ]
  },
  {
   "cell_type": "code",
   "execution_count": 16,
   "metadata": {},
   "outputs": [
    {
     "name": "stdout",
     "output_type": "stream",
     "text": [
      "Dif-in-dif coefficient estimate for staff expense is  0.031\n"
     ]
    }
   ],
   "source": [
    "print(\"Dif-in-dif coefficient estimate for staff expense is \",round(model2.params[3],3))"
   ]
  },
  {
   "cell_type": "markdown",
   "metadata": {},
   "source": [
    "  \n",
    "\n",
    "###  DiD  only include  fixed effects \n",
    "$$employment_{i,t} = \\beta_1 (post_t \\times affected_i) +u_i+v_t+ \\varepsilon_{i,t}$$\n",
    "\n",
    "where $u_i$ isw a firm fixed effect and $v_t$ is a time fixed effect.\n",
    "\n"
   ]
  },
  {
   "cell_type": "code",
   "execution_count": 17,
   "metadata": {
    "scrolled": true
   },
   "outputs": [
    {
     "data": {
      "text/html": [
       "<div>\n",
       "<style scoped>\n",
       "    .dataframe tbody tr th:only-of-type {\n",
       "        vertical-align: middle;\n",
       "    }\n",
       "\n",
       "    .dataframe tbody tr th {\n",
       "        vertical-align: top;\n",
       "    }\n",
       "\n",
       "    .dataframe thead th {\n",
       "        text-align: right;\n",
       "    }\n",
       "</style>\n",
       "<table border=\"1\" class=\"dataframe\">\n",
       "  <thead>\n",
       "    <tr style=\"text-align: right;\">\n",
       "      <th></th>\n",
       "      <th></th>\n",
       "      <th>plz_firm</th>\n",
       "      <th>ort_</th>\n",
       "      <th>regionalkey_</th>\n",
       "      <th>bundesland</th>\n",
       "      <th>BvDID_bank_1</th>\n",
       "      <th>postcode_bank_1</th>\n",
       "      <th>data2025_1</th>\n",
       "      <th>data2075_1</th>\n",
       "      <th>data11750_1</th>\n",
       "      <th>data30680_1</th>\n",
       "      <th>...</th>\n",
       "      <th>cf_ratio</th>\n",
       "      <th>gros_ratio</th>\n",
       "      <th>shfd_ratio</th>\n",
       "      <th>staf_ave</th>\n",
       "      <th>staf_ln</th>\n",
       "      <th>toas_lev</th>\n",
       "      <th>toas_ln</th>\n",
       "      <th>turn_lev</th>\n",
       "      <th>turn_ln</th>\n",
       "      <th>affected_after</th>\n",
       "    </tr>\n",
       "    <tr>\n",
       "      <th>BvDID_firm</th>\n",
       "      <th>year</th>\n",
       "      <th></th>\n",
       "      <th></th>\n",
       "      <th></th>\n",
       "      <th></th>\n",
       "      <th></th>\n",
       "      <th></th>\n",
       "      <th></th>\n",
       "      <th></th>\n",
       "      <th></th>\n",
       "      <th></th>\n",
       "      <th></th>\n",
       "      <th></th>\n",
       "      <th></th>\n",
       "      <th></th>\n",
       "      <th></th>\n",
       "      <th></th>\n",
       "      <th></th>\n",
       "      <th></th>\n",
       "      <th></th>\n",
       "      <th></th>\n",
       "      <th></th>\n",
       "    </tr>\n",
       "  </thead>\n",
       "  <tbody>\n",
       "    <tr>\n",
       "      <th rowspan=\"5\" valign=\"top\">DE2010041272</th>\n",
       "      <th>2006.0</th>\n",
       "      <td>13407</td>\n",
       "      <td>Berlin, Stadt</td>\n",
       "      <td>11</td>\n",
       "      <td>Berlin</td>\n",
       "      <td>DE13190</td>\n",
       "      <td>60311</td>\n",
       "      <td>265857.0</td>\n",
       "      <td>79992.0</td>\n",
       "      <td>253930.0</td>\n",
       "      <td>NaN</td>\n",
       "      <td>...</td>\n",
       "      <td>0.075024</td>\n",
       "      <td>NaN</td>\n",
       "      <td>0.042334</td>\n",
       "      <td>48871.675978</td>\n",
       "      <td>10.796953</td>\n",
       "      <td>81.248314</td>\n",
       "      <td>4.397510</td>\n",
       "      <td>128.884630</td>\n",
       "      <td>4.858918</td>\n",
       "      <td>0</td>\n",
       "    </tr>\n",
       "    <tr>\n",
       "      <th>2007.0</th>\n",
       "      <td>13407</td>\n",
       "      <td>Berlin, Stadt</td>\n",
       "      <td>11</td>\n",
       "      <td>Berlin</td>\n",
       "      <td>DE13190</td>\n",
       "      <td>60311</td>\n",
       "      <td>302841.0</td>\n",
       "      <td>103003.0</td>\n",
       "      <td>291005.0</td>\n",
       "      <td>6.90</td>\n",
       "      <td>...</td>\n",
       "      <td>0.091505</td>\n",
       "      <td>NaN</td>\n",
       "      <td>0.038756</td>\n",
       "      <td>49828.607527</td>\n",
       "      <td>10.816345</td>\n",
       "      <td>78.166190</td>\n",
       "      <td>4.358837</td>\n",
       "      <td>150.773620</td>\n",
       "      <td>5.015780</td>\n",
       "      <td>0</td>\n",
       "    </tr>\n",
       "    <tr>\n",
       "      <th>2008.0</th>\n",
       "      <td>13407</td>\n",
       "      <td>Berlin, Stadt</td>\n",
       "      <td>11</td>\n",
       "      <td>Berlin</td>\n",
       "      <td>DE13190</td>\n",
       "      <td>60311</td>\n",
       "      <td>359251.0</td>\n",
       "      <td>126692.0</td>\n",
       "      <td>340248.0</td>\n",
       "      <td>10.10</td>\n",
       "      <td>...</td>\n",
       "      <td>0.070409</td>\n",
       "      <td>NaN</td>\n",
       "      <td>0.031984</td>\n",
       "      <td>52628.015345</td>\n",
       "      <td>10.871004</td>\n",
       "      <td>84.965980</td>\n",
       "      <td>4.442251</td>\n",
       "      <td>199.344200</td>\n",
       "      <td>5.295033</td>\n",
       "      <td>0</td>\n",
       "    </tr>\n",
       "    <tr>\n",
       "      <th>2009.0</th>\n",
       "      <td>13407</td>\n",
       "      <td>Berlin, Stadt</td>\n",
       "      <td>11</td>\n",
       "      <td>Berlin</td>\n",
       "      <td>DE13190</td>\n",
       "      <td>60311</td>\n",
       "      <td>605765.0</td>\n",
       "      <td>177120.0</td>\n",
       "      <td>582393.0</td>\n",
       "      <td>10.50</td>\n",
       "      <td>...</td>\n",
       "      <td>0.061911</td>\n",
       "      <td>NaN</td>\n",
       "      <td>0.029387</td>\n",
       "      <td>44985.775956</td>\n",
       "      <td>10.714102</td>\n",
       "      <td>85.924355</td>\n",
       "      <td>4.453467</td>\n",
       "      <td>119.532216</td>\n",
       "      <td>4.783586</td>\n",
       "      <td>1</td>\n",
       "    </tr>\n",
       "    <tr>\n",
       "      <th>2010.0</th>\n",
       "      <td>13407</td>\n",
       "      <td>Berlin, Stadt</td>\n",
       "      <td>11</td>\n",
       "      <td>Berlin</td>\n",
       "      <td>DE13190</td>\n",
       "      <td>60311</td>\n",
       "      <td>623634.0</td>\n",
       "      <td>370294.0</td>\n",
       "      <td>599549.0</td>\n",
       "      <td>11.90</td>\n",
       "      <td>...</td>\n",
       "      <td>0.042470</td>\n",
       "      <td>NaN</td>\n",
       "      <td>0.027559</td>\n",
       "      <td>51404.482353</td>\n",
       "      <td>10.847481</td>\n",
       "      <td>89.440920</td>\n",
       "      <td>4.493578</td>\n",
       "      <td>146.464800</td>\n",
       "      <td>4.986785</td>\n",
       "      <td>1</td>\n",
       "    </tr>\n",
       "    <tr>\n",
       "      <th>...</th>\n",
       "      <th>...</th>\n",
       "      <td>...</td>\n",
       "      <td>...</td>\n",
       "      <td>...</td>\n",
       "      <td>...</td>\n",
       "      <td>...</td>\n",
       "      <td>...</td>\n",
       "      <td>...</td>\n",
       "      <td>...</td>\n",
       "      <td>...</td>\n",
       "      <td>...</td>\n",
       "      <td>...</td>\n",
       "      <td>...</td>\n",
       "      <td>...</td>\n",
       "      <td>...</td>\n",
       "      <td>...</td>\n",
       "      <td>...</td>\n",
       "      <td>...</td>\n",
       "      <td>...</td>\n",
       "      <td>...</td>\n",
       "      <td>...</td>\n",
       "      <td>...</td>\n",
       "    </tr>\n",
       "    <tr>\n",
       "      <th rowspan=\"2\" valign=\"top\">DE8350106575</th>\n",
       "      <th>2011.0</th>\n",
       "      <td>84056</td>\n",
       "      <td>Landshut</td>\n",
       "      <td>9274</td>\n",
       "      <td>Bayern</td>\n",
       "      <td>DE13732</td>\n",
       "      <td>84028</td>\n",
       "      <td>3274.0</td>\n",
       "      <td>548.0</td>\n",
       "      <td>2819.0</td>\n",
       "      <td>NaN</td>\n",
       "      <td>...</td>\n",
       "      <td>0.161112</td>\n",
       "      <td>NaN</td>\n",
       "      <td>0.202240</td>\n",
       "      <td>33063.769231</td>\n",
       "      <td>10.406193</td>\n",
       "      <td>1.546713</td>\n",
       "      <td>0.436132</td>\n",
       "      <td>2.317667</td>\n",
       "      <td>0.840561</td>\n",
       "      <td>1</td>\n",
       "    </tr>\n",
       "    <tr>\n",
       "      <th>2012.0</th>\n",
       "      <td>84056</td>\n",
       "      <td>Landshut</td>\n",
       "      <td>9274</td>\n",
       "      <td>Bayern</td>\n",
       "      <td>DE13732</td>\n",
       "      <td>84028</td>\n",
       "      <td>3268.0</td>\n",
       "      <td>564.0</td>\n",
       "      <td>2785.0</td>\n",
       "      <td>21.27</td>\n",
       "      <td>...</td>\n",
       "      <td>0.057209</td>\n",
       "      <td>NaN</td>\n",
       "      <td>0.216084</td>\n",
       "      <td>36853.846154</td>\n",
       "      <td>10.514715</td>\n",
       "      <td>1.542484</td>\n",
       "      <td>0.433394</td>\n",
       "      <td>2.320461</td>\n",
       "      <td>0.841766</td>\n",
       "      <td>1</td>\n",
       "    </tr>\n",
       "    <tr>\n",
       "      <th rowspan=\"3\" valign=\"top\">DE8350164094</th>\n",
       "      <th>2006.0</th>\n",
       "      <td>85356</td>\n",
       "      <td>Freising</td>\n",
       "      <td>9178</td>\n",
       "      <td>Bayern</td>\n",
       "      <td>DE42769</td>\n",
       "      <td>85354</td>\n",
       "      <td>1159.0</td>\n",
       "      <td>102.0</td>\n",
       "      <td>1088.0</td>\n",
       "      <td>NaN</td>\n",
       "      <td>...</td>\n",
       "      <td>0.230300</td>\n",
       "      <td>NaN</td>\n",
       "      <td>0.000000</td>\n",
       "      <td>17312.543860</td>\n",
       "      <td>9.759187</td>\n",
       "      <td>2.136564</td>\n",
       "      <td>0.759199</td>\n",
       "      <td>5.152020</td>\n",
       "      <td>1.639389</td>\n",
       "      <td>0</td>\n",
       "    </tr>\n",
       "    <tr>\n",
       "      <th>2007.0</th>\n",
       "      <td>85356</td>\n",
       "      <td>Freising</td>\n",
       "      <td>9178</td>\n",
       "      <td>Bayern</td>\n",
       "      <td>DE42769</td>\n",
       "      <td>85354</td>\n",
       "      <td>1190.0</td>\n",
       "      <td>144.0</td>\n",
       "      <td>1117.0</td>\n",
       "      <td>NaN</td>\n",
       "      <td>...</td>\n",
       "      <td>0.207050</td>\n",
       "      <td>NaN</td>\n",
       "      <td>0.076367</td>\n",
       "      <td>19426.391304</td>\n",
       "      <td>9.874388</td>\n",
       "      <td>2.013842</td>\n",
       "      <td>0.700044</td>\n",
       "      <td>6.110219</td>\n",
       "      <td>1.809963</td>\n",
       "      <td>0</td>\n",
       "    </tr>\n",
       "    <tr>\n",
       "      <th>2012.0</th>\n",
       "      <td>85356</td>\n",
       "      <td>Freising</td>\n",
       "      <td>9178</td>\n",
       "      <td>Bayern</td>\n",
       "      <td>DE42769</td>\n",
       "      <td>85354</td>\n",
       "      <td>1258.0</td>\n",
       "      <td>102.0</td>\n",
       "      <td>1154.0</td>\n",
       "      <td>11.94</td>\n",
       "      <td>...</td>\n",
       "      <td>NaN</td>\n",
       "      <td>NaN</td>\n",
       "      <td>0.364251</td>\n",
       "      <td>NaN</td>\n",
       "      <td>NaN</td>\n",
       "      <td>2.628000</td>\n",
       "      <td>0.966223</td>\n",
       "      <td>NaN</td>\n",
       "      <td>NaN</td>\n",
       "      <td>1</td>\n",
       "    </tr>\n",
       "  </tbody>\n",
       "</table>\n",
       "<p>7974 rows × 101 columns</p>\n",
       "</div>"
      ],
      "text/plain": [
       "                     plz_firm           ort_  regionalkey_ bundesland  \\\n",
       "BvDID_firm   year                                                       \n",
       "DE2010041272 2006.0     13407  Berlin, Stadt            11     Berlin   \n",
       "             2007.0     13407  Berlin, Stadt            11     Berlin   \n",
       "             2008.0     13407  Berlin, Stadt            11     Berlin   \n",
       "             2009.0     13407  Berlin, Stadt            11     Berlin   \n",
       "             2010.0     13407  Berlin, Stadt            11     Berlin   \n",
       "...                       ...            ...           ...        ...   \n",
       "DE8350106575 2011.0     84056       Landshut          9274     Bayern   \n",
       "             2012.0     84056       Landshut          9274     Bayern   \n",
       "DE8350164094 2006.0     85356       Freising          9178     Bayern   \n",
       "             2007.0     85356       Freising          9178     Bayern   \n",
       "             2012.0     85356       Freising          9178     Bayern   \n",
       "\n",
       "                    BvDID_bank_1  postcode_bank_1  data2025_1  data2075_1  \\\n",
       "BvDID_firm   year                                                           \n",
       "DE2010041272 2006.0      DE13190            60311    265857.0     79992.0   \n",
       "             2007.0      DE13190            60311    302841.0    103003.0   \n",
       "             2008.0      DE13190            60311    359251.0    126692.0   \n",
       "             2009.0      DE13190            60311    605765.0    177120.0   \n",
       "             2010.0      DE13190            60311    623634.0    370294.0   \n",
       "...                          ...              ...         ...         ...   \n",
       "DE8350106575 2011.0      DE13732            84028      3274.0       548.0   \n",
       "             2012.0      DE13732            84028      3268.0       564.0   \n",
       "DE8350164094 2006.0      DE42769            85354      1159.0       102.0   \n",
       "             2007.0      DE42769            85354      1190.0       144.0   \n",
       "             2012.0      DE42769            85354      1258.0       102.0   \n",
       "\n",
       "                     data11750_1  data30680_1  ...  cf_ratio  gros_ratio  \\\n",
       "BvDID_firm   year                              ...                         \n",
       "DE2010041272 2006.0     253930.0          NaN  ...  0.075024         NaN   \n",
       "             2007.0     291005.0         6.90  ...  0.091505         NaN   \n",
       "             2008.0     340248.0        10.10  ...  0.070409         NaN   \n",
       "             2009.0     582393.0        10.50  ...  0.061911         NaN   \n",
       "             2010.0     599549.0        11.90  ...  0.042470         NaN   \n",
       "...                          ...          ...  ...       ...         ...   \n",
       "DE8350106575 2011.0       2819.0          NaN  ...  0.161112         NaN   \n",
       "             2012.0       2785.0        21.27  ...  0.057209         NaN   \n",
       "DE8350164094 2006.0       1088.0          NaN  ...  0.230300         NaN   \n",
       "             2007.0       1117.0          NaN  ...  0.207050         NaN   \n",
       "             2012.0       1154.0        11.94  ...       NaN         NaN   \n",
       "\n",
       "                    shfd_ratio      staf_ave    staf_ln   toas_lev   toas_ln  \\\n",
       "BvDID_firm   year                                                              \n",
       "DE2010041272 2006.0   0.042334  48871.675978  10.796953  81.248314  4.397510   \n",
       "             2007.0   0.038756  49828.607527  10.816345  78.166190  4.358837   \n",
       "             2008.0   0.031984  52628.015345  10.871004  84.965980  4.442251   \n",
       "             2009.0   0.029387  44985.775956  10.714102  85.924355  4.453467   \n",
       "             2010.0   0.027559  51404.482353  10.847481  89.440920  4.493578   \n",
       "...                        ...           ...        ...        ...       ...   \n",
       "DE8350106575 2011.0   0.202240  33063.769231  10.406193   1.546713  0.436132   \n",
       "             2012.0   0.216084  36853.846154  10.514715   1.542484  0.433394   \n",
       "DE8350164094 2006.0   0.000000  17312.543860   9.759187   2.136564  0.759199   \n",
       "             2007.0   0.076367  19426.391304   9.874388   2.013842  0.700044   \n",
       "             2012.0   0.364251           NaN        NaN   2.628000  0.966223   \n",
       "\n",
       "                       turn_lev   turn_ln  affected_after  \n",
       "BvDID_firm   year                                          \n",
       "DE2010041272 2006.0  128.884630  4.858918               0  \n",
       "             2007.0  150.773620  5.015780               0  \n",
       "             2008.0  199.344200  5.295033               0  \n",
       "             2009.0  119.532216  4.783586               1  \n",
       "             2010.0  146.464800  4.986785               1  \n",
       "...                         ...       ...             ...  \n",
       "DE8350106575 2011.0    2.317667  0.840561               1  \n",
       "             2012.0    2.320461  0.841766               1  \n",
       "DE8350164094 2006.0    5.152020  1.639389               0  \n",
       "             2007.0    6.110219  1.809963               0  \n",
       "             2012.0         NaN       NaN               1  \n",
       "\n",
       "[7974 rows x 101 columns]"
      ]
     },
     "execution_count": 17,
     "metadata": {},
     "output_type": "execute_result"
    }
   ],
   "source": [
    "data[\"affected_after\"] = data.firm_affected*data.year_post\n",
    "df_fe = data.set_index(['BvDID_firm','year'])\n",
    "df_fe"
   ]
  },
  {
   "cell_type": "code",
   "execution_count": 18,
   "metadata": {},
   "outputs": [
    {
     "name": "stdout",
     "output_type": "stream",
     "text": [
      "                          PanelOLS Estimation Summary                           \n",
      "================================================================================\n",
      "Dep. Variable:                   empl   R-squared:                        0.0015\n",
      "Estimator:                   PanelOLS   R-squared (Between):             -0.0061\n",
      "No. Observations:                7974   R-squared (Within):              -0.0084\n",
      "Date:                Sun, Dec 26 2021   R-squared (Overall):             -0.0062\n",
      "Time:                        13:47:18   Log-likelihood                    615.59\n",
      "Cov. Estimator:             Clustered                                           \n",
      "                                        F-statistic:                      9.7661\n",
      "Entities:                        1267   P-value                           0.0018\n",
      "Avg Obs:                       6.2936   Distribution:                  F(1,6698)\n",
      "Min Obs:                       1.0000                                           \n",
      "Max Obs:                       9.0000   F-statistic (robust):             7.8907\n",
      "                                        P-value                           0.0050\n",
      "Time periods:                       9   Distribution:                  F(1,6698)\n",
      "Avg Obs:                       886.00                                           \n",
      "Min Obs:                       7.0000                                           \n",
      "Max Obs:                       1234.0                                           \n",
      "                                                                                \n",
      "                               Parameter Estimates                                \n",
      "==================================================================================\n",
      "                Parameter  Std. Err.     T-stat    P-value    Lower CI    Upper CI\n",
      "----------------------------------------------------------------------------------\n",
      "affected_after    -0.0384     0.0137    -2.8090     0.0050     -0.0652     -0.0116\n",
      "==================================================================================\n",
      "\n",
      "F-test for Poolability: 191.36\n",
      "P-value: 0.0000\n",
      "Distribution: F(1274,6698)\n",
      "\n",
      "Included effects: Entity, Time\n"
     ]
    }
   ],
   "source": [
    "#for empl\n",
    "mod = lm.PanelOLS.from_formula('empl ~ affected_after + EntityEffects +TimeEffects ',df_fe)\n",
    "clfe_empl = mod.fit(cov_type = 'clustered')\n",
    "# cluster_entity = True, cluster_time=True)\n",
    "print(clfe_empl)"
   ]
  },
  {
   "cell_type": "code",
   "execution_count": 19,
   "metadata": {
    "scrolled": false
   },
   "outputs": [
    {
     "name": "stdout",
     "output_type": "stream",
     "text": [
      "                          PanelOLS Estimation Summary                           \n",
      "================================================================================\n",
      "Dep. Variable:                staf_ln   R-squared:                        0.0007\n",
      "Estimator:                   PanelOLS   R-squared (Between):              0.0016\n",
      "No. Observations:                7195   R-squared (Within):               0.0103\n",
      "Date:                Sun, Dec 26 2021   R-squared (Overall):              0.0017\n",
      "Time:                        13:47:18   Log-likelihood                    1943.2\n",
      "Cov. Estimator:             Clustered                                           \n",
      "                                        F-statistic:                      4.4595\n",
      "Entities:                        1202   P-value                           0.0347\n",
      "Avg Obs:                       5.9859   Distribution:                  F(1,5984)\n",
      "Min Obs:                       1.0000                                           \n",
      "Max Obs:                       9.0000   F-statistic (robust):             3.9622\n",
      "                                        P-value                           0.0466\n",
      "Time periods:                       9   Distribution:                  F(1,5984)\n",
      "Avg Obs:                       799.44                                           \n",
      "Min Obs:                       6.0000                                           \n",
      "Max Obs:                       1124.0                                           \n",
      "                                                                                \n",
      "                               Parameter Estimates                                \n",
      "==================================================================================\n",
      "                Parameter  Std. Err.     T-stat    P-value    Lower CI    Upper CI\n",
      "----------------------------------------------------------------------------------\n",
      "affected_after     0.0232     0.0117     1.9905     0.0466      0.0004      0.0460\n",
      "==================================================================================\n",
      "\n",
      "F-test for Poolability: 22.435\n",
      "P-value: 0.0000\n",
      "Distribution: F(1209,5984)\n",
      "\n",
      "Included effects: Entity, Time\n"
     ]
    }
   ],
   "source": [
    "#for staff expense\n",
    "mod = lm.PanelOLS.from_formula('staf_ln ~ affected_after + EntityEffects +TimeEffects ',df_fe)\n",
    "clfe_staf = mod.fit(cov_type = 'clustered')\n",
    "# cluster_entity = True, cluster_time=True)\n",
    "print(clfe_staf)"
   ]
  },
  {
   "cell_type": "markdown",
   "metadata": {},
   "source": [
    "<a class=\"anchor\" id=\"9. Regression-adjusted models\"></a>\n",
    "\n",
    "---\n",
    "#  replication of table 3\n",
    "\n",
    "---"
   ]
  },
  {
   "cell_type": "markdown",
   "metadata": {},
   "source": [
    "### Adding controls---Table 3 column 1    empl\n",
    "\n",
    "The regression formulation of DiD also allows to include additional control variables.  \n",
    "In a DiD you can control for other covariates that may differ between the groups, and the main reason for doing this is to have a more robust identification and decreasing the variance of the regression coefficient estimates.  \n",
    "\n",
    "The DiD linear regression model becomes:\n",
    "\n",
    "$$employment_{i,t} = \\beta_1 (Post_t \\times affected_i) + \\beta_2 X_{it} + \\beta_3 firm_i +\\beta_4 time_i + \\varepsilon_{i,t}$$\n",
    " "
   ]
  },
  {
   "cell_type": "code",
   "execution_count": 20,
   "metadata": {},
   "outputs": [
    {
     "data": {
      "text/plain": [
       "shfd_ratio    False\n",
       "gros_ratio     True\n",
       "cf_ratio       True\n",
       "dtype: bool"
      ]
     },
     "execution_count": 20,
     "metadata": {},
     "output_type": "execute_result"
    }
   ],
   "source": [
    "# data=data.dropna(axis=0)\n",
    "name=[\"shfd_ratio\", \"gros_ratio\", \"cf_ratio\"]\n",
    "np.any(~np.isfinite(data[name]),axis=0)"
   ]
  },
  {
   "cell_type": "code",
   "execution_count": 21,
   "metadata": {},
   "outputs": [
    {
     "data": {
      "text/html": [
       "<table class=\"simpletable\">\n",
       "<tr>\n",
       "             <td></td>                <th>coef</th>     <th>std err</th>      <th>t</th>      <th>P>|t|</th>  <th>[0.025</th>    <th>0.975]</th>  \n",
       "</tr>\n",
       "<tr>\n",
       "  <th>Intercept</th>               <td>   -6.7495</td> <td>    0.153</td> <td>  -44.144</td> <td> 0.000</td> <td>   -7.049</td> <td>   -6.450</td>\n",
       "</tr>\n",
       "<tr>\n",
       "  <th>firm_affected</th>           <td>    0.0822</td> <td>    0.042</td> <td>    1.951</td> <td> 0.051</td> <td>   -0.000</td> <td>    0.165</td>\n",
       "</tr>\n",
       "<tr>\n",
       "  <th>year_post</th>               <td>   -0.0008</td> <td>    0.048</td> <td>   -0.017</td> <td> 0.986</td> <td>   -0.094</td> <td>    0.093</td>\n",
       "</tr>\n",
       "<tr>\n",
       "  <th>firm_affected:year_post</th> <td>   -0.0550</td> <td>    0.056</td> <td>   -0.974</td> <td> 0.330</td> <td>   -0.166</td> <td>    0.056</td>\n",
       "</tr>\n",
       "<tr>\n",
       "  <th>toas</th>                    <td>   -0.0143</td> <td>    0.012</td> <td>   -1.229</td> <td> 0.219</td> <td>   -0.037</td> <td>    0.008</td>\n",
       "</tr>\n",
       "<tr>\n",
       "  <th>turn</th>                    <td>    0.6694</td> <td>    0.012</td> <td>   55.529</td> <td> 0.000</td> <td>    0.646</td> <td>    0.693</td>\n",
       "</tr>\n",
       "<tr>\n",
       "  <th>shfd_ratio</th>              <td>    0.8089</td> <td>    0.057</td> <td>   14.086</td> <td> 0.000</td> <td>    0.696</td> <td>    0.921</td>\n",
       "</tr>\n",
       "</table>"
      ],
      "text/plain": [
       "<class 'statsmodels.iolib.table.SimpleTable'>"
      ]
     },
     "execution_count": 21,
     "metadata": {},
     "output_type": "execute_result"
    }
   ],
   "source": [
    "model_empl = smf.ols(formula = \"empl ~ firm_affected*year_post + firm_affected + year_post + toas + turn + shfd_ratio \", data = data).fit()\n",
    "model_empl.summary().tables[1]"
   ]
  },
  {
   "cell_type": "markdown",
   "metadata": {},
   "source": [
    "### Adding controls and fixed effect---Table 3 column 2   empl\n",
    "\n"
   ]
  },
  {
   "cell_type": "code",
   "execution_count": 22,
   "metadata": {
    "scrolled": true
   },
   "outputs": [
    {
     "name": "stdout",
     "output_type": "stream",
     "text": [
      "                          PanelOLS Estimation Summary                           \n",
      "================================================================================\n",
      "Dep. Variable:                   empl   R-squared:                        0.0971\n",
      "Estimator:                   PanelOLS   R-squared (Between):              0.8938\n",
      "No. Observations:                5823   R-squared (Within):               0.0974\n",
      "Date:                Sun, Dec 26 2021   R-squared (Overall):              0.9076\n",
      "Time:                        13:47:19   Log-likelihood                    1222.2\n",
      "Cov. Estimator:             Clustered                                           \n",
      "                                        F-statistic:                      126.03\n",
      "Entities:                        1121   P-value                           0.0000\n",
      "Avg Obs:                       5.1945   Distribution:                  F(4,4690)\n",
      "Min Obs:                       1.0000                                           \n",
      "Max Obs:                       9.0000   F-statistic (robust):             9.2919\n",
      "                                        P-value                           0.0000\n",
      "Time periods:                       9   Distribution:                  F(4,4690)\n",
      "Avg Obs:                       647.00                                           \n",
      "Min Obs:                       6.0000                                           \n",
      "Max Obs:                       934.00                                           \n",
      "                                                                                \n",
      "                               Parameter Estimates                                \n",
      "==================================================================================\n",
      "                Parameter  Std. Err.     T-stat    P-value    Lower CI    Upper CI\n",
      "----------------------------------------------------------------------------------\n",
      "affected_after    -0.0482     0.0153    -3.1454     0.0017     -0.0783     -0.0182\n",
      "shfd_ratio         0.0040     0.0643     0.0626     0.9501     -0.1220      0.1301\n",
      "toas               0.1442     0.0678     2.1263     0.0335      0.0112      0.2773\n",
      "turn               0.1885     0.0414     4.5586     0.0000      0.1075      0.2696\n",
      "==================================================================================\n",
      "\n",
      "F-test for Poolability: 98.106\n",
      "P-value: 0.0000\n",
      "Distribution: F(1128,4690)\n",
      "\n",
      "Included effects: Entity, Time\n"
     ]
    }
   ],
   "source": [
    "mod = lm.PanelOLS.from_formula('empl ~ affected_after + EntityEffects +TimeEffects + toas +turn +shfd_ratio',df_fe)\n",
    "didfe_empl = mod.fit(cov_type = 'clustered')\n",
    "# cluster_entity = True, cluster_time=True)\n",
    "print(didfe_empl)"
   ]
  },
  {
   "cell_type": "markdown",
   "metadata": {},
   "source": [
    "### Adding controls---Table 3 column 3    staff\n",
    "\n"
   ]
  },
  {
   "cell_type": "code",
   "execution_count": 23,
   "metadata": {},
   "outputs": [
    {
     "data": {
      "text/html": [
       "<table class=\"simpletable\">\n",
       "<tr>\n",
       "             <td></td>                <th>coef</th>     <th>std err</th>      <th>t</th>      <th>P>|t|</th>  <th>[0.025</th>    <th>0.975]</th>  \n",
       "</tr>\n",
       "<tr>\n",
       "  <th>Intercept</th>               <td>    8.8576</td> <td>    0.676</td> <td>   13.112</td> <td> 0.000</td> <td>    7.503</td> <td>   10.212</td>\n",
       "</tr>\n",
       "<tr>\n",
       "  <th>firm_affected</th>           <td>    0.3560</td> <td>    0.130</td> <td>    2.734</td> <td> 0.008</td> <td>    0.095</td> <td>    0.617</td>\n",
       "</tr>\n",
       "<tr>\n",
       "  <th>year_post</th>               <td>    0.2788</td> <td>    0.142</td> <td>    1.966</td> <td> 0.054</td> <td>   -0.005</td> <td>    0.563</td>\n",
       "</tr>\n",
       "<tr>\n",
       "  <th>firm_affected:year_post</th> <td>   -0.2133</td> <td>    0.149</td> <td>   -1.428</td> <td> 0.159</td> <td>   -0.513</td> <td>    0.086</td>\n",
       "</tr>\n",
       "<tr>\n",
       "  <th>toas</th>                    <td>    0.2541</td> <td>    0.095</td> <td>    2.665</td> <td> 0.010</td> <td>    0.063</td> <td>    0.445</td>\n",
       "</tr>\n",
       "<tr>\n",
       "  <th>turn</th>                    <td>   -0.1571</td> <td>    0.118</td> <td>   -1.336</td> <td> 0.187</td> <td>   -0.393</td> <td>    0.079</td>\n",
       "</tr>\n",
       "<tr>\n",
       "  <th>shfd_ratio</th>              <td>    0.0616</td> <td>    0.235</td> <td>    0.262</td> <td> 0.795</td> <td>   -0.410</td> <td>    0.533</td>\n",
       "</tr>\n",
       "<tr>\n",
       "  <th>gros_ratio</th>              <td>   -0.1198</td> <td>    0.166</td> <td>   -0.721</td> <td> 0.474</td> <td>   -0.453</td> <td>    0.213</td>\n",
       "</tr>\n",
       "<tr>\n",
       "  <th>cf_ratio</th>                <td>    0.0356</td> <td>    0.320</td> <td>    0.111</td> <td> 0.912</td> <td>   -0.606</td> <td>    0.677</td>\n",
       "</tr>\n",
       "</table>"
      ],
      "text/plain": [
       "<class 'statsmodels.iolib.table.SimpleTable'>"
      ]
     },
     "execution_count": 23,
     "metadata": {},
     "output_type": "execute_result"
    }
   ],
   "source": [
    "model_staf = smf.ols(formula = \"staf_ln ~ firm_affected*year_post + firm_affected + year_post + toas +turn + shfd_ratio+ gros_ratio+ cf_ratio\", data = data).fit()\n",
    "model_staf.summary().tables[1]"
   ]
  },
  {
   "cell_type": "markdown",
   "metadata": {},
   "source": [
    "### Adding controls---Table 3 column 4    staff\n",
    "\n"
   ]
  },
  {
   "cell_type": "code",
   "execution_count": 24,
   "metadata": {
    "scrolled": false
   },
   "outputs": [
    {
     "name": "stdout",
     "output_type": "stream",
     "text": [
      "                          PanelOLS Estimation Summary                           \n",
      "================================================================================\n",
      "Dep. Variable:                staf_ln   R-squared:                        0.0568\n",
      "Estimator:                   PanelOLS   R-squared (Between):              0.6421\n",
      "No. Observations:                5777   R-squared (Within):               0.0809\n",
      "Date:                Sun, Dec 26 2021   R-squared (Overall):              0.6480\n",
      "Time:                        13:47:19   Log-likelihood                    1548.6\n",
      "Cov. Estimator:             Clustered                                           \n",
      "                                        F-statistic:                      70.117\n",
      "Entities:                        1104   P-value                           0.0000\n",
      "Avg Obs:                       5.2328   Distribution:                  F(4,4661)\n",
      "Min Obs:                       1.0000                                           \n",
      "Max Obs:                       9.0000   F-statistic (robust):             2.3878\n",
      "                                        P-value                           0.0489\n",
      "Time periods:                       9   Distribution:                  F(4,4661)\n",
      "Avg Obs:                       641.89                                           \n",
      "Min Obs:                       6.0000                                           \n",
      "Max Obs:                       932.00                                           \n",
      "                                                                                \n",
      "                               Parameter Estimates                                \n",
      "==================================================================================\n",
      "                Parameter  Std. Err.     T-stat    P-value    Lower CI    Upper CI\n",
      "----------------------------------------------------------------------------------\n",
      "affected_after     0.0289     0.0139     2.0735     0.0382      0.0016      0.0562\n",
      "shfd_ratio         0.0650     0.0688     0.9447     0.3448     -0.0698      0.1998\n",
      "toas               0.1838     0.0980     1.8760     0.0607     -0.0083      0.3760\n",
      "turn               0.0724     0.0358     2.0228     0.0432      0.0022      0.1426\n",
      "==================================================================================\n",
      "\n",
      "F-test for Poolability: 16.635\n",
      "P-value: 0.0000\n",
      "Distribution: F(1111,4661)\n",
      "\n",
      "Included effects: Entity, Time\n"
     ]
    }
   ],
   "source": [
    "mod = lm.PanelOLS.from_formula('staf_ln ~ affected_after + EntityEffects +TimeEffects + toas +turn + shfd_ratio',df_fe)\n",
    "didfe_staf = mod.fit(cov_type = 'clustered')\n",
    "# cluster_entity = True, cluster_time=True)\n",
    "print(didfe_staf)"
   ]
  },
  {
   "cell_type": "markdown",
   "metadata": {},
   "source": [
    "## compare col 2 and  4 "
   ]
  },
  {
   "cell_type": "code",
   "execution_count": 25,
   "metadata": {
    "scrolled": true
   },
   "outputs": [
    {
     "name": "stdout",
     "output_type": "stream",
     "text": [
      "                      Model Comparison                     \n",
      "===========================================================\n",
      "                        (1)Log_employee (2)Log_average_wage\n",
      "-----------------------------------------------------------\n",
      "Dep. Variable                      empl             staf_ln\n",
      "Estimator                      PanelOLS            PanelOLS\n",
      "No. Observations                   5823                5777\n",
      "Cov. Est.                     Clustered           Clustered\n",
      "R-squared                        0.0971              0.0568\n",
      "R-Squared (Within)               0.0974              0.0809\n",
      "R-Squared (Between)              0.8938              0.6421\n",
      "R-Squared (Overall)              0.9076              0.6480\n",
      "F-statistic                      126.03              70.117\n",
      "P-value (F-stat)                 0.0000              0.0000\n",
      "=====================      ============         ===========\n",
      "affected_after               -0.0482***            0.0289**\n",
      "                               (0.0153)            (0.0139)\n",
      "shfd_ratio                       0.0040              0.0650\n",
      "                               (0.0643)            (0.0688)\n",
      "toas                           0.1442**             0.1838*\n",
      "                               (0.0678)            (0.0980)\n",
      "turn                          0.1885***            0.0724**\n",
      "                               (0.0414)            (0.0358)\n",
      "=======================  ==============       =============\n",
      "Effects                          Entity              Entity\n",
      "                                   Time                Time\n",
      "-----------------------------------------------------------\n",
      "\n",
      "Std. Errors reported in parentheses\n"
     ]
    }
   ],
   "source": [
    "print(compare({\"(1)Log_employee\": didfe_empl, \"(2)Log_average_wage\": didfe_staf}, stars = True, precision = \"std_errors\"))"
   ]
  },
  {
   "cell_type": "markdown",
   "metadata": {},
   "source": [
    "## compare col 1 2 3 and 4  Mengxi's"
   ]
  },
  {
   "cell_type": "code",
   "execution_count": 26,
   "metadata": {
    "scrolled": false
   },
   "outputs": [
    {
     "name": "stdout",
     "output_type": "stream",
     "text": [
      "                                        Model Comparison                                        \n",
      "================================================================================================\n",
      "                         (1)Log_employee (2)Log_employee (3)Log_average_wage (4)Log_average_wage\n",
      "------------------------------------------------------------------------------------------------\n",
      "Dep. Variable                       empl            empl             staf_ln             staf_ln\n",
      "Estimator                       PanelOLS        PanelOLS            PanelOLS            PanelOLS\n",
      "No. Observations                    5623            5623                5616                5616\n",
      "Cov. Est.                      Clustered       Clustered           Clustered           Clustered\n",
      "R-squared                         0.5302          0.1342              0.1359              0.0239\n",
      "R-Squared (Within)               -0.1561          0.1373              0.0435              0.0524\n",
      "R-Squared (Between)               0.5582          0.4224              0.1637              0.1112\n",
      "R-Squared (Overall)               0.5302          0.4045              0.1359              0.0758\n",
      "F-statistic                       792.10          139.90              110.25              22.104\n",
      "P-value (F-stat)                  0.0000          0.0000              0.0000              0.0000\n",
      "======================      ============    ============        ============         ===========\n",
      "const                          1.9536***       3.1417***           10.327***           10.086***\n",
      "                                (0.0509)        (0.1538)            (0.0238)            (0.2998)\n",
      "affected_after                   -0.0595      -0.0387***             0.0430*           0.0361***\n",
      "                                (0.0571)        (0.0149)            (0.0234)            (0.0137)\n",
      "firm_affected                  -0.1814**                             -0.0015                    \n",
      "                                (0.0736)                            (0.0291)                    \n",
      "year_post                         0.0026                              0.0129                    \n",
      "                                (0.0484)                            (0.0194)                    \n",
      "toas_ln                       -0.0574***       0.1660***           0.0990***              0.1389\n",
      "                                (0.0149)        (0.0446)            (0.0059)            (0.1039)\n",
      "turn_ln                        0.8025***       0.3037***              0.0071              0.0419\n",
      "                                (0.0171)        (0.0448)            (0.0071)            (0.0409)\n",
      "shfd_ratio                     0.8661***        0.1029**           0.1308***              0.0775\n",
      "                                (0.0586)        (0.0479)            (0.0253)            (0.0548)\n",
      "cf_ratio                      -0.6430***        -0.0858*          -0.1082***            0.0913**\n",
      "                                (0.0899)        (0.0512)            (0.0208)            (0.0431)\n",
      "firm_affected_degree           0.2692***                             -0.0222                    \n",
      "                                (0.0567)                            (0.0215)                    \n",
      "========================  ==============  ==============      ==============       =============\n",
      "Effects                                           Entity                                  Entity\n",
      "                                                    Time                                    Time\n",
      "------------------------------------------------------------------------------------------------\n",
      "\n",
      "Std. Errors reported in parentheses\n"
     ]
    }
   ],
   "source": [
    "\n",
    "exog_vars = ['affected_after','firm_affected','year_post','toas_ln','turn_ln','shfd_ratio','cf_ratio','firm_affected_degree']\n",
    "exog = sm.add_constant(df_fe[exog_vars])\n",
    "mod = PanelOLS(df_fe.empl,exog,entity_effects=False)\n",
    "res_fe_1 = mod.fit(cov_type = 'clustered')\n",
    "\n",
    "exog_vars = ['affected_after','toas_ln','turn_ln','shfd_ratio','cf_ratio']\n",
    "exog = sm.add_constant(df_fe[exog_vars])\n",
    "mod = PanelOLS(df_fe.empl,exog,entity_effects=True,time_effects=True)\n",
    "res_fe_2 = mod.fit(cov_type = 'clustered',cluster_entity=False)\n",
    "\n",
    "exog_vars = ['affected_after','firm_affected','year_post','toas_ln','turn_ln','shfd_ratio','cf_ratio','firm_affected_degree']\n",
    "exog = sm.add_constant(df_fe[exog_vars])\n",
    "mod = PanelOLS(df_fe.staf_ln,exog,entity_effects=False)\n",
    "res_fe_3 = mod.fit(cov_type = 'clustered')\n",
    "\n",
    "exog_vars = ['affected_after','toas_ln','turn_ln','shfd_ratio','cf_ratio']\n",
    "exog = sm.add_constant(df_fe[exog_vars])\n",
    "mod = PanelOLS(df_fe.staf_ln,exog,entity_effects=True,time_effects=True)\n",
    "res_fe_4 = mod.fit(cov_type = 'clustered',cluster_entity=False)\n",
    "\n",
    "\n",
    "\n",
    "print(compare({\"(1)Log_employee\": res_fe_1, \"(2)Log_employee\": res_fe_2, \"(3)Log_average_wage\": res_fe_3, \"(4)Log_average_wage\": res_fe_4}, stars = True, precision = \"std_errors\"))"
   ]
  },
  {
   "cell_type": "code",
   "execution_count": null,
   "metadata": {},
   "outputs": [],
   "source": []
  },
  {
   "cell_type": "code",
   "execution_count": null,
   "metadata": {},
   "outputs": [],
   "source": []
  },
  {
   "cell_type": "code",
   "execution_count": null,
   "metadata": {},
   "outputs": [],
   "source": []
  },
  {
   "cell_type": "code",
   "execution_count": null,
   "metadata": {},
   "outputs": [],
   "source": []
  },
  {
   "cell_type": "markdown",
   "metadata": {},
   "source": [
    "## Heteroskedastic-Corrected and clustered standard errors \n",
    "\n",
    "\n"
   ]
  },
  {
   "cell_type": "code",
   "execution_count": 27,
   "metadata": {},
   "outputs": [
    {
     "name": "stdout",
     "output_type": "stream",
     "text": [
      "Dif-in-dif coefficient for empl with standard errors clustered by sizecat: coeff is 0.098 and std.err. is 0.052 --> pvalue 0.157\n"
     ]
    }
   ],
   "source": [
    "# empl \n",
    "cluster_mod = smf.ols(formula='empl ~ affected_after', data=df_fe).fit(cov_type='nonrobust') \n",
    "fe_groups = df_fe.copy()\n",
    "for i in ['empl', 'firm_affected',\"year_post\"]:\n",
    "    fe_groups = fe_groups[pd.notnull(fe_groups[i])]# drop any entries with missing data from the model\n",
    "result=cluster_mod.get_robustcov_results(cov_type='cluster',groups=fe_groups['sizecat'])#adjust SEs\n",
    "result.params\n",
    "print(f'Dif-in-dif coefficient for empl with standard errors clustered by sizecat: coeff is {result.params[1]:.3f} and std.err. is {result.bse[1]:.3f} --> pvalue {result.pvalues[1]:.3f}')"
   ]
  },
  {
   "cell_type": "code",
   "execution_count": 28,
   "metadata": {},
   "outputs": [
    {
     "name": "stdout",
     "output_type": "stream",
     "text": [
      "Dif-in-dif coefficient for staf with standard errors clustered by sizecat: coeff is 0.142 and std.err. is 0.054 --> pvalue 0.078\n"
     ]
    }
   ],
   "source": [
    "# staf\n",
    "cluster_mod = smf.ols(formula='staf ~ affected_after', data=df_fe).fit(cov_type='nonrobust') \n",
    "fe_groups = df_fe.copy()\n",
    "for i in ['staf', 'firm_affected',\"year_post\"]:\n",
    "    fe_groups = fe_groups[pd.notnull(fe_groups[i])]# drop any entries with missing data from the model\n",
    "result=cluster_mod.get_robustcov_results(cov_type='cluster',groups=fe_groups['sizecat'])#adjust SEs\n",
    "result.params\n",
    "print(f'Dif-in-dif coefficient for staf with standard errors clustered by sizecat: coeff is {result.params[1]:.3f} and std.err. is {result.bse[1]:.3f} --> pvalue {result.pvalues[1]:.3f}')"
   ]
  },
  {
   "cell_type": "code",
   "execution_count": null,
   "metadata": {},
   "outputs": [],
   "source": []
  },
  {
   "cell_type": "code",
   "execution_count": null,
   "metadata": {},
   "outputs": [],
   "source": []
  }
 ],
 "metadata": {
  "kernelspec": {
   "display_name": "Python 3",
   "language": "python",
   "name": "python3"
  },
  "language_info": {
   "codemirror_mode": {
    "name": "ipython",
    "version": 3
   },
   "file_extension": ".py",
   "mimetype": "text/x-python",
   "name": "python",
   "nbconvert_exporter": "python",
   "pygments_lexer": "ipython3",
   "version": "3.8.5"
  },
  "toc": {
   "base_numbering": 1,
   "nav_menu": {},
   "number_sections": false,
   "sideBar": true,
   "skip_h1_title": false,
   "title_cell": "Table of Contents",
   "title_sidebar": "Contents",
   "toc_cell": true,
   "toc_position": {
    "height": "622.641px",
    "left": "691px",
    "top": "110px",
    "width": "277.4px"
   },
   "toc_section_display": true,
   "toc_window_display": true
  },
  "varInspector": {
   "cols": {
    "lenName": 16,
    "lenType": 16,
    "lenVar": 40
   },
   "kernels_config": {
    "python": {
     "delete_cmd_postfix": "",
     "delete_cmd_prefix": "del ",
     "library": "var_list.py",
     "varRefreshCmd": "print(var_dic_list())"
    },
    "r": {
     "delete_cmd_postfix": ") ",
     "delete_cmd_prefix": "rm(",
     "library": "var_list.r",
     "varRefreshCmd": "cat(var_dic_list()) "
    }
   },
   "oldHeight": 189.73845400000002,
   "position": {
    "height": "478.719px",
    "left": "987.578px",
    "right": "20px",
    "top": "283.984px",
    "width": "717.172px"
   },
   "types_to_exclude": [
    "module",
    "function",
    "builtin_function_or_method",
    "instance",
    "_Feature"
   ],
   "varInspector_section_display": "block",
   "window_display": false
  }
 },
 "nbformat": 4,
 "nbformat_minor": 2
}
