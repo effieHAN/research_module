{
 "cells": [
  {
   "cell_type": "code",
   "execution_count": 1,
   "metadata": {},
   "outputs": [],
   "source": [
    "import pandas as pd \n",
    "import numpy as np"
   ]
  },
  {
   "cell_type": "code",
   "execution_count": 2,
   "metadata": {},
   "outputs": [],
   "source": [
    "# data=pd.read_stata(\"/Users/mengxi/Desktop/financial research/firmbank_original.dta\")\n",
    "data=pd.read_stata(\"/Users/effie/Desktop/term3/research_module/data/firmbank_topic3.dta\")"
   ]
  },
  {
   "cell_type": "code",
   "execution_count": null,
   "metadata": {},
   "outputs": [],
   "source": [
    "data"
   ]
  },
  {
   "cell_type": "code",
   "execution_count": null,
   "metadata": {},
   "outputs": [],
   "source": [
    "data = data.query('bank_type==\"Savings banks\"')\n",
    "data = data.query('2004<year<2013')\n",
    "data=data.reset_index().drop(['index'], axis=1)\n",
    "data.index=data.index+1"
   ]
  },
  {
   "cell_type": "code",
   "execution_count": null,
   "metadata": {},
   "outputs": [],
   "source": [
    "query_data = data.query('empl<20')\n",
    "data.loc[:,'small'] = data.index.map(lambda x : 1 if x in query_data.index else 0)\n",
    "\n",
    "query_data = data.query('year>2008')\n",
    "data.loc[:,'year_post'] = data.index.map(lambda x : 1 if x in query_data.index else 0)"
   ]
  },
  {
   "cell_type": "code",
   "execution_count": null,
   "metadata": {},
   "outputs": [],
   "source": [
    "data.loc[:,'ln_empl'] = np.log(data.empl)\n",
    "data.loc[:,'ln_toas'] = np.log(data.toas)\n",
    "data.loc[:,'ln_loan'] = np.log(data.loan+1)\n",
    "data.eval('capital = shfd / toas', inplace=True)\n",
    "data.eval('profit = gros / toas', inplace=True)\n",
    "data.eval('cash_ = cash / toas', inplace=True)"
   ]
  },
  {
   "cell_type": "code",
   "execution_count": null,
   "metadata": {},
   "outputs": [],
   "source": [
    "data"
   ]
  },
  {
   "cell_type": "code",
   "execution_count": null,
   "metadata": {},
   "outputs": [],
   "source": [
    "# 有46条数据，虽然是德国公司，但是saving banks在奥地利。下面代码可以删掉这部分数据。\n",
    "\n",
    "#data['country_bank']=[x[:2] for x in data['BvDID_bank']]\n",
    "#data = data.query('country_bank==\"DE\"')\n",
    "#data=data.reset_index().drop(['index'], axis=1)\n",
    "#data.index=data.index+1\n",
    "\n",
    "\n",
    "data['postcode_bank']=np.where(data['postcode_bank'].str.len()<5, \"0\"+data['postcode_bank'], data['postcode_bank'])\n",
    "data\n",
    "\n",
    "\n",
    "#data['postcode_bank'].value_counts()"
   ]
  },
  {
   "cell_type": "code",
   "execution_count": null,
   "metadata": {},
   "outputs": [],
   "source": [
    "data['postcode_bank'].value_counts()"
   ]
  },
  {
   "cell_type": "code",
   "execution_count": null,
   "metadata": {},
   "outputs": [],
   "source": [
    "#data = data.query('postcode_bank==\"1587\"')\n",
    "#data"
   ]
  },
  {
   "cell_type": "code",
   "execution_count": null,
   "metadata": {},
   "outputs": [],
   "source": [
    "data['post_affected_1']=[x[:1] for x in data['postcode_bank']]\n",
    "data['post_affected_2']=[x[:2] for x in data['postcode_bank']]\n",
    "\n",
    "\n",
    "# affected states: Sachsen, Nordrhein-Westfalen, Baden-Württemberg, Bayern, Hamburg, Schleswig-Holstein\n",
    "# postcode of affected banks \n",
    "# 01 02 04 08 09\n",
    "# 32 33 40 41 42 44 45 46 47 48151 48249 48282 48431 48599 48703 48653 49477 49525 50 51 52 53879 53937 53604 53111 57072 57462 57413 57439 57319 57392 57258 57271 58 59 \n",
    "# 68 69 70 71 72 73 74 75 76646 76133 76530 76437 76275 77 78 79 88 89 97\n",
    "# 63739 63897 8(80 81 82 83 84 85 86 87 88 89) 90 91 92 93 94 95 96 97 \n",
    "# 20 21073 22 23701 23909 23552 24 25\n",
    "# 34x 37x 43x\n",
    "\n",
    "query_df_1 = data.query('postcode_bank==\"48151\"|postcode_bank==\"48249\"|postcode_bank==\"48282\"|postcode_bank==\"48431\"|postcode_bank==\"48599\"|postcode_bank==\"48703\"|postcode_bank==\"48653\"|postcode_bank==\"49477\"|postcode_bank==\"49525\"|postcode_bank==\"53879\"|postcode_bank==\"53937\"|postcode_bank==\"53604\"|postcode_bank==\"53111\"|postcode_bank==\"57072\"|postcode_bank==\"57462\"|postcode_bank==\"57413\"|postcode_bank==\"57439\"|postcode_bank==\"57319\"|postcode_bank==\"57392\"|postcode_bank==\"57258\"|postcode_bank==\"57271\"')          \n",
    "data.loc[:,'bank_affected_1'] = data.index.map(lambda x : 1 if x in query_df_1.index else 0)\n",
    "\n",
    "query_df_2 = data.query('post_affected_2==\"01\"|post_affected_2==\"02\"|post_affected_2==\"04\"|post_affected_2==\"08\"|post_affected_2==\"09\"|post_affected_2==\"32\"|post_affected_2==\"33\"|post_affected_2==\"40\"|post_affected_2==\"41\"|post_affected_2==\"42\"|post_affected_2==\"44\"|post_affected_2==\"45\"|post_affected_2==\"46\"|post_affected_2==\"47\"|post_affected_2==\"50\"|post_affected_2==\"51\"|post_affected_2==\"52\"|post_affected_2==\"58\"|post_affected_2==\"59\"|post_affected_2==\"68\"|post_affected_2==\"69\"|post_affected_2==\"70\"|post_affected_2==\"71\"|post_affected_2==\"72\"|post_affected_2==\"73\"|post_affected_2==\"74\"|post_affected_2==\"75\"|post_affected_2==\"77\"|post_affected_2==\"78\"|post_affected_2==\"79\"')                \n",
    "data.loc[:,'bank_affected_2'] = data.index.map(lambda x : 1 if x in query_df_2.index else 0)\n",
    "\n",
    "query_df_3 = data.query('post_affected_1==\"8\"|post_affected_2==\"90\"|post_affected_2==\"91\"|post_affected_2==\"92\"|post_affected_2==\"93\"|post_affected_2==\"94\"|post_affected_2==\"95\"|post_affected_2==\"96\"|post_affected_2==\"97\"|post_affected_2==\"20\"|post_affected_2==\"22\"|post_affected_2==\"24\"|post_affected_2==\"25\"|postcode_bank==\"76646\"|postcode_bank==\"76133\"|postcode_bank==\"76530\"|postcode_bank==\"76437\"|postcode_bank==\"76275\"|postcode_bank==\"63739\"|postcode_bank==\"63897\"|postcode_bank==\"21073\"|postcode_bank==\"23701\"|postcode_bank==\"23909\"|postcode_bank==\"23552\"')\n",
    "data.loc[:,'bank_affected_3'] = data.index.map(lambda x : 1 if x in query_df_3.index else 0)\n",
    "\n",
    "\n",
    "query_df = data.query('bank_affected_1==1|bank_affected_2==1|bank_affected_3==1')\n",
    "data.loc[:,'bank_affected'] = data.index.map(lambda x : 1 if x in query_df.index else 0)\n",
    "\n",
    "data"
   ]
  },
  {
   "cell_type": "code",
   "execution_count": null,
   "metadata": {},
   "outputs": [],
   "source": [
    "data['bank_affected'].value_counts()"
   ]
  },
  {
   "cell_type": "code",
   "execution_count": null,
   "metadata": {},
   "outputs": [],
   "source": [
    "data.columns"
   ]
  },
  {
   "cell_type": "code",
   "execution_count": null,
   "metadata": {},
   "outputs": [],
   "source": [
    "data=data[['BvDID_firm', 'year','NamederBank','BvDID_bank','bank_type','postcode_bank','fias', 'tfas', 'cash', 'toas', 'shfd', 'ncli', 'prov', 'culi', 'loan',\n",
    "       'cred', 'wkca', 'ncas', 'empl', 'turn', 'gros', 'depr', 'rcem', 'rtas','dateinc_year_firm', 'sector', 'small', 'year_post', 'bank_affected', 'ln_empl','ln_toas', 'ln_loan', 'capital', 'profit', 'cash_']]\n",
    "data"
   ]
  },
  {
   "cell_type": "code",
   "execution_count": null,
   "metadata": {},
   "outputs": [],
   "source": [
    "Table_1 = data.describe()\n",
    "Table_1"
   ]
  },
  {
   "cell_type": "code",
   "execution_count": null,
   "metadata": {},
   "outputs": [],
   "source": [
    "def table_sum_stats(data):\n",
    "    \n",
    "    variables = data[\n",
    "        [\n",
    "            \"fias\",\n",
    "            \"tfas\",\n",
    "            \"cash\",\n",
    "            \"toas\",\n",
    "            \"shfd\",\n",
    "            \"ncli\",\n",
    "            \"prov\",\n",
    "            \"culi\",\n",
    "            \"loan\",\n",
    "            \"cred\",\n",
    "            \"wkca\",\n",
    "            \"ncas\",\n",
    "            \"empl\",\n",
    "            \"turn\",\n",
    "            \"gros\",\n",
    "            \"depr\",\n",
    "            \"rcem\",\n",
    "            \"rtas\",\n",
    "            \"small\",\n",
    "            \"year_post\",\n",
    "            \"bank_affected\",\n",
    "            \"ln_empl\",\n",
    "            \"ln_toas\",\n",
    "            \"capital\",\n",
    "            \"profit\",\n",
    "            \"cash_\",\n",
    "        ]\n",
    "    ]\n",
    "\n",
    "    table = pd.DataFrame()\n",
    "    table[\"Observation\"] = variables.count()\n",
    "    table[\"Mean\"] = variables.mean()\n",
    "    table[\"Standard Deviation\"] = variables.std()\n",
    "    table[\"min\"] = variables.min()\n",
    "    table[\"max\"] = variables.max()\n",
    "    table = table.astype(float).round(3)\n",
    "    table[\"Description\"] = [\n",
    "            \"fixed assets\",\n",
    "            \"tangible fixed assets\",\n",
    "            \"cash\",\n",
    "            \"total assets\",\n",
    "            \"capital\",\n",
    "            \"non-current liabilities\",\n",
    "            \"provisions\",\n",
    "            \"current liabilities\",\n",
    "            \"loans\",\n",
    "            \"trade credit\",\n",
    "            \"working capital\",\n",
    "            \"net current assets\",\n",
    "            \"employees\",\n",
    "            \"turnover\",\n",
    "            \"gross profit\",\n",
    "            \"depreciation\",\n",
    "            \"return on capital employed(%)\",\n",
    "            \"return on total assets(%)\",\n",
    "            \"dummy variable equal to 1 if the firm has fewer than 20 employees\",\n",
    "            \"dummy variable equal to 1 in and after 2009\",\n",
    "            \"dummy variable equal to 1 if the firm has a credit relationship with at least one savings bank that became affected in 2007 or 2008\",\n",
    "            \"ln_empl\",\n",
    "            \"ln_toas\",\n",
    "            \"ratio of the firm’s equity to total assets\",\n",
    "            \"ratio of the firm’s total profits to total assets\",\n",
    "            \"cash_\",\n",
    "    ]\n",
    "    \n",
    "\n",
    "    return table"
   ]
  },
  {
   "cell_type": "code",
   "execution_count": null,
   "metadata": {
    "scrolled": true
   },
   "outputs": [],
   "source": [
    "table_3 = table_sum_stats(data)\n",
    "table_3"
   ]
  },
  {
   "cell_type": "code",
   "execution_count": null,
   "metadata": {},
   "outputs": [],
   "source": [
    "data"
   ]
  },
  {
   "cell_type": "code",
   "execution_count": null,
   "metadata": {},
   "outputs": [],
   "source": [
    "# ^.{0,3}"
   ]
  },
  {
   "cell_type": "code",
   "execution_count": null,
   "metadata": {},
   "outputs": [],
   "source": [
    "# data[\"state\"]="
   ]
  },
  {
   "cell_type": "code",
   "execution_count": null,
   "metadata": {},
   "outputs": [],
   "source": [
    "data.to_csv(path_or_buf=r'/Users/effie/Desktop/term3/research_module/data/clean/frim_data1208.csv')"
   ]
  },
  {
   "cell_type": "code",
   "execution_count": null,
   "metadata": {},
   "outputs": [],
   "source": []
  },
  {
   "cell_type": "code",
   "execution_count": null,
   "metadata": {},
   "outputs": [],
   "source": []
  },
  {
   "cell_type": "code",
   "execution_count": null,
   "metadata": {},
   "outputs": [],
   "source": []
  },
  {
   "cell_type": "code",
   "execution_count": null,
   "metadata": {},
   "outputs": [],
   "source": []
  },
  {
   "cell_type": "code",
   "execution_count": null,
   "metadata": {},
   "outputs": [],
   "source": []
  },
  {
   "cell_type": "code",
   "execution_count": null,
   "metadata": {},
   "outputs": [],
   "source": []
  }
 ],
 "metadata": {
  "kernelspec": {
   "display_name": "Python 3",
   "language": "python",
   "name": "python3"
  },
  "language_info": {
   "codemirror_mode": {
    "name": "ipython",
    "version": 3
   },
   "file_extension": ".py",
   "mimetype": "text/x-python",
   "name": "python",
   "nbconvert_exporter": "python",
   "pygments_lexer": "ipython3",
   "version": "3.8.5"
  }
 },
 "nbformat": 4,
 "nbformat_minor": 2
}
